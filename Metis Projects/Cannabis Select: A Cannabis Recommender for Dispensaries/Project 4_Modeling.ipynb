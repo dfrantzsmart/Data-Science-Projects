{
 "cells": [
  {
   "cell_type": "code",
   "execution_count": 120,
   "metadata": {
    "ExecuteTime": {
     "end_time": "2019-11-14T21:05:38.903473Z",
     "start_time": "2019-11-14T21:05:38.872441Z"
    }
   },
   "outputs": [],
   "source": [
    "import pandas as pd\n",
    "import numpy as np\n",
    "import nltk \n",
    "import pandas as pd\n",
    "from sklearn.feature_extraction.text import CountVectorizer \n",
    "from sklearn.decomposition import TruncatedSVD\n",
    "from sklearn.decomposition import NMF\n",
    "from sklearn.metrics.pairwise import cosine_similarity,euclidean_distances\n",
    "from sklearn.feature_extraction import text \n",
    "from sklearn.feature_extraction.text import TfidfVectorizer\n",
    "from sklearn.feature_extraction.text import TfidfTransformer\n",
    "\n",
    "from gensim import corpora, models, similarities, matutils\n",
    "from sklearn import datasets\n",
    "from sklearn.feature_extraction.text import CountVectorizer\n",
    "import logging\n",
    "logging.basicConfig(format='%(asctime)s : %(levelname)s : %(message)s', level=logging.INFO)\n",
    "from scipy.sparse import csc_matrix\n",
    "from sklearn.decomposition import LatentDirichletAllocation\n",
    "from sklearn.feature_extraction.text import CountVectorizer\n",
    "from nltk.stem.lancaster import LancasterStemmer\n",
    "\n"
   ]
  },
  {
   "cell_type": "code",
   "execution_count": 2,
   "metadata": {
    "ExecuteTime": {
     "end_time": "2019-11-14T20:26:31.433037Z",
     "start_time": "2019-11-14T20:26:31.342515Z"
    }
   },
   "outputs": [
    {
     "data": {
      "text/plain": [
       "Collection(Database(MongoClient(host=['localhost:27017'], document_class=dict, tz_aware=False, connect=True), 'strain_project'), 'strains')"
      ]
     },
     "execution_count": 2,
     "metadata": {},
     "output_type": "execute_result"
    }
   ],
   "source": [
    "from pymongo import MongoClient\n",
    "from pprint import pprint\n",
    "\n",
    "client = MongoClient()\n",
    "\n",
    "db = client.strain_project\n",
    "\n",
    "db.strains"
   ]
  },
  {
   "cell_type": "code",
   "execution_count": 3,
   "metadata": {
    "ExecuteTime": {
     "end_time": "2019-11-14T20:26:43.596923Z",
     "start_time": "2019-11-14T20:26:34.519365Z"
    }
   },
   "outputs": [],
   "source": [
    "strain_initial = pd.DataFrame(db.strains.find())"
   ]
  },
  {
   "cell_type": "code",
   "execution_count": 4,
   "metadata": {
    "ExecuteTime": {
     "end_time": "2019-11-14T20:26:43.636750Z",
     "start_time": "2019-11-14T20:26:43.601171Z"
    }
   },
   "outputs": [
    {
     "data": {
      "text/html": [
       "<div>\n",
       "<style scoped>\n",
       "    .dataframe tbody tr th:only-of-type {\n",
       "        vertical-align: middle;\n",
       "    }\n",
       "\n",
       "    .dataframe tbody tr th {\n",
       "        vertical-align: top;\n",
       "    }\n",
       "\n",
       "    .dataframe thead th {\n",
       "        text-align: right;\n",
       "    }\n",
       "</style>\n",
       "<table border=\"1\" class=\"dataframe\">\n",
       "  <thead>\n",
       "    <tr style=\"text-align: right;\">\n",
       "      <th></th>\n",
       "      <th>_id</th>\n",
       "      <th>username</th>\n",
       "      <th>url</th>\n",
       "      <th>review</th>\n",
       "      <th>strain_name</th>\n",
       "    </tr>\n",
       "  </thead>\n",
       "  <tbody>\n",
       "    <tr>\n",
       "      <th>0</th>\n",
       "      <td>5dc33348e1127a705e2ce279</td>\n",
       "      <td>luvlivinlife</td>\n",
       "      <td>https://www.leafly.com/sativa/gorkle/reviews/1...</td>\n",
       "      <td>“40% head 60% body. Nice flavor 20 or 30 min b...</td>\n",
       "      <td>gorkle</td>\n",
       "    </tr>\n",
       "    <tr>\n",
       "      <th>1</th>\n",
       "      <td>5dc33348e1127a705e2ce27a</td>\n",
       "      <td>luvlivinlife</td>\n",
       "      <td>https://www.leafly.com/sativa/gorkle/reviews/1...</td>\n",
       "      <td>“Love this strain. Happy, Calm, Relaxed but no...</td>\n",
       "      <td>gorkle</td>\n",
       "    </tr>\n",
       "    <tr>\n",
       "      <th>2</th>\n",
       "      <td>5dc33349e1127a705e2ce27b</td>\n",
       "      <td>wespeterson24</td>\n",
       "      <td>https://www.leafly.com/hybrid/longbottom-leaf/...</td>\n",
       "      <td>“Are you looking to get shire-smacked in the f...</td>\n",
       "      <td>longbottom-leaf</td>\n",
       "    </tr>\n",
       "    <tr>\n",
       "      <th>3</th>\n",
       "      <td>5dc33349e1127a705e2ce27c</td>\n",
       "      <td>mtn420man</td>\n",
       "      <td>https://www.leafly.com/hybrid/longbottom-leaf/...</td>\n",
       "      <td>“Such a smooth smoke. Instant head high, very ...</td>\n",
       "      <td>longbottom-leaf</td>\n",
       "    </tr>\n",
       "    <tr>\n",
       "      <th>4</th>\n",
       "      <td>5dc33349e1127a705e2ce27d</td>\n",
       "      <td>rjjia</td>\n",
       "      <td>https://www.leafly.com/hybrid/longbottom-leaf/...</td>\n",
       "      <td>“I now truly understand the beauty of middle e...</td>\n",
       "      <td>longbottom-leaf</td>\n",
       "    </tr>\n",
       "  </tbody>\n",
       "</table>\n",
       "</div>"
      ],
      "text/plain": [
       "                        _id       username  \\\n",
       "0  5dc33348e1127a705e2ce279   luvlivinlife   \n",
       "1  5dc33348e1127a705e2ce27a   luvlivinlife   \n",
       "2  5dc33349e1127a705e2ce27b  wespeterson24   \n",
       "3  5dc33349e1127a705e2ce27c      mtn420man   \n",
       "4  5dc33349e1127a705e2ce27d          rjjia   \n",
       "\n",
       "                                                 url  \\\n",
       "0  https://www.leafly.com/sativa/gorkle/reviews/1...   \n",
       "1  https://www.leafly.com/sativa/gorkle/reviews/1...   \n",
       "2  https://www.leafly.com/hybrid/longbottom-leaf/...   \n",
       "3  https://www.leafly.com/hybrid/longbottom-leaf/...   \n",
       "4  https://www.leafly.com/hybrid/longbottom-leaf/...   \n",
       "\n",
       "                                              review      strain_name  \n",
       "0  “40% head 60% body. Nice flavor 20 or 30 min b...           gorkle  \n",
       "1  “Love this strain. Happy, Calm, Relaxed but no...           gorkle  \n",
       "2  “Are you looking to get shire-smacked in the f...  longbottom-leaf  \n",
       "3  “Such a smooth smoke. Instant head high, very ...  longbottom-leaf  \n",
       "4  “I now truly understand the beauty of middle e...  longbottom-leaf  "
      ]
     },
     "execution_count": 4,
     "metadata": {},
     "output_type": "execute_result"
    }
   ],
   "source": [
    "strain_initial.head()"
   ]
  },
  {
   "cell_type": "code",
   "execution_count": 5,
   "metadata": {
    "ExecuteTime": {
     "end_time": "2019-11-14T20:26:43.647515Z",
     "start_time": "2019-11-14T20:26:43.641557Z"
    }
   },
   "outputs": [
    {
     "data": {
      "text/plain": [
       "(898280, 5)"
      ]
     },
     "execution_count": 5,
     "metadata": {},
     "output_type": "execute_result"
    }
   ],
   "source": [
    "strain_initial.shape"
   ]
  },
  {
   "cell_type": "code",
   "execution_count": 6,
   "metadata": {
    "ExecuteTime": {
     "end_time": "2019-11-14T20:26:44.255025Z",
     "start_time": "2019-11-14T20:26:43.651225Z"
    }
   },
   "outputs": [],
   "source": [
    "strain_initial=strain_initial.drop_duplicates(subset=\"review\")"
   ]
  },
  {
   "cell_type": "code",
   "execution_count": 7,
   "metadata": {
    "ExecuteTime": {
     "end_time": "2019-11-14T20:26:44.289582Z",
     "start_time": "2019-11-14T20:26:44.256966Z"
    }
   },
   "outputs": [
    {
     "data": {
      "text/html": [
       "<div>\n",
       "<style scoped>\n",
       "    .dataframe tbody tr th:only-of-type {\n",
       "        vertical-align: middle;\n",
       "    }\n",
       "\n",
       "    .dataframe tbody tr th {\n",
       "        vertical-align: top;\n",
       "    }\n",
       "\n",
       "    .dataframe thead th {\n",
       "        text-align: right;\n",
       "    }\n",
       "</style>\n",
       "<table border=\"1\" class=\"dataframe\">\n",
       "  <thead>\n",
       "    <tr style=\"text-align: right;\">\n",
       "      <th></th>\n",
       "      <th>index</th>\n",
       "      <th>_id</th>\n",
       "      <th>username</th>\n",
       "      <th>url</th>\n",
       "      <th>review</th>\n",
       "      <th>strain_name</th>\n",
       "    </tr>\n",
       "  </thead>\n",
       "  <tbody>\n",
       "    <tr>\n",
       "      <th>0</th>\n",
       "      <td>0</td>\n",
       "      <td>5dc33348e1127a705e2ce279</td>\n",
       "      <td>luvlivinlife</td>\n",
       "      <td>https://www.leafly.com/sativa/gorkle/reviews/1...</td>\n",
       "      <td>“40% head 60% body. Nice flavor 20 or 30 min b...</td>\n",
       "      <td>gorkle</td>\n",
       "    </tr>\n",
       "    <tr>\n",
       "      <th>1</th>\n",
       "      <td>1</td>\n",
       "      <td>5dc33348e1127a705e2ce27a</td>\n",
       "      <td>luvlivinlife</td>\n",
       "      <td>https://www.leafly.com/sativa/gorkle/reviews/1...</td>\n",
       "      <td>“Love this strain. Happy, Calm, Relaxed but no...</td>\n",
       "      <td>gorkle</td>\n",
       "    </tr>\n",
       "    <tr>\n",
       "      <th>2</th>\n",
       "      <td>2</td>\n",
       "      <td>5dc33349e1127a705e2ce27b</td>\n",
       "      <td>wespeterson24</td>\n",
       "      <td>https://www.leafly.com/hybrid/longbottom-leaf/...</td>\n",
       "      <td>“Are you looking to get shire-smacked in the f...</td>\n",
       "      <td>longbottom-leaf</td>\n",
       "    </tr>\n",
       "    <tr>\n",
       "      <th>3</th>\n",
       "      <td>3</td>\n",
       "      <td>5dc33349e1127a705e2ce27c</td>\n",
       "      <td>mtn420man</td>\n",
       "      <td>https://www.leafly.com/hybrid/longbottom-leaf/...</td>\n",
       "      <td>“Such a smooth smoke. Instant head high, very ...</td>\n",
       "      <td>longbottom-leaf</td>\n",
       "    </tr>\n",
       "    <tr>\n",
       "      <th>4</th>\n",
       "      <td>4</td>\n",
       "      <td>5dc33349e1127a705e2ce27d</td>\n",
       "      <td>rjjia</td>\n",
       "      <td>https://www.leafly.com/hybrid/longbottom-leaf/...</td>\n",
       "      <td>“I now truly understand the beauty of middle e...</td>\n",
       "      <td>longbottom-leaf</td>\n",
       "    </tr>\n",
       "    <tr>\n",
       "      <th>...</th>\n",
       "      <td>...</td>\n",
       "      <td>...</td>\n",
       "      <td>...</td>\n",
       "      <td>...</td>\n",
       "      <td>...</td>\n",
       "      <td>...</td>\n",
       "    </tr>\n",
       "    <tr>\n",
       "      <th>165926</th>\n",
       "      <td>224565</td>\n",
       "      <td>5dc3335ee1127a705e304fae</td>\n",
       "      <td>MizzGizzi</td>\n",
       "      <td>https://www.leafly.com/hybrid/blue-magoo/revie...</td>\n",
       "      <td>“I really liked this strain for my day time. I...</td>\n",
       "      <td>blue-magoo</td>\n",
       "    </tr>\n",
       "    <tr>\n",
       "      <th>165927</th>\n",
       "      <td>224566</td>\n",
       "      <td>5dc3335ee1127a705e304faf</td>\n",
       "      <td>RecWreck</td>\n",
       "      <td>https://www.leafly.com/hybrid/blue-magoo/revie...</td>\n",
       "      <td>“Made me giggly with a very noticeable headkic...</td>\n",
       "      <td>blue-magoo</td>\n",
       "    </tr>\n",
       "    <tr>\n",
       "      <th>165928</th>\n",
       "      <td>224567</td>\n",
       "      <td>5dc3335ee1127a705e304fb0</td>\n",
       "      <td>samboogie</td>\n",
       "      <td>https://www.leafly.com/hybrid/blue-magoo/revie...</td>\n",
       "      <td>“just hit the bammer with this bud wow i feel ...</td>\n",
       "      <td>blue-magoo</td>\n",
       "    </tr>\n",
       "    <tr>\n",
       "      <th>165929</th>\n",
       "      <td>224568</td>\n",
       "      <td>5dc3335ee1127a705e304fb1</td>\n",
       "      <td>dapperErl</td>\n",
       "      <td>https://www.leafly.com/hybrid/blue-magoo/revie...</td>\n",
       "      <td>“The Blue Magoo from Forbidden Farms is FIRE!!...</td>\n",
       "      <td>blue-magoo</td>\n",
       "    </tr>\n",
       "    <tr>\n",
       "      <th>165930</th>\n",
       "      <td>224569</td>\n",
       "      <td>5dc3335ee1127a705e304fb2</td>\n",
       "      <td>ConnorsLeafs</td>\n",
       "      <td>https://www.leafly.com/hybrid/blue-magoo/revie...</td>\n",
       "      <td>“Made me very hungry. The high had me forgetti...</td>\n",
       "      <td>blue-magoo</td>\n",
       "    </tr>\n",
       "  </tbody>\n",
       "</table>\n",
       "<p>165931 rows × 6 columns</p>\n",
       "</div>"
      ],
      "text/plain": [
       "         index                       _id       username  \\\n",
       "0            0  5dc33348e1127a705e2ce279   luvlivinlife   \n",
       "1            1  5dc33348e1127a705e2ce27a   luvlivinlife   \n",
       "2            2  5dc33349e1127a705e2ce27b  wespeterson24   \n",
       "3            3  5dc33349e1127a705e2ce27c      mtn420man   \n",
       "4            4  5dc33349e1127a705e2ce27d          rjjia   \n",
       "...        ...                       ...            ...   \n",
       "165926  224565  5dc3335ee1127a705e304fae      MizzGizzi   \n",
       "165927  224566  5dc3335ee1127a705e304faf       RecWreck   \n",
       "165928  224567  5dc3335ee1127a705e304fb0      samboogie   \n",
       "165929  224568  5dc3335ee1127a705e304fb1      dapperErl   \n",
       "165930  224569  5dc3335ee1127a705e304fb2   ConnorsLeafs   \n",
       "\n",
       "                                                      url  \\\n",
       "0       https://www.leafly.com/sativa/gorkle/reviews/1...   \n",
       "1       https://www.leafly.com/sativa/gorkle/reviews/1...   \n",
       "2       https://www.leafly.com/hybrid/longbottom-leaf/...   \n",
       "3       https://www.leafly.com/hybrid/longbottom-leaf/...   \n",
       "4       https://www.leafly.com/hybrid/longbottom-leaf/...   \n",
       "...                                                   ...   \n",
       "165926  https://www.leafly.com/hybrid/blue-magoo/revie...   \n",
       "165927  https://www.leafly.com/hybrid/blue-magoo/revie...   \n",
       "165928  https://www.leafly.com/hybrid/blue-magoo/revie...   \n",
       "165929  https://www.leafly.com/hybrid/blue-magoo/revie...   \n",
       "165930  https://www.leafly.com/hybrid/blue-magoo/revie...   \n",
       "\n",
       "                                                   review      strain_name  \n",
       "0       “40% head 60% body. Nice flavor 20 or 30 min b...           gorkle  \n",
       "1       “Love this strain. Happy, Calm, Relaxed but no...           gorkle  \n",
       "2       “Are you looking to get shire-smacked in the f...  longbottom-leaf  \n",
       "3       “Such a smooth smoke. Instant head high, very ...  longbottom-leaf  \n",
       "4       “I now truly understand the beauty of middle e...  longbottom-leaf  \n",
       "...                                                   ...              ...  \n",
       "165926  “I really liked this strain for my day time. I...       blue-magoo  \n",
       "165927  “Made me giggly with a very noticeable headkic...       blue-magoo  \n",
       "165928  “just hit the bammer with this bud wow i feel ...       blue-magoo  \n",
       "165929  “The Blue Magoo from Forbidden Farms is FIRE!!...       blue-magoo  \n",
       "165930  “Made me very hungry. The high had me forgetti...       blue-magoo  \n",
       "\n",
       "[165931 rows x 6 columns]"
      ]
     },
     "execution_count": 7,
     "metadata": {},
     "output_type": "execute_result"
    }
   ],
   "source": [
    "strain_initial.reset_index()"
   ]
  },
  {
   "cell_type": "code",
   "execution_count": 8,
   "metadata": {
    "ExecuteTime": {
     "end_time": "2019-11-14T20:26:47.251436Z",
     "start_time": "2019-11-14T20:26:47.241248Z"
    }
   },
   "outputs": [
    {
     "data": {
      "text/plain": [
       "(165931, 5)"
      ]
     },
     "execution_count": 8,
     "metadata": {},
     "output_type": "execute_result"
    }
   ],
   "source": [
    "strain_initial.shape"
   ]
  },
  {
   "cell_type": "code",
   "execution_count": 9,
   "metadata": {
    "ExecuteTime": {
     "end_time": "2019-11-14T20:26:48.563744Z",
     "start_time": "2019-11-14T20:26:48.532109Z"
    }
   },
   "outputs": [],
   "source": [
    "strain_1 = strain_initial.copy()"
   ]
  },
  {
   "cell_type": "code",
   "execution_count": 10,
   "metadata": {
    "ExecuteTime": {
     "end_time": "2019-11-14T20:26:49.275364Z",
     "start_time": "2019-11-14T20:26:49.189030Z"
    }
   },
   "outputs": [
    {
     "data": {
      "text/plain": [
       "_id            False\n",
       "username       False\n",
       "url             True\n",
       "review          True\n",
       "strain_name    False\n",
       "dtype: bool"
      ]
     },
     "execution_count": 10,
     "metadata": {},
     "output_type": "execute_result"
    }
   ],
   "source": [
    "strain_1.isna().any()"
   ]
  },
  {
   "cell_type": "code",
   "execution_count": 11,
   "metadata": {
    "ExecuteTime": {
     "end_time": "2019-11-14T20:26:51.287629Z",
     "start_time": "2019-11-14T20:26:51.162789Z"
    }
   },
   "outputs": [],
   "source": [
    "strain_1=strain_1.dropna(subset=['review','url'])"
   ]
  },
  {
   "cell_type": "code",
   "execution_count": 12,
   "metadata": {
    "ExecuteTime": {
     "end_time": "2019-11-14T20:26:52.009843Z",
     "start_time": "2019-11-14T20:26:51.947639Z"
    }
   },
   "outputs": [
    {
     "data": {
      "text/plain": [
       "_id            False\n",
       "username       False\n",
       "url            False\n",
       "review         False\n",
       "strain_name    False\n",
       "dtype: bool"
      ]
     },
     "execution_count": 12,
     "metadata": {},
     "output_type": "execute_result"
    }
   ],
   "source": [
    "strain_1.isna().any()"
   ]
  },
  {
   "cell_type": "code",
   "execution_count": 13,
   "metadata": {
    "ExecuteTime": {
     "end_time": "2019-11-14T20:26:53.578624Z",
     "start_time": "2019-11-14T20:26:53.512796Z"
    }
   },
   "outputs": [
    {
     "name": "stdout",
     "output_type": "stream",
     "text": [
      "<class 'pandas.core.frame.DataFrame'>\n",
      "Int64Index: 165928 entries, 0 to 224569\n",
      "Data columns (total 5 columns):\n",
      "_id            165928 non-null object\n",
      "username       165928 non-null object\n",
      "url            165928 non-null object\n",
      "review         165928 non-null object\n",
      "strain_name    165928 non-null object\n",
      "dtypes: object(5)\n",
      "memory usage: 7.6+ MB\n"
     ]
    }
   ],
   "source": [
    "strain_1.info()"
   ]
  },
  {
   "cell_type": "code",
   "execution_count": 14,
   "metadata": {
    "ExecuteTime": {
     "end_time": "2019-11-14T20:26:55.443380Z",
     "start_time": "2019-11-14T20:26:55.408122Z"
    }
   },
   "outputs": [
    {
     "data": {
      "text/plain": [
       "sour-diesel                  3166\n",
       "gsc                          3108\n",
       "green-crack                  2764\n",
       "og-kush                      2354\n",
       "original-glue                2081\n",
       "                             ... \n",
       "misty-morning                   1\n",
       "perfect-purple                  1\n",
       "ghostbreath                     1\n",
       "grandma-andersons-cookies       1\n",
       "truffula-tree                   1\n",
       "Name: strain_name, Length: 2543, dtype: int64"
      ]
     },
     "execution_count": 14,
     "metadata": {},
     "output_type": "execute_result"
    }
   ],
   "source": [
    "strain_1['strain_name'].value_counts()"
   ]
  },
  {
   "cell_type": "code",
   "execution_count": 15,
   "metadata": {
    "ExecuteTime": {
     "end_time": "2019-11-14T20:26:56.833014Z",
     "start_time": "2019-11-14T20:26:56.824028Z"
    }
   },
   "outputs": [],
   "source": [
    "pd.set_option('display.max_rows', 50)\n",
    "pd.set_option('display.max_columns', 50)"
   ]
  },
  {
   "cell_type": "code",
   "execution_count": 16,
   "metadata": {
    "ExecuteTime": {
     "end_time": "2019-11-14T20:26:59.090522Z",
     "start_time": "2019-11-14T20:26:59.051809Z"
    }
   },
   "outputs": [],
   "source": [
    "strain_count=pd.DataFrame(strain_1['strain_name'].value_counts())"
   ]
  },
  {
   "cell_type": "code",
   "execution_count": 17,
   "metadata": {
    "ExecuteTime": {
     "end_time": "2019-11-14T20:26:59.952360Z",
     "start_time": "2019-11-14T20:26:59.940370Z"
    }
   },
   "outputs": [
    {
     "data": {
      "text/html": [
       "<div>\n",
       "<style scoped>\n",
       "    .dataframe tbody tr th:only-of-type {\n",
       "        vertical-align: middle;\n",
       "    }\n",
       "\n",
       "    .dataframe tbody tr th {\n",
       "        vertical-align: top;\n",
       "    }\n",
       "\n",
       "    .dataframe thead th {\n",
       "        text-align: right;\n",
       "    }\n",
       "</style>\n",
       "<table border=\"1\" class=\"dataframe\">\n",
       "  <thead>\n",
       "    <tr style=\"text-align: right;\">\n",
       "      <th></th>\n",
       "      <th>strain_name</th>\n",
       "    </tr>\n",
       "  </thead>\n",
       "  <tbody>\n",
       "    <tr>\n",
       "      <th>sour-diesel</th>\n",
       "      <td>3166</td>\n",
       "    </tr>\n",
       "    <tr>\n",
       "      <th>gsc</th>\n",
       "      <td>3108</td>\n",
       "    </tr>\n",
       "    <tr>\n",
       "      <th>green-crack</th>\n",
       "      <td>2764</td>\n",
       "    </tr>\n",
       "    <tr>\n",
       "      <th>og-kush</th>\n",
       "      <td>2354</td>\n",
       "    </tr>\n",
       "    <tr>\n",
       "      <th>original-glue</th>\n",
       "      <td>2081</td>\n",
       "    </tr>\n",
       "    <tr>\n",
       "      <th>granddaddy-purple</th>\n",
       "      <td>2045</td>\n",
       "    </tr>\n",
       "    <tr>\n",
       "      <th>jack-herer</th>\n",
       "      <td>1836</td>\n",
       "    </tr>\n",
       "    <tr>\n",
       "      <th>white-widow</th>\n",
       "      <td>1710</td>\n",
       "    </tr>\n",
       "    <tr>\n",
       "      <th>bubba-kush</th>\n",
       "      <td>1634</td>\n",
       "    </tr>\n",
       "    <tr>\n",
       "      <th>pineapple-express</th>\n",
       "      <td>1520</td>\n",
       "    </tr>\n",
       "    <tr>\n",
       "      <th>durban-poison</th>\n",
       "      <td>1487</td>\n",
       "    </tr>\n",
       "    <tr>\n",
       "      <th>northern-lights</th>\n",
       "      <td>1357</td>\n",
       "    </tr>\n",
       "    <tr>\n",
       "      <th>trainwreck</th>\n",
       "      <td>1327</td>\n",
       "    </tr>\n",
       "    <tr>\n",
       "      <th>ak-47</th>\n",
       "      <td>1183</td>\n",
       "    </tr>\n",
       "    <tr>\n",
       "      <th>strawberry-cough</th>\n",
       "      <td>1102</td>\n",
       "    </tr>\n",
       "    <tr>\n",
       "      <th>lemon-haze</th>\n",
       "      <td>1093</td>\n",
       "    </tr>\n",
       "    <tr>\n",
       "      <th>headband</th>\n",
       "      <td>1086</td>\n",
       "    </tr>\n",
       "    <tr>\n",
       "      <th>super-silver-haze</th>\n",
       "      <td>1028</td>\n",
       "    </tr>\n",
       "    <tr>\n",
       "      <th>blueberry</th>\n",
       "      <td>1003</td>\n",
       "    </tr>\n",
       "    <tr>\n",
       "      <th>purple-kush</th>\n",
       "      <td>992</td>\n",
       "    </tr>\n",
       "    <tr>\n",
       "      <th>super-lemon-haze</th>\n",
       "      <td>969</td>\n",
       "    </tr>\n",
       "    <tr>\n",
       "      <th>grape-ape</th>\n",
       "      <td>919</td>\n",
       "    </tr>\n",
       "    <tr>\n",
       "      <th>blackberry-kush</th>\n",
       "      <td>910</td>\n",
       "    </tr>\n",
       "    <tr>\n",
       "      <th>cherry-pie</th>\n",
       "      <td>848</td>\n",
       "    </tr>\n",
       "    <tr>\n",
       "      <th>master-kush</th>\n",
       "      <td>813</td>\n",
       "    </tr>\n",
       "    <tr>\n",
       "      <th>harlequin</th>\n",
       "      <td>728</td>\n",
       "    </tr>\n",
       "    <tr>\n",
       "      <th>cheese</th>\n",
       "      <td>713</td>\n",
       "    </tr>\n",
       "    <tr>\n",
       "      <th>maui-wowie</th>\n",
       "      <td>681</td>\n",
       "    </tr>\n",
       "    <tr>\n",
       "      <th>tahoe-og</th>\n",
       "      <td>677</td>\n",
       "    </tr>\n",
       "    <tr>\n",
       "      <th>amnesia-haze</th>\n",
       "      <td>674</td>\n",
       "    </tr>\n",
       "    <tr>\n",
       "      <th>death-star</th>\n",
       "      <td>643</td>\n",
       "    </tr>\n",
       "    <tr>\n",
       "      <th>chocolope</th>\n",
       "      <td>635</td>\n",
       "    </tr>\n",
       "    <tr>\n",
       "      <th>platinum-gsc</th>\n",
       "      <td>632</td>\n",
       "    </tr>\n",
       "    <tr>\n",
       "      <th>golden-goat</th>\n",
       "      <td>628</td>\n",
       "    </tr>\n",
       "    <tr>\n",
       "      <th>sunset-sherbert</th>\n",
       "      <td>627</td>\n",
       "    </tr>\n",
       "    <tr>\n",
       "      <th>lemon-kush</th>\n",
       "      <td>623</td>\n",
       "    </tr>\n",
       "    <tr>\n",
       "      <th>la-confidential</th>\n",
       "      <td>613</td>\n",
       "    </tr>\n",
       "    <tr>\n",
       "      <th>purple-urkle</th>\n",
       "      <td>606</td>\n",
       "    </tr>\n",
       "    <tr>\n",
       "      <th>gods-gift</th>\n",
       "      <td>605</td>\n",
       "    </tr>\n",
       "    <tr>\n",
       "      <th>gelato</th>\n",
       "      <td>595</td>\n",
       "    </tr>\n",
       "    <tr>\n",
       "      <th>hindu-kush</th>\n",
       "      <td>560</td>\n",
       "    </tr>\n",
       "    <tr>\n",
       "      <th>tangie</th>\n",
       "      <td>555</td>\n",
       "    </tr>\n",
       "    <tr>\n",
       "      <th>g-13</th>\n",
       "      <td>552</td>\n",
       "    </tr>\n",
       "    <tr>\n",
       "      <th>white-rhino</th>\n",
       "      <td>550</td>\n",
       "    </tr>\n",
       "    <tr>\n",
       "      <th>lsd</th>\n",
       "      <td>538</td>\n",
       "    </tr>\n",
       "    <tr>\n",
       "      <th>cannatonic</th>\n",
       "      <td>538</td>\n",
       "    </tr>\n",
       "    <tr>\n",
       "      <th>fire-og</th>\n",
       "      <td>530</td>\n",
       "    </tr>\n",
       "    <tr>\n",
       "      <th>banana-kush</th>\n",
       "      <td>525</td>\n",
       "    </tr>\n",
       "    <tr>\n",
       "      <th>dutch-treat</th>\n",
       "      <td>522</td>\n",
       "    </tr>\n",
       "    <tr>\n",
       "      <th>mazar-x-blueberry</th>\n",
       "      <td>513</td>\n",
       "    </tr>\n",
       "  </tbody>\n",
       "</table>\n",
       "</div>"
      ],
      "text/plain": [
       "                   strain_name\n",
       "sour-diesel               3166\n",
       "gsc                       3108\n",
       "green-crack               2764\n",
       "og-kush                   2354\n",
       "original-glue             2081\n",
       "granddaddy-purple         2045\n",
       "jack-herer                1836\n",
       "white-widow               1710\n",
       "bubba-kush                1634\n",
       "pineapple-express         1520\n",
       "durban-poison             1487\n",
       "northern-lights           1357\n",
       "trainwreck                1327\n",
       "ak-47                     1183\n",
       "strawberry-cough          1102\n",
       "lemon-haze                1093\n",
       "headband                  1086\n",
       "super-silver-haze         1028\n",
       "blueberry                 1003\n",
       "purple-kush                992\n",
       "super-lemon-haze           969\n",
       "grape-ape                  919\n",
       "blackberry-kush            910\n",
       "cherry-pie                 848\n",
       "master-kush                813\n",
       "harlequin                  728\n",
       "cheese                     713\n",
       "maui-wowie                 681\n",
       "tahoe-og                   677\n",
       "amnesia-haze               674\n",
       "death-star                 643\n",
       "chocolope                  635\n",
       "platinum-gsc               632\n",
       "golden-goat                628\n",
       "sunset-sherbert            627\n",
       "lemon-kush                 623\n",
       "la-confidential            613\n",
       "purple-urkle               606\n",
       "gods-gift                  605\n",
       "gelato                     595\n",
       "hindu-kush                 560\n",
       "tangie                     555\n",
       "g-13                       552\n",
       "white-rhino                550\n",
       "lsd                        538\n",
       "cannatonic                 538\n",
       "fire-og                    530\n",
       "banana-kush                525\n",
       "dutch-treat                522\n",
       "mazar-x-blueberry          513"
      ]
     },
     "execution_count": 17,
     "metadata": {},
     "output_type": "execute_result"
    }
   ],
   "source": [
    "strain_count.head(50)"
   ]
  },
  {
   "cell_type": "code",
   "execution_count": 18,
   "metadata": {
    "ExecuteTime": {
     "end_time": "2019-11-14T20:27:04.571056Z",
     "start_time": "2019-11-14T20:27:04.565759Z"
    }
   },
   "outputs": [],
   "source": [
    "import re # Regular expression library\n",
    "import string"
   ]
  },
  {
   "cell_type": "code",
   "execution_count": 19,
   "metadata": {
    "ExecuteTime": {
     "end_time": "2019-11-14T20:27:05.647419Z",
     "start_time": "2019-11-14T20:27:05.632570Z"
    }
   },
   "outputs": [
    {
     "data": {
      "text/html": [
       "<div>\n",
       "<style scoped>\n",
       "    .dataframe tbody tr th:only-of-type {\n",
       "        vertical-align: middle;\n",
       "    }\n",
       "\n",
       "    .dataframe tbody tr th {\n",
       "        vertical-align: top;\n",
       "    }\n",
       "\n",
       "    .dataframe thead th {\n",
       "        text-align: right;\n",
       "    }\n",
       "</style>\n",
       "<table border=\"1\" class=\"dataframe\">\n",
       "  <thead>\n",
       "    <tr style=\"text-align: right;\">\n",
       "      <th></th>\n",
       "      <th>_id</th>\n",
       "      <th>username</th>\n",
       "      <th>url</th>\n",
       "      <th>review</th>\n",
       "      <th>strain_name</th>\n",
       "      <th>clean_review</th>\n",
       "    </tr>\n",
       "  </thead>\n",
       "  <tbody>\n",
       "    <tr>\n",
       "      <th>0</th>\n",
       "      <td>5dc33348e1127a705e2ce279</td>\n",
       "      <td>luvlivinlife</td>\n",
       "      <td>https://www.leafly.com/sativa/gorkle/reviews/1...</td>\n",
       "      <td>“40% head 60% body. Nice flavor 20 or 30 min b...</td>\n",
       "      <td>gorkle</td>\n",
       "      <td>“40% head 60% body. Nice flavor 20 or 30 min b...</td>\n",
       "    </tr>\n",
       "    <tr>\n",
       "      <th>1</th>\n",
       "      <td>5dc33348e1127a705e2ce27a</td>\n",
       "      <td>luvlivinlife</td>\n",
       "      <td>https://www.leafly.com/sativa/gorkle/reviews/1...</td>\n",
       "      <td>“Love this strain. Happy, Calm, Relaxed but no...</td>\n",
       "      <td>gorkle</td>\n",
       "      <td>“Love this strain. Happy, Calm, Relaxed but no...</td>\n",
       "    </tr>\n",
       "    <tr>\n",
       "      <th>2</th>\n",
       "      <td>5dc33349e1127a705e2ce27b</td>\n",
       "      <td>wespeterson24</td>\n",
       "      <td>https://www.leafly.com/hybrid/longbottom-leaf/...</td>\n",
       "      <td>“Are you looking to get shire-smacked in the f...</td>\n",
       "      <td>longbottom-leaf</td>\n",
       "      <td>“Are you looking to get shire-smacked in the f...</td>\n",
       "    </tr>\n",
       "  </tbody>\n",
       "</table>\n",
       "</div>"
      ],
      "text/plain": [
       "                        _id       username  \\\n",
       "0  5dc33348e1127a705e2ce279   luvlivinlife   \n",
       "1  5dc33348e1127a705e2ce27a   luvlivinlife   \n",
       "2  5dc33349e1127a705e2ce27b  wespeterson24   \n",
       "\n",
       "                                                 url  \\\n",
       "0  https://www.leafly.com/sativa/gorkle/reviews/1...   \n",
       "1  https://www.leafly.com/sativa/gorkle/reviews/1...   \n",
       "2  https://www.leafly.com/hybrid/longbottom-leaf/...   \n",
       "\n",
       "                                              review      strain_name  \\\n",
       "0  “40% head 60% body. Nice flavor 20 or 30 min b...           gorkle   \n",
       "1  “Love this strain. Happy, Calm, Relaxed but no...           gorkle   \n",
       "2  “Are you looking to get shire-smacked in the f...  longbottom-leaf   \n",
       "\n",
       "                                        clean_review  \n",
       "0  “40% head 60% body. Nice flavor 20 or 30 min b...  \n",
       "1  “Love this strain. Happy, Calm, Relaxed but no...  \n",
       "2  “Are you looking to get shire-smacked in the f...  "
      ]
     },
     "execution_count": 19,
     "metadata": {},
     "output_type": "execute_result"
    }
   ],
   "source": [
    "strain_1['clean_review']=strain_1['review']\n",
    "strain_1.head(3)"
   ]
  },
  {
   "cell_type": "code",
   "execution_count": 20,
   "metadata": {
    "ExecuteTime": {
     "end_time": "2019-11-14T20:27:11.381820Z",
     "start_time": "2019-11-14T20:27:11.375374Z"
    }
   },
   "outputs": [],
   "source": [
    "def clean_text (text):\n",
    "    new_text= re.sub('[%s]' % re.escape(string.punctuation), ' ',text) \n",
    "    new_text=re.sub('\\w*\\d\\w*', ' ',new_text)\n",
    "    new_text=new_text.lower()\n",
    "    new_text=re.sub(r\"[^a-zA-Z0-9]+\", ' ',new_text)\n",
    "    \n",
    "    return new_text"
   ]
  },
  {
   "cell_type": "code",
   "execution_count": 21,
   "metadata": {
    "ExecuteTime": {
     "end_time": "2019-11-14T20:27:20.241924Z",
     "start_time": "2019-11-14T20:27:12.969725Z"
    }
   },
   "outputs": [],
   "source": [
    "strain_1['clean_review'] = strain_1['review'].apply(lambda x: clean_text(x))"
   ]
  },
  {
   "cell_type": "code",
   "execution_count": 22,
   "metadata": {
    "ExecuteTime": {
     "end_time": "2019-11-14T20:27:20.256481Z",
     "start_time": "2019-11-14T20:27:20.244856Z"
    }
   },
   "outputs": [
    {
     "data": {
      "text/html": [
       "<div>\n",
       "<style scoped>\n",
       "    .dataframe tbody tr th:only-of-type {\n",
       "        vertical-align: middle;\n",
       "    }\n",
       "\n",
       "    .dataframe tbody tr th {\n",
       "        vertical-align: top;\n",
       "    }\n",
       "\n",
       "    .dataframe thead th {\n",
       "        text-align: right;\n",
       "    }\n",
       "</style>\n",
       "<table border=\"1\" class=\"dataframe\">\n",
       "  <thead>\n",
       "    <tr style=\"text-align: right;\">\n",
       "      <th></th>\n",
       "      <th>_id</th>\n",
       "      <th>username</th>\n",
       "      <th>url</th>\n",
       "      <th>review</th>\n",
       "      <th>strain_name</th>\n",
       "      <th>clean_review</th>\n",
       "    </tr>\n",
       "  </thead>\n",
       "  <tbody>\n",
       "    <tr>\n",
       "      <th>0</th>\n",
       "      <td>5dc33348e1127a705e2ce279</td>\n",
       "      <td>luvlivinlife</td>\n",
       "      <td>https://www.leafly.com/sativa/gorkle/reviews/1...</td>\n",
       "      <td>“40% head 60% body. Nice flavor 20 or 30 min b...</td>\n",
       "      <td>gorkle</td>\n",
       "      <td>head body nice flavor or min before full affe...</td>\n",
       "    </tr>\n",
       "    <tr>\n",
       "      <th>1</th>\n",
       "      <td>5dc33348e1127a705e2ce27a</td>\n",
       "      <td>luvlivinlife</td>\n",
       "      <td>https://www.leafly.com/sativa/gorkle/reviews/1...</td>\n",
       "      <td>“Love this strain. Happy, Calm, Relaxed but no...</td>\n",
       "      <td>gorkle</td>\n",
       "      <td>love this strain happy calm relaxed but not g...</td>\n",
       "    </tr>\n",
       "    <tr>\n",
       "      <th>2</th>\n",
       "      <td>5dc33349e1127a705e2ce27b</td>\n",
       "      <td>wespeterson24</td>\n",
       "      <td>https://www.leafly.com/hybrid/longbottom-leaf/...</td>\n",
       "      <td>“Are you looking to get shire-smacked in the f...</td>\n",
       "      <td>longbottom-leaf</td>\n",
       "      <td>are you looking to get shire smacked in the f...</td>\n",
       "    </tr>\n",
       "    <tr>\n",
       "      <th>3</th>\n",
       "      <td>5dc33349e1127a705e2ce27c</td>\n",
       "      <td>mtn420man</td>\n",
       "      <td>https://www.leafly.com/hybrid/longbottom-leaf/...</td>\n",
       "      <td>“Such a smooth smoke. Instant head high, very ...</td>\n",
       "      <td>longbottom-leaf</td>\n",
       "      <td>such a smooth smoke instant head high very me...</td>\n",
       "    </tr>\n",
       "    <tr>\n",
       "      <th>4</th>\n",
       "      <td>5dc33349e1127a705e2ce27d</td>\n",
       "      <td>rjjia</td>\n",
       "      <td>https://www.leafly.com/hybrid/longbottom-leaf/...</td>\n",
       "      <td>“I now truly understand the beauty of middle e...</td>\n",
       "      <td>longbottom-leaf</td>\n",
       "      <td>i now truly understand the beauty of middle e...</td>\n",
       "    </tr>\n",
       "  </tbody>\n",
       "</table>\n",
       "</div>"
      ],
      "text/plain": [
       "                        _id       username  \\\n",
       "0  5dc33348e1127a705e2ce279   luvlivinlife   \n",
       "1  5dc33348e1127a705e2ce27a   luvlivinlife   \n",
       "2  5dc33349e1127a705e2ce27b  wespeterson24   \n",
       "3  5dc33349e1127a705e2ce27c      mtn420man   \n",
       "4  5dc33349e1127a705e2ce27d          rjjia   \n",
       "\n",
       "                                                 url  \\\n",
       "0  https://www.leafly.com/sativa/gorkle/reviews/1...   \n",
       "1  https://www.leafly.com/sativa/gorkle/reviews/1...   \n",
       "2  https://www.leafly.com/hybrid/longbottom-leaf/...   \n",
       "3  https://www.leafly.com/hybrid/longbottom-leaf/...   \n",
       "4  https://www.leafly.com/hybrid/longbottom-leaf/...   \n",
       "\n",
       "                                              review      strain_name  \\\n",
       "0  “40% head 60% body. Nice flavor 20 or 30 min b...           gorkle   \n",
       "1  “Love this strain. Happy, Calm, Relaxed but no...           gorkle   \n",
       "2  “Are you looking to get shire-smacked in the f...  longbottom-leaf   \n",
       "3  “Such a smooth smoke. Instant head high, very ...  longbottom-leaf   \n",
       "4  “I now truly understand the beauty of middle e...  longbottom-leaf   \n",
       "\n",
       "                                        clean_review  \n",
       "0   head body nice flavor or min before full affe...  \n",
       "1   love this strain happy calm relaxed but not g...  \n",
       "2   are you looking to get shire smacked in the f...  \n",
       "3   such a smooth smoke instant head high very me...  \n",
       "4   i now truly understand the beauty of middle e...  "
      ]
     },
     "execution_count": 22,
     "metadata": {},
     "output_type": "execute_result"
    }
   ],
   "source": [
    "strain_1.head(5)"
   ]
  },
  {
   "cell_type": "code",
   "execution_count": 23,
   "metadata": {
    "ExecuteTime": {
     "end_time": "2019-11-14T20:27:20.477161Z",
     "start_time": "2019-11-14T20:27:20.262195Z"
    }
   },
   "outputs": [
    {
     "data": {
      "text/html": [
       "<div>\n",
       "<style scoped>\n",
       "    .dataframe tbody tr th:only-of-type {\n",
       "        vertical-align: middle;\n",
       "    }\n",
       "\n",
       "    .dataframe tbody tr th {\n",
       "        vertical-align: top;\n",
       "    }\n",
       "\n",
       "    .dataframe thead th {\n",
       "        text-align: right;\n",
       "    }\n",
       "</style>\n",
       "<table border=\"1\" class=\"dataframe\">\n",
       "  <thead>\n",
       "    <tr style=\"text-align: right;\">\n",
       "      <th></th>\n",
       "      <th>_id</th>\n",
       "      <th>username</th>\n",
       "      <th>url</th>\n",
       "      <th>review</th>\n",
       "      <th>strain_name</th>\n",
       "      <th>clean_review</th>\n",
       "    </tr>\n",
       "  </thead>\n",
       "  <tbody>\n",
       "    <tr>\n",
       "      <th>169</th>\n",
       "      <td>5dc33349e1127a705e2ce322</td>\n",
       "      <td>Chill_Panda</td>\n",
       "      <td>https://www.leafly.com/indica/flaming-cookies/...</td>\n",
       "      <td>“This is a really great strain fire go which i...</td>\n",
       "      <td>flaming-cookies</td>\n",
       "      <td>this is a really great strain fire go which i...</td>\n",
       "    </tr>\n",
       "    <tr>\n",
       "      <th>178</th>\n",
       "      <td>5dc33349e1127a705e2ce32b</td>\n",
       "      <td>jakeprnhs</td>\n",
       "      <td>https://www.leafly.com/indica/flaming-cookies/...</td>\n",
       "      <td>“So what I smoked was called fire scouts. I be...</td>\n",
       "      <td>flaming-cookies</td>\n",
       "      <td>so what i smoked was called fire scouts i bel...</td>\n",
       "    </tr>\n",
       "    <tr>\n",
       "      <th>453</th>\n",
       "      <td>5dc33349e1127a705e2ce43e</td>\n",
       "      <td>MyJokerHandStayLIT</td>\n",
       "      <td>https://www.leafly.com/hybrid/slimer-og/review...</td>\n",
       "      <td>“Slymer or (Slimer) from Moxie! I’ve literally...</td>\n",
       "      <td>slimer-og</td>\n",
       "      <td>slymer or slimer from moxie i ve literally be...</td>\n",
       "    </tr>\n",
       "    <tr>\n",
       "      <th>683</th>\n",
       "      <td>5dc33349e1127a705e2ce524</td>\n",
       "      <td>OldLion</td>\n",
       "      <td>https://www.leafly.com/indica/afghani/reviews/...</td>\n",
       "      <td>“I was in the US Army for 3 years until I deci...</td>\n",
       "      <td>afghani</td>\n",
       "      <td>i was in the us army for years until i decide...</td>\n",
       "    </tr>\n",
       "    <tr>\n",
       "      <th>988</th>\n",
       "      <td>5dc33349e1127a705e2ce655</td>\n",
       "      <td>ducky518</td>\n",
       "      <td>https://www.leafly.com/indica/afghani/reviews/...</td>\n",
       "      <td>“My favorite strain, this shit is fire af🔥👌”</td>\n",
       "      <td>afghani</td>\n",
       "      <td>my favorite strain this shit is fire af</td>\n",
       "    </tr>\n",
       "    <tr>\n",
       "      <th>...</th>\n",
       "      <td>...</td>\n",
       "      <td>...</td>\n",
       "      <td>...</td>\n",
       "      <td>...</td>\n",
       "      <td>...</td>\n",
       "      <td>...</td>\n",
       "    </tr>\n",
       "    <tr>\n",
       "      <th>224187</th>\n",
       "      <td>5dc3335ee1127a705e304e34</td>\n",
       "      <td>moemiami</td>\n",
       "      <td>https://www.leafly.com/hybrid/irene-kush/revie...</td>\n",
       "      <td>“Great for daytime use.  My synapses fire so b...</td>\n",
       "      <td>irene-kush</td>\n",
       "      <td>great for daytime use my synapses fire so bea...</td>\n",
       "    </tr>\n",
       "    <tr>\n",
       "      <th>224334</th>\n",
       "      <td>5dc3335ee1127a705e304ec7</td>\n",
       "      <td>Statusdropout</td>\n",
       "      <td>https://www.leafly.com/hybrid/blue-magoo/revie...</td>\n",
       "      <td>“I enjoyed the white magoo. It was some good f...</td>\n",
       "      <td>blue-magoo</td>\n",
       "      <td>i enjoyed the white magoo it was some good fire</td>\n",
       "    </tr>\n",
       "    <tr>\n",
       "      <th>224455</th>\n",
       "      <td>5dc3335ee1127a705e304f40</td>\n",
       "      <td>McCaul</td>\n",
       "      <td>https://www.leafly.com/hybrid/blue-magoo/revie...</td>\n",
       "      <td>“this shit is fire as fuck can't keep it!”</td>\n",
       "      <td>blue-magoo</td>\n",
       "      <td>this shit is fire as fuck can t keep it</td>\n",
       "    </tr>\n",
       "    <tr>\n",
       "      <th>224556</th>\n",
       "      <td>5dc3335ee1127a705e304fa5</td>\n",
       "      <td>tiffpankey</td>\n",
       "      <td>https://www.leafly.com/hybrid/blue-magoo/revie...</td>\n",
       "      <td>“Acquired a premium harvest of this strain, 25...</td>\n",
       "      <td>blue-magoo</td>\n",
       "      <td>acquired a premium harvest of this strain thc...</td>\n",
       "    </tr>\n",
       "    <tr>\n",
       "      <th>224568</th>\n",
       "      <td>5dc3335ee1127a705e304fb1</td>\n",
       "      <td>dapperErl</td>\n",
       "      <td>https://www.leafly.com/hybrid/blue-magoo/revie...</td>\n",
       "      <td>“The Blue Magoo from Forbidden Farms is FIRE!!...</td>\n",
       "      <td>blue-magoo</td>\n",
       "      <td>the blue magoo from forbidden farms is fire n...</td>\n",
       "    </tr>\n",
       "  </tbody>\n",
       "</table>\n",
       "<p>1250 rows × 6 columns</p>\n",
       "</div>"
      ],
      "text/plain": [
       "                             _id            username  \\\n",
       "169     5dc33349e1127a705e2ce322         Chill_Panda   \n",
       "178     5dc33349e1127a705e2ce32b           jakeprnhs   \n",
       "453     5dc33349e1127a705e2ce43e  MyJokerHandStayLIT   \n",
       "683     5dc33349e1127a705e2ce524             OldLion   \n",
       "988     5dc33349e1127a705e2ce655            ducky518   \n",
       "...                          ...                 ...   \n",
       "224187  5dc3335ee1127a705e304e34            moemiami   \n",
       "224334  5dc3335ee1127a705e304ec7       Statusdropout   \n",
       "224455  5dc3335ee1127a705e304f40              McCaul   \n",
       "224556  5dc3335ee1127a705e304fa5          tiffpankey   \n",
       "224568  5dc3335ee1127a705e304fb1           dapperErl   \n",
       "\n",
       "                                                      url  \\\n",
       "169     https://www.leafly.com/indica/flaming-cookies/...   \n",
       "178     https://www.leafly.com/indica/flaming-cookies/...   \n",
       "453     https://www.leafly.com/hybrid/slimer-og/review...   \n",
       "683     https://www.leafly.com/indica/afghani/reviews/...   \n",
       "988     https://www.leafly.com/indica/afghani/reviews/...   \n",
       "...                                                   ...   \n",
       "224187  https://www.leafly.com/hybrid/irene-kush/revie...   \n",
       "224334  https://www.leafly.com/hybrid/blue-magoo/revie...   \n",
       "224455  https://www.leafly.com/hybrid/blue-magoo/revie...   \n",
       "224556  https://www.leafly.com/hybrid/blue-magoo/revie...   \n",
       "224568  https://www.leafly.com/hybrid/blue-magoo/revie...   \n",
       "\n",
       "                                                   review      strain_name  \\\n",
       "169     “This is a really great strain fire go which i...  flaming-cookies   \n",
       "178     “So what I smoked was called fire scouts. I be...  flaming-cookies   \n",
       "453     “Slymer or (Slimer) from Moxie! I’ve literally...        slimer-og   \n",
       "683     “I was in the US Army for 3 years until I deci...          afghani   \n",
       "988          “My favorite strain, this shit is fire af🔥👌”          afghani   \n",
       "...                                                   ...              ...   \n",
       "224187  “Great for daytime use.  My synapses fire so b...       irene-kush   \n",
       "224334  “I enjoyed the white magoo. It was some good f...       blue-magoo   \n",
       "224455         “this shit is fire as fuck can't keep it!”       blue-magoo   \n",
       "224556  “Acquired a premium harvest of this strain, 25...       blue-magoo   \n",
       "224568  “The Blue Magoo from Forbidden Farms is FIRE!!...       blue-magoo   \n",
       "\n",
       "                                             clean_review  \n",
       "169      this is a really great strain fire go which i...  \n",
       "178      so what i smoked was called fire scouts i bel...  \n",
       "453      slymer or slimer from moxie i ve literally be...  \n",
       "683      i was in the us army for years until i decide...  \n",
       "988              my favorite strain this shit is fire af   \n",
       "...                                                   ...  \n",
       "224187   great for daytime use my synapses fire so bea...  \n",
       "224334   i enjoyed the white magoo it was some good fire   \n",
       "224455           this shit is fire as fuck can t keep it   \n",
       "224556   acquired a premium harvest of this strain thc...  \n",
       "224568   the blue magoo from forbidden farms is fire n...  \n",
       "\n",
       "[1250 rows x 6 columns]"
      ]
     },
     "execution_count": 23,
     "metadata": {},
     "output_type": "execute_result"
    }
   ],
   "source": [
    "strain_1.loc[strain_1[\"review\"].str.contains(\"fire\")]"
   ]
  },
  {
   "cell_type": "code",
   "execution_count": 24,
   "metadata": {
    "ExecuteTime": {
     "end_time": "2019-11-14T20:27:20.508747Z",
     "start_time": "2019-11-14T20:27:20.480261Z"
    }
   },
   "outputs": [
    {
     "data": {
      "text/html": [
       "<div>\n",
       "<style scoped>\n",
       "    .dataframe tbody tr th:only-of-type {\n",
       "        vertical-align: middle;\n",
       "    }\n",
       "\n",
       "    .dataframe tbody tr th {\n",
       "        vertical-align: top;\n",
       "    }\n",
       "\n",
       "    .dataframe thead th {\n",
       "        text-align: right;\n",
       "    }\n",
       "</style>\n",
       "<table border=\"1\" class=\"dataframe\">\n",
       "  <thead>\n",
       "    <tr style=\"text-align: right;\">\n",
       "      <th></th>\n",
       "      <th>_id</th>\n",
       "      <th>username</th>\n",
       "      <th>url</th>\n",
       "      <th>review</th>\n",
       "      <th>strain_name</th>\n",
       "      <th>clean_review</th>\n",
       "    </tr>\n",
       "  </thead>\n",
       "  <tbody>\n",
       "    <tr>\n",
       "      <th>988</th>\n",
       "      <td>5dc33349e1127a705e2ce655</td>\n",
       "      <td>ducky518</td>\n",
       "      <td>https://www.leafly.com/indica/afghani/reviews/...</td>\n",
       "      <td>“My favorite strain, this shit is fire af🔥👌”</td>\n",
       "      <td>afghani</td>\n",
       "      <td>my favorite strain this shit is fire af</td>\n",
       "    </tr>\n",
       "  </tbody>\n",
       "</table>\n",
       "</div>"
      ],
      "text/plain": [
       "                          _id  username  \\\n",
       "988  5dc33349e1127a705e2ce655  ducky518   \n",
       "\n",
       "                                                   url  \\\n",
       "988  https://www.leafly.com/indica/afghani/reviews/...   \n",
       "\n",
       "                                           review strain_name  \\\n",
       "988  “My favorite strain, this shit is fire af🔥👌”     afghani   \n",
       "\n",
       "                                  clean_review  \n",
       "988   my favorite strain this shit is fire af   "
      ]
     },
     "execution_count": 24,
     "metadata": {},
     "output_type": "execute_result"
    }
   ],
   "source": [
    "strain_1.loc[strain_1[\"username\"]=='ducky518']"
   ]
  },
  {
   "cell_type": "code",
   "execution_count": 25,
   "metadata": {
    "ExecuteTime": {
     "end_time": "2019-11-14T20:27:20.610795Z",
     "start_time": "2019-11-14T20:27:20.512286Z"
    }
   },
   "outputs": [
    {
     "name": "stdout",
     "output_type": "stream",
     "text": [
      "<class 'pandas.core.frame.DataFrame'>\n",
      "Int64Index: 165928 entries, 0 to 224569\n",
      "Data columns (total 6 columns):\n",
      "_id             165928 non-null object\n",
      "username        165928 non-null object\n",
      "url             165928 non-null object\n",
      "review          165928 non-null object\n",
      "strain_name     165928 non-null object\n",
      "clean_review    165928 non-null object\n",
      "dtypes: object(6)\n",
      "memory usage: 8.9+ MB\n"
     ]
    }
   ],
   "source": [
    "strain_1.info()"
   ]
  },
  {
   "cell_type": "markdown",
   "metadata": {},
   "source": [
    "## LSA"
   ]
  },
  {
   "cell_type": "code",
   "execution_count": 98,
   "metadata": {
    "ExecuteTime": {
     "end_time": "2019-11-14T20:48:13.487472Z",
     "start_time": "2019-11-14T20:48:13.479412Z"
    }
   },
   "outputs": [],
   "source": [
    "stop_words = text.ENGLISH_STOP_WORDS.union([\"little\",\"great\",\"love\",\"happy\",\"effects\",\"time\",\"feel\",\"feeling\",\"definitely\",\"strains\",\"pretty\",\"good\",\"indica\",\"sativa\",\"high\",\"strain\",\"like\",\"smoke\",\"buds\",\"bud\",\"just\",\"smoking\",\"smoke\",\"really\",\"pretty\",\"makes\",\"ve\",\"got\"])"
   ]
  },
  {
   "cell_type": "code",
   "execution_count": 99,
   "metadata": {
    "ExecuteTime": {
     "end_time": "2019-11-14T20:48:26.031589Z",
     "start_time": "2019-11-14T20:48:14.363133Z"
    }
   },
   "outputs": [
    {
     "data": {
      "text/plain": [
       "<165928x21 sparse matrix of type '<class 'numpy.int64'>'\n",
       "\twith 263382 stored elements in Compressed Sparse Row format>"
      ]
     },
     "execution_count": 99,
     "metadata": {},
     "output_type": "execute_result"
    }
   ],
   "source": [
    "vectorizer = CountVectorizer(stop_words=stop_words,max_df=.7,min_df=.045,ngram_range=(1, 2))\n",
    "doc_word = vectorizer.fit_transform(strain_1['clean_review'])\n",
    "doc_word"
   ]
  },
  {
   "cell_type": "code",
   "execution_count": 84,
   "metadata": {
    "ExecuteTime": {
     "end_time": "2019-11-14T20:45:37.863522Z",
     "start_time": "2019-11-14T20:45:37.426257Z"
    }
   },
   "outputs": [
    {
     "data": {
      "text/plain": [
       "array([0.12129977, 0.09844394, 0.08067001, 0.07132624, 0.05538288])"
      ]
     },
     "execution_count": 84,
     "metadata": {},
     "output_type": "execute_result"
    }
   ],
   "source": [
    "lsa = TruncatedSVD(5)\n",
    "doc_topic = lsa.fit_transform(doc_word)\n",
    "lsa.explained_variance_ratio_"
   ]
  },
  {
   "cell_type": "code",
   "execution_count": 85,
   "metadata": {
    "ExecuteTime": {
     "end_time": "2019-11-14T20:45:37.899571Z",
     "start_time": "2019-11-14T20:45:37.865847Z"
    }
   },
   "outputs": [
    {
     "data": {
      "text/html": [
       "<div>\n",
       "<style scoped>\n",
       "    .dataframe tbody tr th:only-of-type {\n",
       "        vertical-align: middle;\n",
       "    }\n",
       "\n",
       "    .dataframe tbody tr th {\n",
       "        vertical-align: top;\n",
       "    }\n",
       "\n",
       "    .dataframe thead th {\n",
       "        text-align: right;\n",
       "    }\n",
       "</style>\n",
       "<table border=\"1\" class=\"dataframe\">\n",
       "  <thead>\n",
       "    <tr style=\"text-align: right;\">\n",
       "      <th></th>\n",
       "      <th>amazing</th>\n",
       "      <th>anxiety</th>\n",
       "      <th>best</th>\n",
       "      <th>body</th>\n",
       "      <th>day</th>\n",
       "      <th>favorite</th>\n",
       "      <th>flavor</th>\n",
       "      <th>great</th>\n",
       "      <th>head</th>\n",
       "      <th>little</th>\n",
       "      <th>nice</th>\n",
       "      <th>pain</th>\n",
       "      <th>recommend</th>\n",
       "      <th>relaxed</th>\n",
       "      <th>relaxing</th>\n",
       "      <th>sleep</th>\n",
       "      <th>smell</th>\n",
       "      <th>smoked</th>\n",
       "      <th>smooth</th>\n",
       "      <th>strong</th>\n",
       "      <th>super</th>\n",
       "      <th>sweet</th>\n",
       "      <th>taste</th>\n",
       "    </tr>\n",
       "  </thead>\n",
       "  <tbody>\n",
       "    <tr>\n",
       "      <th>component_1</th>\n",
       "      <td>0.0886</td>\n",
       "      <td>0.1095</td>\n",
       "      <td>0.0815</td>\n",
       "      <td>0.1922</td>\n",
       "      <td>0.1342</td>\n",
       "      <td>0.0777</td>\n",
       "      <td>0.0808</td>\n",
       "      <td>0.7368</td>\n",
       "      <td>0.1302</td>\n",
       "      <td>0.0773</td>\n",
       "      <td>0.2703</td>\n",
       "      <td>0.2347</td>\n",
       "      <td>0.0669</td>\n",
       "      <td>0.0823</td>\n",
       "      <td>0.1093</td>\n",
       "      <td>0.0801</td>\n",
       "      <td>0.1947</td>\n",
       "      <td>0.0762</td>\n",
       "      <td>0.0811</td>\n",
       "      <td>0.1101</td>\n",
       "      <td>0.0661</td>\n",
       "      <td>0.1070</td>\n",
       "      <td>0.3228</td>\n",
       "    </tr>\n",
       "    <tr>\n",
       "      <th>component_2</th>\n",
       "      <td>0.0629</td>\n",
       "      <td>0.0310</td>\n",
       "      <td>0.0572</td>\n",
       "      <td>0.1682</td>\n",
       "      <td>0.0220</td>\n",
       "      <td>0.0360</td>\n",
       "      <td>0.0507</td>\n",
       "      <td>-0.6340</td>\n",
       "      <td>0.1135</td>\n",
       "      <td>0.0654</td>\n",
       "      <td>0.5215</td>\n",
       "      <td>0.0977</td>\n",
       "      <td>0.0364</td>\n",
       "      <td>0.0571</td>\n",
       "      <td>0.0629</td>\n",
       "      <td>0.0191</td>\n",
       "      <td>0.2454</td>\n",
       "      <td>0.0554</td>\n",
       "      <td>0.0778</td>\n",
       "      <td>0.1157</td>\n",
       "      <td>0.0430</td>\n",
       "      <td>0.1340</td>\n",
       "      <td>0.3835</td>\n",
       "    </tr>\n",
       "    <tr>\n",
       "      <th>component_3</th>\n",
       "      <td>-0.0064</td>\n",
       "      <td>0.1682</td>\n",
       "      <td>0.0401</td>\n",
       "      <td>0.2490</td>\n",
       "      <td>0.0826</td>\n",
       "      <td>0.0233</td>\n",
       "      <td>-0.0015</td>\n",
       "      <td>-0.1165</td>\n",
       "      <td>0.1318</td>\n",
       "      <td>0.0325</td>\n",
       "      <td>0.1132</td>\n",
       "      <td>0.6924</td>\n",
       "      <td>0.0476</td>\n",
       "      <td>0.0660</td>\n",
       "      <td>0.0581</td>\n",
       "      <td>0.0974</td>\n",
       "      <td>-0.2725</td>\n",
       "      <td>0.0274</td>\n",
       "      <td>-0.0223</td>\n",
       "      <td>-0.0069</td>\n",
       "      <td>0.0075</td>\n",
       "      <td>-0.0904</td>\n",
       "      <td>-0.5228</td>\n",
       "    </tr>\n",
       "    <tr>\n",
       "      <th>component_4</th>\n",
       "      <td>-0.0914</td>\n",
       "      <td>-0.0828</td>\n",
       "      <td>-0.0899</td>\n",
       "      <td>0.0556</td>\n",
       "      <td>-0.0012</td>\n",
       "      <td>-0.0524</td>\n",
       "      <td>0.0246</td>\n",
       "      <td>0.1600</td>\n",
       "      <td>0.0419</td>\n",
       "      <td>-0.0063</td>\n",
       "      <td>0.7072</td>\n",
       "      <td>-0.4762</td>\n",
       "      <td>-0.0314</td>\n",
       "      <td>-0.0002</td>\n",
       "      <td>0.0402</td>\n",
       "      <td>-0.0390</td>\n",
       "      <td>-0.1828</td>\n",
       "      <td>-0.0270</td>\n",
       "      <td>0.0043</td>\n",
       "      <td>-0.0633</td>\n",
       "      <td>-0.0099</td>\n",
       "      <td>-0.0763</td>\n",
       "      <td>-0.4097</td>\n",
       "    </tr>\n",
       "    <tr>\n",
       "      <th>component_5</th>\n",
       "      <td>0.0923</td>\n",
       "      <td>0.0415</td>\n",
       "      <td>0.1095</td>\n",
       "      <td>0.6660</td>\n",
       "      <td>0.0410</td>\n",
       "      <td>0.0679</td>\n",
       "      <td>0.0317</td>\n",
       "      <td>-0.0647</td>\n",
       "      <td>0.3731</td>\n",
       "      <td>0.0485</td>\n",
       "      <td>-0.3465</td>\n",
       "      <td>-0.4043</td>\n",
       "      <td>0.0313</td>\n",
       "      <td>0.0974</td>\n",
       "      <td>0.0826</td>\n",
       "      <td>0.0213</td>\n",
       "      <td>0.0352</td>\n",
       "      <td>0.1199</td>\n",
       "      <td>0.0081</td>\n",
       "      <td>0.1924</td>\n",
       "      <td>0.0728</td>\n",
       "      <td>0.0353</td>\n",
       "      <td>-0.1435</td>\n",
       "    </tr>\n",
       "  </tbody>\n",
       "</table>\n",
       "</div>"
      ],
      "text/plain": [
       "             amazing  anxiety    best    body     day  favorite  flavor  \\\n",
       "component_1   0.0886   0.1095  0.0815  0.1922  0.1342    0.0777  0.0808   \n",
       "component_2   0.0629   0.0310  0.0572  0.1682  0.0220    0.0360  0.0507   \n",
       "component_3  -0.0064   0.1682  0.0401  0.2490  0.0826    0.0233 -0.0015   \n",
       "component_4  -0.0914  -0.0828 -0.0899  0.0556 -0.0012   -0.0524  0.0246   \n",
       "component_5   0.0923   0.0415  0.1095  0.6660  0.0410    0.0679  0.0317   \n",
       "\n",
       "              great    head  little    nice    pain  recommend  relaxed  \\\n",
       "component_1  0.7368  0.1302  0.0773  0.2703  0.2347     0.0669   0.0823   \n",
       "component_2 -0.6340  0.1135  0.0654  0.5215  0.0977     0.0364   0.0571   \n",
       "component_3 -0.1165  0.1318  0.0325  0.1132  0.6924     0.0476   0.0660   \n",
       "component_4  0.1600  0.0419 -0.0063  0.7072 -0.4762    -0.0314  -0.0002   \n",
       "component_5 -0.0647  0.3731  0.0485 -0.3465 -0.4043     0.0313   0.0974   \n",
       "\n",
       "             relaxing   sleep   smell  smoked  smooth  strong   super   sweet  \\\n",
       "component_1    0.1093  0.0801  0.1947  0.0762  0.0811  0.1101  0.0661  0.1070   \n",
       "component_2    0.0629  0.0191  0.2454  0.0554  0.0778  0.1157  0.0430  0.1340   \n",
       "component_3    0.0581  0.0974 -0.2725  0.0274 -0.0223 -0.0069  0.0075 -0.0904   \n",
       "component_4    0.0402 -0.0390 -0.1828 -0.0270  0.0043 -0.0633 -0.0099 -0.0763   \n",
       "component_5    0.0826  0.0213  0.0352  0.1199  0.0081  0.1924  0.0728  0.0353   \n",
       "\n",
       "              taste  \n",
       "component_1  0.3228  \n",
       "component_2  0.3835  \n",
       "component_3 -0.5228  \n",
       "component_4 -0.4097  \n",
       "component_5 -0.1435  "
      ]
     },
     "execution_count": 85,
     "metadata": {},
     "output_type": "execute_result"
    }
   ],
   "source": [
    "topic_word = pd.DataFrame(lsa.components_.round(4),\n",
    "             index = [\"component_1\",\"component_2\",\"component_3\",\"component_4\",\"component_5\"],\n",
    "             columns = vectorizer.get_feature_names())\n",
    "topic_word"
   ]
  },
  {
   "cell_type": "code",
   "execution_count": 86,
   "metadata": {
    "ExecuteTime": {
     "end_time": "2019-11-14T20:45:40.278694Z",
     "start_time": "2019-11-14T20:45:40.233793Z"
    }
   },
   "outputs": [],
   "source": [
    "def display_topics(model, feature_names, no_top_words, topic_names=None):\n",
    "    for ix, topic in enumerate(model.components_):\n",
    "        if not topic_names or not topic_names[ix]:\n",
    "            print(\"\\nTopic \", ix)\n",
    "        else:\n",
    "            print(\"\\nTopic: '\",topic_names[ix],\"'\")\n",
    "        print(\", \".join([feature_names[i]\n",
    "                        for i in topic.argsort()[:-no_top_words - 1:-1]]))"
   ]
  },
  {
   "cell_type": "code",
   "execution_count": 87,
   "metadata": {
    "ExecuteTime": {
     "end_time": "2019-11-14T20:45:42.619198Z",
     "start_time": "2019-11-14T20:45:42.606169Z"
    }
   },
   "outputs": [
    {
     "name": "stdout",
     "output_type": "stream",
     "text": [
      "\n",
      "Topic  0\n",
      "great, taste, nice, pain, smell, body, day, head, strong, anxiety\n",
      "\n",
      "Topic  1\n",
      "nice, taste, smell, body, sweet, strong, head, pain, smooth, little\n",
      "\n",
      "Topic  2\n",
      "pain, body, anxiety, head, nice, sleep, day, relaxed, relaxing, recommend\n",
      "\n",
      "Topic  3\n",
      "nice, great, body, head, relaxing, flavor, smooth, relaxed, day, little\n",
      "\n",
      "Topic  4\n",
      "body, head, strong, smoked, best, relaxed, amazing, relaxing, super, favorite\n"
     ]
    }
   ],
   "source": [
    "display_topics(lsa, vectorizer.get_feature_names(), 10)"
   ]
  },
  {
   "cell_type": "code",
   "execution_count": 32,
   "metadata": {
    "ExecuteTime": {
     "end_time": "2019-11-14T20:28:49.474094Z",
     "start_time": "2019-11-14T20:28:49.447880Z"
    }
   },
   "outputs": [
    {
     "data": {
      "text/html": [
       "<div>\n",
       "<style scoped>\n",
       "    .dataframe tbody tr th:only-of-type {\n",
       "        vertical-align: middle;\n",
       "    }\n",
       "\n",
       "    .dataframe tbody tr th {\n",
       "        vertical-align: top;\n",
       "    }\n",
       "\n",
       "    .dataframe thead th {\n",
       "        text-align: right;\n",
       "    }\n",
       "</style>\n",
       "<table border=\"1\" class=\"dataframe\">\n",
       "  <thead>\n",
       "    <tr style=\"text-align: right;\">\n",
       "      <th></th>\n",
       "      <th>component_1</th>\n",
       "      <th>component_2</th>\n",
       "      <th>component_3</th>\n",
       "      <th>component_4</th>\n",
       "    </tr>\n",
       "    <tr>\n",
       "      <th>clean_review</th>\n",
       "      <th></th>\n",
       "      <th></th>\n",
       "      <th></th>\n",
       "      <th></th>\n",
       "    </tr>\n",
       "  </thead>\n",
       "  <tbody>\n",
       "    <tr>\n",
       "      <th>head body nice flavor or min before full affect clear headed but very relaxed reduced pain productive clear thinking very nice overall feeling not stuck to couch but body fully relaxed after a long week this is new favorite i am ready for bed hrs after a good vape taste with a little addition an hour ago and so is it good nite</th>\n",
       "      <td>2.0888</td>\n",
       "      <td>2.0756</td>\n",
       "      <td>0.6014</td>\n",
       "      <td>1.1542</td>\n",
       "    </tr>\n",
       "    <tr>\n",
       "      <th>love this strain happy calm relaxed but not glued down i can really settle in to a show or game and enjoy either i think this will be a favorite for a long time</th>\n",
       "      <td>0.5601</td>\n",
       "      <td>0.3440</td>\n",
       "      <td>0.4029</td>\n",
       "      <td>-0.4102</td>\n",
       "    </tr>\n",
       "    <tr>\n",
       "      <th>are you looking to get shire smacked in the face with a peppy yet tranquil bud if so look no further than this strain with colorful fluffy nugs and beautiful aroma this shit really is the precious smokes great and the flavor is stellar the high gives you a relaxed stroking your gandalf beard in the shire feel</th>\n",
       "      <td>0.9908</td>\n",
       "      <td>-0.4586</td>\n",
       "      <td>0.1758</td>\n",
       "      <td>0.0957</td>\n",
       "    </tr>\n",
       "    <tr>\n",
       "      <th>such a smooth smoke instant head high very meoow on the lungs but very potent for pain such a smoke i picked some up at the verdes foundation in abq nm what amazing pre rolls of this im looking forward to the next time they have this in</th>\n",
       "      <td>0.7034</td>\n",
       "      <td>0.4462</td>\n",
       "      <td>0.8004</td>\n",
       "      <td>-0.3991</td>\n",
       "    </tr>\n",
       "    <tr>\n",
       "      <th>i now truly understand the beauty of middle earth after smoking this earth blended gift from the fairies i no longer fear the nameless enemy</th>\n",
       "      <td>0.0000</td>\n",
       "      <td>0.0000</td>\n",
       "      <td>0.0000</td>\n",
       "      <td>0.0000</td>\n",
       "    </tr>\n",
       "    <tr>\n",
       "      <th>...</th>\n",
       "      <td>...</td>\n",
       "      <td>...</td>\n",
       "      <td>...</td>\n",
       "      <td>...</td>\n",
       "    </tr>\n",
       "    <tr>\n",
       "      <th>i really liked this strain for my day time i was able to function and even eat</th>\n",
       "      <td>0.3124</td>\n",
       "      <td>0.1314</td>\n",
       "      <td>0.2614</td>\n",
       "      <td>-0.1815</td>\n",
       "    </tr>\n",
       "    <tr>\n",
       "      <th>made me giggly with a very noticeable headkick and a deep relaxation great hybrid</th>\n",
       "      <td>0.6637</td>\n",
       "      <td>-0.7192</td>\n",
       "      <td>-0.1042</td>\n",
       "      <td>0.1504</td>\n",
       "    </tr>\n",
       "    <tr>\n",
       "      <th>just hit the bammer with this bud wow i feel great i definitley recommend</th>\n",
       "      <td>0.8915</td>\n",
       "      <td>-0.5320</td>\n",
       "      <td>0.1498</td>\n",
       "      <td>0.0454</td>\n",
       "    </tr>\n",
       "    <tr>\n",
       "      <th>the blue magoo from forbidden farms is fire no i mean it s literally on fire right now in my bowl this is some good ass weed fire ina hole</th>\n",
       "      <td>0.0000</td>\n",
       "      <td>0.0000</td>\n",
       "      <td>0.0000</td>\n",
       "      <td>0.0000</td>\n",
       "    </tr>\n",
       "    <tr>\n",
       "      <th>made me very hungry the high had me forgetting conversations that i had min ago kinda dizzy very nice head high the exhale tastes of blueberries so that s a big plus</th>\n",
       "      <td>0.3894</td>\n",
       "      <td>0.5451</td>\n",
       "      <td>-0.0104</td>\n",
       "      <td>0.8423</td>\n",
       "    </tr>\n",
       "  </tbody>\n",
       "</table>\n",
       "<p>165928 rows × 4 columns</p>\n",
       "</div>"
      ],
      "text/plain": [
       "                                                    component_1  component_2  \\\n",
       "clean_review                                                                   \n",
       " head body nice flavor or min before full affec...       2.0888       2.0756   \n",
       " love this strain happy calm relaxed but not gl...       0.5601       0.3440   \n",
       " are you looking to get shire smacked in the fa...       0.9908      -0.4586   \n",
       " such a smooth smoke instant head high very meo...       0.7034       0.4462   \n",
       " i now truly understand the beauty of middle ea...       0.0000       0.0000   \n",
       "...                                                         ...          ...   \n",
       " i really liked this strain for my day time i w...       0.3124       0.1314   \n",
       " made me giggly with a very noticeable headkick...       0.6637      -0.7192   \n",
       " just hit the bammer with this bud wow i feel g...       0.8915      -0.5320   \n",
       " the blue magoo from forbidden farms is fire no...       0.0000       0.0000   \n",
       " made me very hungry the high had me forgetting...       0.3894       0.5451   \n",
       "\n",
       "                                                    component_3  component_4  \n",
       "clean_review                                                                  \n",
       " head body nice flavor or min before full affec...       0.6014       1.1542  \n",
       " love this strain happy calm relaxed but not gl...       0.4029      -0.4102  \n",
       " are you looking to get shire smacked in the fa...       0.1758       0.0957  \n",
       " such a smooth smoke instant head high very meo...       0.8004      -0.3991  \n",
       " i now truly understand the beauty of middle ea...       0.0000       0.0000  \n",
       "...                                                         ...          ...  \n",
       " i really liked this strain for my day time i w...       0.2614      -0.1815  \n",
       " made me giggly with a very noticeable headkick...      -0.1042       0.1504  \n",
       " just hit the bammer with this bud wow i feel g...       0.1498       0.0454  \n",
       " the blue magoo from forbidden farms is fire no...       0.0000       0.0000  \n",
       " made me very hungry the high had me forgetting...      -0.0104       0.8423  \n",
       "\n",
       "[165928 rows x 4 columns]"
      ]
     },
     "execution_count": 32,
     "metadata": {},
     "output_type": "execute_result"
    }
   ],
   "source": [
    "Vt = pd.DataFrame(doc_topic.round(4),\n",
    "             index = strain_1['clean_review'],\n",
    "             columns = [\"component_1\",\"component_2\",\"component_3\",\"component_4\"])\n",
    "Vt"
   ]
  },
  {
   "cell_type": "markdown",
   "metadata": {},
   "source": [
    "## NMF"
   ]
  },
  {
   "cell_type": "code",
   "execution_count": 104,
   "metadata": {
    "ExecuteTime": {
     "end_time": "2019-11-14T20:50:08.695361Z",
     "start_time": "2019-11-14T20:50:08.057576Z"
    }
   },
   "outputs": [],
   "source": [
    "nmf_model = NMF(3)\n",
    "doc_topic = nmf_model.fit_transform(doc_word)"
   ]
  },
  {
   "cell_type": "code",
   "execution_count": 105,
   "metadata": {
    "ExecuteTime": {
     "end_time": "2019-11-14T20:50:08.723890Z",
     "start_time": "2019-11-14T20:50:08.697827Z"
    }
   },
   "outputs": [
    {
     "data": {
      "text/html": [
       "<div>\n",
       "<style scoped>\n",
       "    .dataframe tbody tr th:only-of-type {\n",
       "        vertical-align: middle;\n",
       "    }\n",
       "\n",
       "    .dataframe tbody tr th {\n",
       "        vertical-align: top;\n",
       "    }\n",
       "\n",
       "    .dataframe thead th {\n",
       "        text-align: right;\n",
       "    }\n",
       "</style>\n",
       "<table border=\"1\" class=\"dataframe\">\n",
       "  <thead>\n",
       "    <tr style=\"text-align: right;\">\n",
       "      <th></th>\n",
       "      <th>amazing</th>\n",
       "      <th>anxiety</th>\n",
       "      <th>best</th>\n",
       "      <th>body</th>\n",
       "      <th>day</th>\n",
       "      <th>favorite</th>\n",
       "      <th>flavor</th>\n",
       "      <th>head</th>\n",
       "      <th>nice</th>\n",
       "      <th>pain</th>\n",
       "      <th>recommend</th>\n",
       "      <th>relaxed</th>\n",
       "      <th>relaxing</th>\n",
       "      <th>sleep</th>\n",
       "      <th>smell</th>\n",
       "      <th>smoked</th>\n",
       "      <th>smooth</th>\n",
       "      <th>strong</th>\n",
       "      <th>super</th>\n",
       "      <th>sweet</th>\n",
       "      <th>taste</th>\n",
       "    </tr>\n",
       "  </thead>\n",
       "  <tbody>\n",
       "    <tr>\n",
       "      <th>component_1</th>\n",
       "      <td>1.983</td>\n",
       "      <td>0.221</td>\n",
       "      <td>1.347</td>\n",
       "      <td>0.337</td>\n",
       "      <td>0.859</td>\n",
       "      <td>1.160</td>\n",
       "      <td>1.024</td>\n",
       "      <td>0.525</td>\n",
       "      <td>0.000</td>\n",
       "      <td>0.000</td>\n",
       "      <td>0.670</td>\n",
       "      <td>0.577</td>\n",
       "      <td>0.724</td>\n",
       "      <td>0.285</td>\n",
       "      <td>7.458</td>\n",
       "      <td>1.088</td>\n",
       "      <td>1.493</td>\n",
       "      <td>2.399</td>\n",
       "      <td>0.985</td>\n",
       "      <td>3.366</td>\n",
       "      <td>13.107</td>\n",
       "    </tr>\n",
       "    <tr>\n",
       "      <th>component_2</th>\n",
       "      <td>0.993</td>\n",
       "      <td>2.886</td>\n",
       "      <td>1.419</td>\n",
       "      <td>3.350</td>\n",
       "      <td>1.899</td>\n",
       "      <td>1.079</td>\n",
       "      <td>0.412</td>\n",
       "      <td>1.859</td>\n",
       "      <td>0.000</td>\n",
       "      <td>10.118</td>\n",
       "      <td>1.091</td>\n",
       "      <td>1.210</td>\n",
       "      <td>1.090</td>\n",
       "      <td>1.734</td>\n",
       "      <td>0.000</td>\n",
       "      <td>0.936</td>\n",
       "      <td>0.307</td>\n",
       "      <td>0.923</td>\n",
       "      <td>0.589</td>\n",
       "      <td>0.230</td>\n",
       "      <td>0.000</td>\n",
       "    </tr>\n",
       "    <tr>\n",
       "      <th>component_3</th>\n",
       "      <td>0.000</td>\n",
       "      <td>0.171</td>\n",
       "      <td>0.000</td>\n",
       "      <td>2.529</td>\n",
       "      <td>0.794</td>\n",
       "      <td>0.124</td>\n",
       "      <td>0.958</td>\n",
       "      <td>1.770</td>\n",
       "      <td>11.895</td>\n",
       "      <td>0.000</td>\n",
       "      <td>0.319</td>\n",
       "      <td>0.792</td>\n",
       "      <td>1.390</td>\n",
       "      <td>0.281</td>\n",
       "      <td>0.195</td>\n",
       "      <td>0.402</td>\n",
       "      <td>0.923</td>\n",
       "      <td>0.532</td>\n",
       "      <td>0.460</td>\n",
       "      <td>0.456</td>\n",
       "      <td>0.000</td>\n",
       "    </tr>\n",
       "  </tbody>\n",
       "</table>\n",
       "</div>"
      ],
      "text/plain": [
       "             amazing  anxiety   best   body    day  favorite  flavor   head  \\\n",
       "component_1    1.983    0.221  1.347  0.337  0.859     1.160   1.024  0.525   \n",
       "component_2    0.993    2.886  1.419  3.350  1.899     1.079   0.412  1.859   \n",
       "component_3    0.000    0.171  0.000  2.529  0.794     0.124   0.958  1.770   \n",
       "\n",
       "               nice    pain  recommend  relaxed  relaxing  sleep  smell  \\\n",
       "component_1   0.000   0.000      0.670    0.577     0.724  0.285  7.458   \n",
       "component_2   0.000  10.118      1.091    1.210     1.090  1.734  0.000   \n",
       "component_3  11.895   0.000      0.319    0.792     1.390  0.281  0.195   \n",
       "\n",
       "             smoked  smooth  strong  super  sweet   taste  \n",
       "component_1   1.088   1.493   2.399  0.985  3.366  13.107  \n",
       "component_2   0.936   0.307   0.923  0.589  0.230   0.000  \n",
       "component_3   0.402   0.923   0.532  0.460  0.456   0.000  "
      ]
     },
     "execution_count": 105,
     "metadata": {},
     "output_type": "execute_result"
    }
   ],
   "source": [
    "topic_word = pd.DataFrame(nmf_model.components_.round(3),\n",
    "             index = [\"component_1\",\"component_2\",\"component_3\"],\n",
    "             columns = vectorizer.get_feature_names())\n",
    "topic_word"
   ]
  },
  {
   "cell_type": "code",
   "execution_count": 106,
   "metadata": {
    "ExecuteTime": {
     "end_time": "2019-11-14T20:50:10.620201Z",
     "start_time": "2019-11-14T20:50:10.611413Z"
    }
   },
   "outputs": [
    {
     "name": "stdout",
     "output_type": "stream",
     "text": [
      "\n",
      "Topic  0\n",
      "taste, smell, sweet, strong, amazing\n",
      "\n",
      "Topic  1\n",
      "pain, body, anxiety, day, head\n",
      "\n",
      "Topic  2\n",
      "nice, body, head, relaxing, flavor\n"
     ]
    }
   ],
   "source": [
    "display_topics(nmf_model, vectorizer.get_feature_names(), 5)"
   ]
  },
  {
   "cell_type": "code",
   "execution_count": 107,
   "metadata": {
    "ExecuteTime": {
     "end_time": "2019-11-14T20:50:22.963884Z",
     "start_time": "2019-11-14T20:50:22.939382Z"
    }
   },
   "outputs": [
    {
     "data": {
      "text/html": [
       "<div>\n",
       "<style scoped>\n",
       "    .dataframe tbody tr th:only-of-type {\n",
       "        vertical-align: middle;\n",
       "    }\n",
       "\n",
       "    .dataframe tbody tr th {\n",
       "        vertical-align: top;\n",
       "    }\n",
       "\n",
       "    .dataframe thead th {\n",
       "        text-align: right;\n",
       "    }\n",
       "</style>\n",
       "<table border=\"1\" class=\"dataframe\">\n",
       "  <thead>\n",
       "    <tr style=\"text-align: right;\">\n",
       "      <th></th>\n",
       "      <th>component_1</th>\n",
       "      <th>component_2</th>\n",
       "      <th>component_3</th>\n",
       "    </tr>\n",
       "    <tr>\n",
       "      <th>clean_review</th>\n",
       "      <th></th>\n",
       "      <th></th>\n",
       "      <th></th>\n",
       "    </tr>\n",
       "  </thead>\n",
       "  <tbody>\n",
       "    <tr>\n",
       "      <th>head body nice flavor or min before full affect clear headed but very relaxed reduced pain productive clear thinking very nice overall feeling not stuck to couch but body fully relaxed after a long week this is new favorite i am ready for bed hrs after a good vape taste with a little addition an hour ago and so is it good nite</th>\n",
       "      <td>0.05052</td>\n",
       "      <td>0.12650</td>\n",
       "      <td>0.19262</td>\n",
       "    </tr>\n",
       "    <tr>\n",
       "      <th>love this strain happy calm relaxed but not glued down i can really settle in to a show or game and enjoy either i think this will be a favorite for a long time</th>\n",
       "      <td>0.00551</td>\n",
       "      <td>0.01491</td>\n",
       "      <td>0.00359</td>\n",
       "    </tr>\n",
       "    <tr>\n",
       "      <th>are you looking to get shire smacked in the face with a peppy yet tranquil bud if so look no further than this strain with colorful fluffy nugs and beautiful aroma this shit really is the precious smokes great and the flavor is stellar the high gives you a relaxed stroking your gandalf beard in the shire feel</th>\n",
       "      <td>0.00508</td>\n",
       "      <td>0.00947</td>\n",
       "      <td>0.00959</td>\n",
       "    </tr>\n",
       "    <tr>\n",
       "      <th>such a smooth smoke instant head high very meoow on the lungs but very potent for pain such a smoke i picked some up at the verdes foundation in abq nm what amazing pre rolls of this im looking forward to the next time they have this in</th>\n",
       "      <td>0.00894</td>\n",
       "      <td>0.09141</td>\n",
       "      <td>0.00533</td>\n",
       "    </tr>\n",
       "    <tr>\n",
       "      <th>i now truly understand the beauty of middle earth after smoking this earth blended gift from the fairies i no longer fear the nameless enemy</th>\n",
       "      <td>0.00000</td>\n",
       "      <td>0.00000</td>\n",
       "      <td>0.00000</td>\n",
       "    </tr>\n",
       "    <tr>\n",
       "      <th>...</th>\n",
       "      <td>...</td>\n",
       "      <td>...</td>\n",
       "      <td>...</td>\n",
       "    </tr>\n",
       "    <tr>\n",
       "      <th>i really liked this strain for my day time i was able to function and even eat</th>\n",
       "      <td>0.00230</td>\n",
       "      <td>0.01260</td>\n",
       "      <td>0.00334</td>\n",
       "    </tr>\n",
       "    <tr>\n",
       "      <th>made me giggly with a very noticeable headkick and a deep relaxation great hybrid</th>\n",
       "      <td>0.00000</td>\n",
       "      <td>0.00000</td>\n",
       "      <td>0.00000</td>\n",
       "    </tr>\n",
       "    <tr>\n",
       "      <th>just hit the bammer with this bud wow i feel great i definitley recommend</th>\n",
       "      <td>0.00204</td>\n",
       "      <td>0.00728</td>\n",
       "      <td>0.00099</td>\n",
       "    </tr>\n",
       "    <tr>\n",
       "      <th>the blue magoo from forbidden farms is fire no i mean it s literally on fire right now in my bowl this is some good ass weed fire ina hole</th>\n",
       "      <td>0.00000</td>\n",
       "      <td>0.00000</td>\n",
       "      <td>0.00000</td>\n",
       "    </tr>\n",
       "    <tr>\n",
       "      <th>made me very hungry the high had me forgetting conversations that i had min ago kinda dizzy very nice head high the exhale tastes of blueberries so that s a big plus</th>\n",
       "      <td>0.00000</td>\n",
       "      <td>0.00140</td>\n",
       "      <td>0.08681</td>\n",
       "    </tr>\n",
       "  </tbody>\n",
       "</table>\n",
       "<p>165928 rows × 3 columns</p>\n",
       "</div>"
      ],
      "text/plain": [
       "                                                    component_1  component_2  \\\n",
       "clean_review                                                                   \n",
       " head body nice flavor or min before full affec...      0.05052      0.12650   \n",
       " love this strain happy calm relaxed but not gl...      0.00551      0.01491   \n",
       " are you looking to get shire smacked in the fa...      0.00508      0.00947   \n",
       " such a smooth smoke instant head high very meo...      0.00894      0.09141   \n",
       " i now truly understand the beauty of middle ea...      0.00000      0.00000   \n",
       "...                                                         ...          ...   \n",
       " i really liked this strain for my day time i w...      0.00230      0.01260   \n",
       " made me giggly with a very noticeable headkick...      0.00000      0.00000   \n",
       " just hit the bammer with this bud wow i feel g...      0.00204      0.00728   \n",
       " the blue magoo from forbidden farms is fire no...      0.00000      0.00000   \n",
       " made me very hungry the high had me forgetting...      0.00000      0.00140   \n",
       "\n",
       "                                                    component_3  \n",
       "clean_review                                                     \n",
       " head body nice flavor or min before full affec...      0.19262  \n",
       " love this strain happy calm relaxed but not gl...      0.00359  \n",
       " are you looking to get shire smacked in the fa...      0.00959  \n",
       " such a smooth smoke instant head high very meo...      0.00533  \n",
       " i now truly understand the beauty of middle ea...      0.00000  \n",
       "...                                                         ...  \n",
       " i really liked this strain for my day time i w...      0.00334  \n",
       " made me giggly with a very noticeable headkick...      0.00000  \n",
       " just hit the bammer with this bud wow i feel g...      0.00099  \n",
       " the blue magoo from forbidden farms is fire no...      0.00000  \n",
       " made me very hungry the high had me forgetting...      0.08681  \n",
       "\n",
       "[165928 rows x 3 columns]"
      ]
     },
     "execution_count": 107,
     "metadata": {},
     "output_type": "execute_result"
    }
   ],
   "source": [
    "H = pd.DataFrame(doc_topic.round(5),\n",
    "             index = strain_1['clean_review'],\n",
    "             columns = [\"component_1\",\"component_2\",\"component_3\" ])\n",
    "H"
   ]
  },
  {
   "cell_type": "code",
   "execution_count": 108,
   "metadata": {
    "ExecuteTime": {
     "end_time": "2019-11-14T20:50:33.755155Z",
     "start_time": "2019-11-14T20:50:33.741854Z"
    }
   },
   "outputs": [],
   "source": [
    "doc_word2=doc_word.copy()\n",
    "doc_word2 = pd.DataFrame(doc_word2.toarray())"
   ]
  },
  {
   "cell_type": "code",
   "execution_count": 109,
   "metadata": {
    "ExecuteTime": {
     "end_time": "2019-11-14T20:50:35.145273Z",
     "start_time": "2019-11-14T20:50:35.117380Z"
    }
   },
   "outputs": [],
   "source": [
    "doc_word2['strain_name'] = strain_1[\"strain_name\"]\n"
   ]
  },
  {
   "cell_type": "code",
   "execution_count": 110,
   "metadata": {
    "ExecuteTime": {
     "end_time": "2019-11-14T20:50:36.656693Z",
     "start_time": "2019-11-14T20:50:36.648755Z"
    }
   },
   "outputs": [
    {
     "data": {
      "text/plain": [
       "(165928, 22)"
      ]
     },
     "execution_count": 110,
     "metadata": {},
     "output_type": "execute_result"
    }
   ],
   "source": [
    "doc_word2.shape"
   ]
  },
  {
   "cell_type": "code",
   "execution_count": 111,
   "metadata": {
    "ExecuteTime": {
     "end_time": "2019-11-14T20:50:38.840028Z",
     "start_time": "2019-11-14T20:50:38.822684Z"
    }
   },
   "outputs": [
    {
     "data": {
      "text/html": [
       "<div>\n",
       "<style scoped>\n",
       "    .dataframe tbody tr th:only-of-type {\n",
       "        vertical-align: middle;\n",
       "    }\n",
       "\n",
       "    .dataframe tbody tr th {\n",
       "        vertical-align: top;\n",
       "    }\n",
       "\n",
       "    .dataframe thead th {\n",
       "        text-align: right;\n",
       "    }\n",
       "</style>\n",
       "<table border=\"1\" class=\"dataframe\">\n",
       "  <thead>\n",
       "    <tr style=\"text-align: right;\">\n",
       "      <th></th>\n",
       "      <th>0</th>\n",
       "      <th>1</th>\n",
       "      <th>2</th>\n",
       "      <th>3</th>\n",
       "      <th>4</th>\n",
       "      <th>5</th>\n",
       "      <th>6</th>\n",
       "      <th>7</th>\n",
       "      <th>8</th>\n",
       "      <th>9</th>\n",
       "      <th>10</th>\n",
       "      <th>11</th>\n",
       "      <th>12</th>\n",
       "      <th>13</th>\n",
       "      <th>14</th>\n",
       "      <th>15</th>\n",
       "      <th>16</th>\n",
       "      <th>17</th>\n",
       "      <th>18</th>\n",
       "      <th>19</th>\n",
       "      <th>20</th>\n",
       "      <th>strain_name</th>\n",
       "    </tr>\n",
       "  </thead>\n",
       "  <tbody>\n",
       "    <tr>\n",
       "      <th>0</th>\n",
       "      <td>0</td>\n",
       "      <td>0</td>\n",
       "      <td>0</td>\n",
       "      <td>2</td>\n",
       "      <td>0</td>\n",
       "      <td>1</td>\n",
       "      <td>1</td>\n",
       "      <td>1</td>\n",
       "      <td>2</td>\n",
       "      <td>1</td>\n",
       "      <td>0</td>\n",
       "      <td>2</td>\n",
       "      <td>0</td>\n",
       "      <td>0</td>\n",
       "      <td>0</td>\n",
       "      <td>0</td>\n",
       "      <td>0</td>\n",
       "      <td>0</td>\n",
       "      <td>0</td>\n",
       "      <td>0</td>\n",
       "      <td>1</td>\n",
       "      <td>gorkle</td>\n",
       "    </tr>\n",
       "    <tr>\n",
       "      <th>1</th>\n",
       "      <td>0</td>\n",
       "      <td>0</td>\n",
       "      <td>0</td>\n",
       "      <td>0</td>\n",
       "      <td>0</td>\n",
       "      <td>1</td>\n",
       "      <td>0</td>\n",
       "      <td>0</td>\n",
       "      <td>0</td>\n",
       "      <td>0</td>\n",
       "      <td>0</td>\n",
       "      <td>1</td>\n",
       "      <td>0</td>\n",
       "      <td>0</td>\n",
       "      <td>0</td>\n",
       "      <td>0</td>\n",
       "      <td>0</td>\n",
       "      <td>0</td>\n",
       "      <td>0</td>\n",
       "      <td>0</td>\n",
       "      <td>0</td>\n",
       "      <td>gorkle</td>\n",
       "    </tr>\n",
       "    <tr>\n",
       "      <th>2</th>\n",
       "      <td>0</td>\n",
       "      <td>0</td>\n",
       "      <td>0</td>\n",
       "      <td>0</td>\n",
       "      <td>0</td>\n",
       "      <td>0</td>\n",
       "      <td>1</td>\n",
       "      <td>0</td>\n",
       "      <td>0</td>\n",
       "      <td>0</td>\n",
       "      <td>0</td>\n",
       "      <td>1</td>\n",
       "      <td>0</td>\n",
       "      <td>0</td>\n",
       "      <td>0</td>\n",
       "      <td>0</td>\n",
       "      <td>0</td>\n",
       "      <td>0</td>\n",
       "      <td>0</td>\n",
       "      <td>0</td>\n",
       "      <td>0</td>\n",
       "      <td>longbottom-leaf</td>\n",
       "    </tr>\n",
       "    <tr>\n",
       "      <th>3</th>\n",
       "      <td>1</td>\n",
       "      <td>0</td>\n",
       "      <td>0</td>\n",
       "      <td>0</td>\n",
       "      <td>0</td>\n",
       "      <td>0</td>\n",
       "      <td>0</td>\n",
       "      <td>1</td>\n",
       "      <td>0</td>\n",
       "      <td>1</td>\n",
       "      <td>0</td>\n",
       "      <td>0</td>\n",
       "      <td>0</td>\n",
       "      <td>0</td>\n",
       "      <td>0</td>\n",
       "      <td>0</td>\n",
       "      <td>1</td>\n",
       "      <td>0</td>\n",
       "      <td>0</td>\n",
       "      <td>0</td>\n",
       "      <td>0</td>\n",
       "      <td>longbottom-leaf</td>\n",
       "    </tr>\n",
       "    <tr>\n",
       "      <th>4</th>\n",
       "      <td>0</td>\n",
       "      <td>0</td>\n",
       "      <td>0</td>\n",
       "      <td>0</td>\n",
       "      <td>0</td>\n",
       "      <td>0</td>\n",
       "      <td>0</td>\n",
       "      <td>0</td>\n",
       "      <td>0</td>\n",
       "      <td>0</td>\n",
       "      <td>0</td>\n",
       "      <td>0</td>\n",
       "      <td>0</td>\n",
       "      <td>0</td>\n",
       "      <td>0</td>\n",
       "      <td>0</td>\n",
       "      <td>0</td>\n",
       "      <td>0</td>\n",
       "      <td>0</td>\n",
       "      <td>0</td>\n",
       "      <td>0</td>\n",
       "      <td>longbottom-leaf</td>\n",
       "    </tr>\n",
       "  </tbody>\n",
       "</table>\n",
       "</div>"
      ],
      "text/plain": [
       "   0  1  2  3  4  5  6  7  8  9  10  11  12  13  14  15  16  17  18  19  20  \\\n",
       "0  0  0  0  2  0  1  1  1  2  1   0   2   0   0   0   0   0   0   0   0   1   \n",
       "1  0  0  0  0  0  1  0  0  0  0   0   1   0   0   0   0   0   0   0   0   0   \n",
       "2  0  0  0  0  0  0  1  0  0  0   0   1   0   0   0   0   0   0   0   0   0   \n",
       "3  1  0  0  0  0  0  0  1  0  1   0   0   0   0   0   0   1   0   0   0   0   \n",
       "4  0  0  0  0  0  0  0  0  0  0   0   0   0   0   0   0   0   0   0   0   0   \n",
       "\n",
       "       strain_name  \n",
       "0           gorkle  \n",
       "1           gorkle  \n",
       "2  longbottom-leaf  \n",
       "3  longbottom-leaf  \n",
       "4  longbottom-leaf  "
      ]
     },
     "execution_count": 111,
     "metadata": {},
     "output_type": "execute_result"
    }
   ],
   "source": [
    "doc_word2.head()"
   ]
  },
  {
   "cell_type": "code",
   "execution_count": 112,
   "metadata": {
    "ExecuteTime": {
     "end_time": "2019-11-14T20:50:42.532030Z",
     "start_time": "2019-11-14T20:50:42.373946Z"
    }
   },
   "outputs": [
    {
     "data": {
      "text/html": [
       "<div>\n",
       "<style scoped>\n",
       "    .dataframe tbody tr th:only-of-type {\n",
       "        vertical-align: middle;\n",
       "    }\n",
       "\n",
       "    .dataframe tbody tr th {\n",
       "        vertical-align: top;\n",
       "    }\n",
       "\n",
       "    .dataframe thead th {\n",
       "        text-align: right;\n",
       "    }\n",
       "</style>\n",
       "<table border=\"1\" class=\"dataframe\">\n",
       "  <thead>\n",
       "    <tr style=\"text-align: right;\">\n",
       "      <th></th>\n",
       "      <th>0</th>\n",
       "      <th>1</th>\n",
       "      <th>2</th>\n",
       "      <th>3</th>\n",
       "      <th>4</th>\n",
       "      <th>5</th>\n",
       "      <th>6</th>\n",
       "      <th>7</th>\n",
       "      <th>8</th>\n",
       "      <th>9</th>\n",
       "      <th>10</th>\n",
       "      <th>11</th>\n",
       "      <th>12</th>\n",
       "      <th>13</th>\n",
       "      <th>14</th>\n",
       "      <th>15</th>\n",
       "      <th>16</th>\n",
       "      <th>17</th>\n",
       "      <th>18</th>\n",
       "      <th>19</th>\n",
       "      <th>20</th>\n",
       "    </tr>\n",
       "    <tr>\n",
       "      <th>strain_name</th>\n",
       "      <th></th>\n",
       "      <th></th>\n",
       "      <th></th>\n",
       "      <th></th>\n",
       "      <th></th>\n",
       "      <th></th>\n",
       "      <th></th>\n",
       "      <th></th>\n",
       "      <th></th>\n",
       "      <th></th>\n",
       "      <th></th>\n",
       "      <th></th>\n",
       "      <th></th>\n",
       "      <th></th>\n",
       "      <th></th>\n",
       "      <th></th>\n",
       "      <th></th>\n",
       "      <th></th>\n",
       "      <th></th>\n",
       "      <th></th>\n",
       "      <th></th>\n",
       "    </tr>\n",
       "  </thead>\n",
       "  <tbody>\n",
       "    <tr>\n",
       "      <th>100-og</th>\n",
       "      <td>20</td>\n",
       "      <td>12</td>\n",
       "      <td>27</td>\n",
       "      <td>20</td>\n",
       "      <td>8</td>\n",
       "      <td>8</td>\n",
       "      <td>8</td>\n",
       "      <td>22</td>\n",
       "      <td>35</td>\n",
       "      <td>25</td>\n",
       "      <td>12</td>\n",
       "      <td>11</td>\n",
       "      <td>8</td>\n",
       "      <td>9</td>\n",
       "      <td>18</td>\n",
       "      <td>17</td>\n",
       "      <td>10</td>\n",
       "      <td>11</td>\n",
       "      <td>14</td>\n",
       "      <td>10</td>\n",
       "      <td>34</td>\n",
       "    </tr>\n",
       "    <tr>\n",
       "      <th>13-dawgs</th>\n",
       "      <td>0</td>\n",
       "      <td>0</td>\n",
       "      <td>0</td>\n",
       "      <td>0</td>\n",
       "      <td>0</td>\n",
       "      <td>0</td>\n",
       "      <td>0</td>\n",
       "      <td>0</td>\n",
       "      <td>0</td>\n",
       "      <td>0</td>\n",
       "      <td>0</td>\n",
       "      <td>0</td>\n",
       "      <td>1</td>\n",
       "      <td>0</td>\n",
       "      <td>0</td>\n",
       "      <td>0</td>\n",
       "      <td>0</td>\n",
       "      <td>0</td>\n",
       "      <td>0</td>\n",
       "      <td>0</td>\n",
       "      <td>1</td>\n",
       "    </tr>\n",
       "    <tr>\n",
       "      <th>22</th>\n",
       "      <td>2</td>\n",
       "      <td>0</td>\n",
       "      <td>2</td>\n",
       "      <td>0</td>\n",
       "      <td>0</td>\n",
       "      <td>0</td>\n",
       "      <td>0</td>\n",
       "      <td>1</td>\n",
       "      <td>0</td>\n",
       "      <td>2</td>\n",
       "      <td>1</td>\n",
       "      <td>1</td>\n",
       "      <td>0</td>\n",
       "      <td>2</td>\n",
       "      <td>0</td>\n",
       "      <td>2</td>\n",
       "      <td>0</td>\n",
       "      <td>1</td>\n",
       "      <td>0</td>\n",
       "      <td>1</td>\n",
       "      <td>1</td>\n",
       "    </tr>\n",
       "    <tr>\n",
       "      <th>24k-gold</th>\n",
       "      <td>10</td>\n",
       "      <td>6</td>\n",
       "      <td>10</td>\n",
       "      <td>15</td>\n",
       "      <td>17</td>\n",
       "      <td>9</td>\n",
       "      <td>6</td>\n",
       "      <td>11</td>\n",
       "      <td>26</td>\n",
       "      <td>17</td>\n",
       "      <td>7</td>\n",
       "      <td>11</td>\n",
       "      <td>10</td>\n",
       "      <td>8</td>\n",
       "      <td>20</td>\n",
       "      <td>5</td>\n",
       "      <td>9</td>\n",
       "      <td>14</td>\n",
       "      <td>3</td>\n",
       "      <td>4</td>\n",
       "      <td>26</td>\n",
       "    </tr>\n",
       "    <tr>\n",
       "      <th>3-bears-og</th>\n",
       "      <td>0</td>\n",
       "      <td>1</td>\n",
       "      <td>2</td>\n",
       "      <td>3</td>\n",
       "      <td>0</td>\n",
       "      <td>0</td>\n",
       "      <td>0</td>\n",
       "      <td>0</td>\n",
       "      <td>2</td>\n",
       "      <td>2</td>\n",
       "      <td>0</td>\n",
       "      <td>2</td>\n",
       "      <td>1</td>\n",
       "      <td>0</td>\n",
       "      <td>0</td>\n",
       "      <td>0</td>\n",
       "      <td>0</td>\n",
       "      <td>0</td>\n",
       "      <td>0</td>\n",
       "      <td>0</td>\n",
       "      <td>3</td>\n",
       "    </tr>\n",
       "    <tr>\n",
       "      <th>...</th>\n",
       "      <td>...</td>\n",
       "      <td>...</td>\n",
       "      <td>...</td>\n",
       "      <td>...</td>\n",
       "      <td>...</td>\n",
       "      <td>...</td>\n",
       "      <td>...</td>\n",
       "      <td>...</td>\n",
       "      <td>...</td>\n",
       "      <td>...</td>\n",
       "      <td>...</td>\n",
       "      <td>...</td>\n",
       "      <td>...</td>\n",
       "      <td>...</td>\n",
       "      <td>...</td>\n",
       "      <td>...</td>\n",
       "      <td>...</td>\n",
       "      <td>...</td>\n",
       "      <td>...</td>\n",
       "      <td>...</td>\n",
       "      <td>...</td>\n",
       "    </tr>\n",
       "    <tr>\n",
       "      <th>zellys-gift</th>\n",
       "      <td>0</td>\n",
       "      <td>2</td>\n",
       "      <td>1</td>\n",
       "      <td>1</td>\n",
       "      <td>1</td>\n",
       "      <td>2</td>\n",
       "      <td>2</td>\n",
       "      <td>3</td>\n",
       "      <td>3</td>\n",
       "      <td>1</td>\n",
       "      <td>1</td>\n",
       "      <td>0</td>\n",
       "      <td>0</td>\n",
       "      <td>0</td>\n",
       "      <td>3</td>\n",
       "      <td>4</td>\n",
       "      <td>1</td>\n",
       "      <td>2</td>\n",
       "      <td>0</td>\n",
       "      <td>0</td>\n",
       "      <td>3</td>\n",
       "    </tr>\n",
       "    <tr>\n",
       "      <th>zen</th>\n",
       "      <td>0</td>\n",
       "      <td>1</td>\n",
       "      <td>0</td>\n",
       "      <td>0</td>\n",
       "      <td>4</td>\n",
       "      <td>1</td>\n",
       "      <td>0</td>\n",
       "      <td>0</td>\n",
       "      <td>4</td>\n",
       "      <td>1</td>\n",
       "      <td>2</td>\n",
       "      <td>0</td>\n",
       "      <td>0</td>\n",
       "      <td>1</td>\n",
       "      <td>0</td>\n",
       "      <td>1</td>\n",
       "      <td>0</td>\n",
       "      <td>0</td>\n",
       "      <td>3</td>\n",
       "      <td>1</td>\n",
       "      <td>1</td>\n",
       "    </tr>\n",
       "    <tr>\n",
       "      <th>zeta-sage</th>\n",
       "      <td>4</td>\n",
       "      <td>8</td>\n",
       "      <td>4</td>\n",
       "      <td>6</td>\n",
       "      <td>7</td>\n",
       "      <td>6</td>\n",
       "      <td>3</td>\n",
       "      <td>3</td>\n",
       "      <td>4</td>\n",
       "      <td>9</td>\n",
       "      <td>1</td>\n",
       "      <td>2</td>\n",
       "      <td>4</td>\n",
       "      <td>3</td>\n",
       "      <td>7</td>\n",
       "      <td>2</td>\n",
       "      <td>1</td>\n",
       "      <td>2</td>\n",
       "      <td>2</td>\n",
       "      <td>2</td>\n",
       "      <td>10</td>\n",
       "    </tr>\n",
       "    <tr>\n",
       "      <th>zeus-og</th>\n",
       "      <td>1</td>\n",
       "      <td>3</td>\n",
       "      <td>0</td>\n",
       "      <td>3</td>\n",
       "      <td>0</td>\n",
       "      <td>2</td>\n",
       "      <td>1</td>\n",
       "      <td>4</td>\n",
       "      <td>4</td>\n",
       "      <td>1</td>\n",
       "      <td>0</td>\n",
       "      <td>4</td>\n",
       "      <td>3</td>\n",
       "      <td>2</td>\n",
       "      <td>1</td>\n",
       "      <td>0</td>\n",
       "      <td>4</td>\n",
       "      <td>2</td>\n",
       "      <td>2</td>\n",
       "      <td>2</td>\n",
       "      <td>2</td>\n",
       "    </tr>\n",
       "    <tr>\n",
       "      <th>zoom-pie</th>\n",
       "      <td>0</td>\n",
       "      <td>0</td>\n",
       "      <td>2</td>\n",
       "      <td>0</td>\n",
       "      <td>1</td>\n",
       "      <td>0</td>\n",
       "      <td>0</td>\n",
       "      <td>1</td>\n",
       "      <td>1</td>\n",
       "      <td>0</td>\n",
       "      <td>0</td>\n",
       "      <td>0</td>\n",
       "      <td>0</td>\n",
       "      <td>0</td>\n",
       "      <td>0</td>\n",
       "      <td>3</td>\n",
       "      <td>0</td>\n",
       "      <td>0</td>\n",
       "      <td>2</td>\n",
       "      <td>0</td>\n",
       "      <td>3</td>\n",
       "    </tr>\n",
       "  </tbody>\n",
       "</table>\n",
       "<p>1859 rows × 21 columns</p>\n",
       "</div>"
      ],
      "text/plain": [
       "             0   1   2   3   4   5   6   7   8   9   10  11  12  13  14  15  \\\n",
       "strain_name                                                                   \n",
       "100-og       20  12  27  20   8   8   8  22  35  25  12  11   8   9  18  17   \n",
       "13-dawgs      0   0   0   0   0   0   0   0   0   0   0   0   1   0   0   0   \n",
       "22            2   0   2   0   0   0   0   1   0   2   1   1   0   2   0   2   \n",
       "24k-gold     10   6  10  15  17   9   6  11  26  17   7  11  10   8  20   5   \n",
       "3-bears-og    0   1   2   3   0   0   0   0   2   2   0   2   1   0   0   0   \n",
       "...          ..  ..  ..  ..  ..  ..  ..  ..  ..  ..  ..  ..  ..  ..  ..  ..   \n",
       "zellys-gift   0   2   1   1   1   2   2   3   3   1   1   0   0   0   3   4   \n",
       "zen           0   1   0   0   4   1   0   0   4   1   2   0   0   1   0   1   \n",
       "zeta-sage     4   8   4   6   7   6   3   3   4   9   1   2   4   3   7   2   \n",
       "zeus-og       1   3   0   3   0   2   1   4   4   1   0   4   3   2   1   0   \n",
       "zoom-pie      0   0   2   0   1   0   0   1   1   0   0   0   0   0   0   3   \n",
       "\n",
       "             16  17  18  19  20  \n",
       "strain_name                      \n",
       "100-og       10  11  14  10  34  \n",
       "13-dawgs      0   0   0   0   1  \n",
       "22            0   1   0   1   1  \n",
       "24k-gold      9  14   3   4  26  \n",
       "3-bears-og    0   0   0   0   3  \n",
       "...          ..  ..  ..  ..  ..  \n",
       "zellys-gift   1   2   0   0   3  \n",
       "zen           0   0   3   1   1  \n",
       "zeta-sage     1   2   2   2  10  \n",
       "zeus-og       4   2   2   2   2  \n",
       "zoom-pie      0   0   2   0   3  \n",
       "\n",
       "[1859 rows x 21 columns]"
      ]
     },
     "execution_count": 112,
     "metadata": {},
     "output_type": "execute_result"
    }
   ],
   "source": [
    "strain_groupby=doc_word2.groupby(['strain_name']).sum()\n",
    "strain_groupby"
   ]
  },
  {
   "cell_type": "code",
   "execution_count": 114,
   "metadata": {
    "ExecuteTime": {
     "end_time": "2019-11-14T20:50:50.643003Z",
     "start_time": "2019-11-14T20:50:50.624297Z"
    }
   },
   "outputs": [
    {
     "data": {
      "text/plain": [
       "TfidfTransformer(norm='l2', smooth_idf=True, sublinear_tf=False, use_idf=True)"
      ]
     },
     "execution_count": 114,
     "metadata": {},
     "output_type": "execute_result"
    }
   ],
   "source": [
    "tfidf_transformer=TfidfTransformer(smooth_idf=True,use_idf=True)\n",
    "tfidf_transformer.fit(strain_groupby)\n"
   ]
  },
  {
   "cell_type": "code",
   "execution_count": 115,
   "metadata": {
    "ExecuteTime": {
     "end_time": "2019-11-14T20:50:53.336299Z",
     "start_time": "2019-11-14T20:50:53.305719Z"
    }
   },
   "outputs": [
    {
     "data": {
      "text/plain": [
       "<1859x21 sparse matrix of type '<class 'numpy.float64'>'\n",
       "\twith 25497 stored elements in Compressed Sparse Row format>"
      ]
     },
     "execution_count": 115,
     "metadata": {},
     "output_type": "execute_result"
    }
   ],
   "source": [
    "doc_word_2 = tfidf_transformer.fit_transform(strain_groupby)\n",
    "doc_word_2"
   ]
  },
  {
   "cell_type": "code",
   "execution_count": 116,
   "metadata": {
    "ExecuteTime": {
     "end_time": "2019-11-14T20:50:57.754109Z",
     "start_time": "2019-11-14T20:50:57.730717Z"
    }
   },
   "outputs": [
    {
     "data": {
      "text/plain": [
       "array([0.10010016, 0.09985844, 0.06733635, 0.06367561])"
      ]
     },
     "execution_count": 116,
     "metadata": {},
     "output_type": "execute_result"
    }
   ],
   "source": [
    "lsa = TruncatedSVD(4)\n",
    "doc_topic = lsa.fit_transform(doc_word_2)\n",
    "lsa.explained_variance_ratio_"
   ]
  },
  {
   "cell_type": "code",
   "execution_count": 117,
   "metadata": {
    "ExecuteTime": {
     "end_time": "2019-11-14T20:51:02.146307Z",
     "start_time": "2019-11-14T20:51:02.121454Z"
    }
   },
   "outputs": [
    {
     "data": {
      "text/html": [
       "<div>\n",
       "<style scoped>\n",
       "    .dataframe tbody tr th:only-of-type {\n",
       "        vertical-align: middle;\n",
       "    }\n",
       "\n",
       "    .dataframe tbody tr th {\n",
       "        vertical-align: top;\n",
       "    }\n",
       "\n",
       "    .dataframe thead th {\n",
       "        text-align: right;\n",
       "    }\n",
       "</style>\n",
       "<table border=\"1\" class=\"dataframe\">\n",
       "  <thead>\n",
       "    <tr style=\"text-align: right;\">\n",
       "      <th></th>\n",
       "      <th>amazing</th>\n",
       "      <th>anxiety</th>\n",
       "      <th>best</th>\n",
       "      <th>body</th>\n",
       "      <th>day</th>\n",
       "      <th>favorite</th>\n",
       "      <th>flavor</th>\n",
       "      <th>head</th>\n",
       "      <th>nice</th>\n",
       "      <th>pain</th>\n",
       "      <th>recommend</th>\n",
       "      <th>relaxed</th>\n",
       "      <th>relaxing</th>\n",
       "      <th>sleep</th>\n",
       "      <th>smell</th>\n",
       "      <th>smoked</th>\n",
       "      <th>smooth</th>\n",
       "      <th>strong</th>\n",
       "      <th>super</th>\n",
       "      <th>sweet</th>\n",
       "      <th>taste</th>\n",
       "    </tr>\n",
       "  </thead>\n",
       "  <tbody>\n",
       "    <tr>\n",
       "      <th>component_1</th>\n",
       "      <td>0.1855</td>\n",
       "      <td>0.1907</td>\n",
       "      <td>0.2021</td>\n",
       "      <td>0.2636</td>\n",
       "      <td>0.2172</td>\n",
       "      <td>0.1917</td>\n",
       "      <td>0.1539</td>\n",
       "      <td>0.2026</td>\n",
       "      <td>0.3485</td>\n",
       "      <td>0.2949</td>\n",
       "      <td>0.1398</td>\n",
       "      <td>0.1629</td>\n",
       "      <td>0.1956</td>\n",
       "      <td>0.1594</td>\n",
       "      <td>0.2589</td>\n",
       "      <td>0.1820</td>\n",
       "      <td>0.1522</td>\n",
       "      <td>0.1984</td>\n",
       "      <td>0.1500</td>\n",
       "      <td>0.1716</td>\n",
       "      <td>0.3708</td>\n",
       "    </tr>\n",
       "    <tr>\n",
       "      <th>component_2</th>\n",
       "      <td>-0.0414</td>\n",
       "      <td>0.1524</td>\n",
       "      <td>0.0350</td>\n",
       "      <td>0.2327</td>\n",
       "      <td>-0.0692</td>\n",
       "      <td>-0.0774</td>\n",
       "      <td>-0.0534</td>\n",
       "      <td>-0.0037</td>\n",
       "      <td>-0.2378</td>\n",
       "      <td>0.7000</td>\n",
       "      <td>0.0109</td>\n",
       "      <td>0.0985</td>\n",
       "      <td>0.1231</td>\n",
       "      <td>0.2806</td>\n",
       "      <td>-0.2740</td>\n",
       "      <td>-0.0424</td>\n",
       "      <td>-0.0104</td>\n",
       "      <td>-0.0442</td>\n",
       "      <td>-0.0003</td>\n",
       "      <td>-0.1684</td>\n",
       "      <td>-0.3854</td>\n",
       "    </tr>\n",
       "    <tr>\n",
       "      <th>component_3</th>\n",
       "      <td>-0.1276</td>\n",
       "      <td>0.0076</td>\n",
       "      <td>0.0091</td>\n",
       "      <td>0.1973</td>\n",
       "      <td>0.1606</td>\n",
       "      <td>-0.0051</td>\n",
       "      <td>-0.0311</td>\n",
       "      <td>0.2845</td>\n",
       "      <td>0.6641</td>\n",
       "      <td>-0.2037</td>\n",
       "      <td>0.0018</td>\n",
       "      <td>0.0324</td>\n",
       "      <td>-0.0541</td>\n",
       "      <td>-0.0770</td>\n",
       "      <td>-0.2519</td>\n",
       "      <td>0.0869</td>\n",
       "      <td>-0.0314</td>\n",
       "      <td>0.0029</td>\n",
       "      <td>-0.0545</td>\n",
       "      <td>-0.1614</td>\n",
       "      <td>-0.4935</td>\n",
       "    </tr>\n",
       "    <tr>\n",
       "      <th>component_4</th>\n",
       "      <td>0.1015</td>\n",
       "      <td>0.2450</td>\n",
       "      <td>0.4171</td>\n",
       "      <td>-0.2155</td>\n",
       "      <td>0.3169</td>\n",
       "      <td>0.2513</td>\n",
       "      <td>0.0733</td>\n",
       "      <td>0.0488</td>\n",
       "      <td>-0.3443</td>\n",
       "      <td>-0.0622</td>\n",
       "      <td>0.1342</td>\n",
       "      <td>-0.0633</td>\n",
       "      <td>-0.3106</td>\n",
       "      <td>-0.1778</td>\n",
       "      <td>-0.0750</td>\n",
       "      <td>0.4249</td>\n",
       "      <td>-0.0030</td>\n",
       "      <td>0.0484</td>\n",
       "      <td>0.1307</td>\n",
       "      <td>-0.0686</td>\n",
       "      <td>-0.2349</td>\n",
       "    </tr>\n",
       "  </tbody>\n",
       "</table>\n",
       "</div>"
      ],
      "text/plain": [
       "             amazing  anxiety    best    body     day  favorite  flavor  \\\n",
       "component_1   0.1855   0.1907  0.2021  0.2636  0.2172    0.1917  0.1539   \n",
       "component_2  -0.0414   0.1524  0.0350  0.2327 -0.0692   -0.0774 -0.0534   \n",
       "component_3  -0.1276   0.0076  0.0091  0.1973  0.1606   -0.0051 -0.0311   \n",
       "component_4   0.1015   0.2450  0.4171 -0.2155  0.3169    0.2513  0.0733   \n",
       "\n",
       "               head    nice    pain  recommend  relaxed  relaxing   sleep  \\\n",
       "component_1  0.2026  0.3485  0.2949     0.1398   0.1629    0.1956  0.1594   \n",
       "component_2 -0.0037 -0.2378  0.7000     0.0109   0.0985    0.1231  0.2806   \n",
       "component_3  0.2845  0.6641 -0.2037     0.0018   0.0324   -0.0541 -0.0770   \n",
       "component_4  0.0488 -0.3443 -0.0622     0.1342  -0.0633   -0.3106 -0.1778   \n",
       "\n",
       "              smell  smoked  smooth  strong   super   sweet   taste  \n",
       "component_1  0.2589  0.1820  0.1522  0.1984  0.1500  0.1716  0.3708  \n",
       "component_2 -0.2740 -0.0424 -0.0104 -0.0442 -0.0003 -0.1684 -0.3854  \n",
       "component_3 -0.2519  0.0869 -0.0314  0.0029 -0.0545 -0.1614 -0.4935  \n",
       "component_4 -0.0750  0.4249 -0.0030  0.0484  0.1307 -0.0686 -0.2349  "
      ]
     },
     "execution_count": 117,
     "metadata": {},
     "output_type": "execute_result"
    }
   ],
   "source": [
    "topic_word = pd.DataFrame(lsa.components_.round(4),\n",
    "             index = [\"component_1\",\"component_2\",\"component_3\",\"component_4\"],\n",
    "             columns = vectorizer.get_feature_names())\n",
    "topic_word"
   ]
  },
  {
   "cell_type": "code",
   "execution_count": 118,
   "metadata": {
    "ExecuteTime": {
     "end_time": "2019-11-14T20:51:04.767303Z",
     "start_time": "2019-11-14T20:51:04.759838Z"
    }
   },
   "outputs": [],
   "source": [
    "def display_topics(model, feature_names, no_top_words, topic_names=None):\n",
    "    for ix, topic in enumerate(model.components_):\n",
    "        if not topic_names or not topic_names[ix]:\n",
    "            print(\"\\nTopic \", ix)\n",
    "        else:\n",
    "            print(\"\\nTopic: '\",topic_names[ix],\"'\")\n",
    "        print(\", \".join([feature_names[i]\n",
    "                        for i in topic.argsort()[:-no_top_words - 1:-1]]))"
   ]
  },
  {
   "cell_type": "code",
   "execution_count": 119,
   "metadata": {
    "ExecuteTime": {
     "end_time": "2019-11-14T20:51:07.528735Z",
     "start_time": "2019-11-14T20:51:07.519913Z"
    }
   },
   "outputs": [
    {
     "name": "stdout",
     "output_type": "stream",
     "text": [
      "\n",
      "Topic  0\n",
      "taste, nice, pain, body, smell, day, head, best, strong, relaxing\n",
      "\n",
      "Topic  1\n",
      "pain, sleep, body, anxiety, relaxing, relaxed, best, recommend, super, head\n",
      "\n",
      "Topic  2\n",
      "nice, head, body, day, smoked, relaxed, best, anxiety, strong, recommend\n",
      "\n",
      "Topic  3\n",
      "smoked, best, day, favorite, anxiety, recommend, super, amazing, flavor, head\n"
     ]
    }
   ],
   "source": [
    "display_topics(lsa, vectorizer.get_feature_names(), 10)"
   ]
  },
  {
   "cell_type": "code",
   "execution_count": null,
   "metadata": {},
   "outputs": [],
   "source": []
  },
  {
   "cell_type": "code",
   "execution_count": 121,
   "metadata": {
    "ExecuteTime": {
     "end_time": "2019-11-14T21:35:48.711146Z",
     "start_time": "2019-11-14T21:35:48.681103Z"
    }
   },
   "outputs": [],
   "source": [
    "from sklearn.preprocessing import StandardScaler"
   ]
  },
  {
   "cell_type": "code",
   "execution_count": 122,
   "metadata": {
    "ExecuteTime": {
     "end_time": "2019-11-14T21:35:49.326827Z",
     "start_time": "2019-11-14T21:35:49.315130Z"
    }
   },
   "outputs": [],
   "source": [
    "sscale = StandardScaler()"
   ]
  },
  {
   "cell_type": "code",
   "execution_count": 123,
   "metadata": {
    "ExecuteTime": {
     "end_time": "2019-11-14T21:35:50.299671Z",
     "start_time": "2019-11-14T21:35:50.196650Z"
    }
   },
   "outputs": [
    {
     "data": {
      "text/html": [
       "<div>\n",
       "<style scoped>\n",
       "    .dataframe tbody tr th:only-of-type {\n",
       "        vertical-align: middle;\n",
       "    }\n",
       "\n",
       "    .dataframe tbody tr th {\n",
       "        vertical-align: top;\n",
       "    }\n",
       "\n",
       "    .dataframe thead th {\n",
       "        text-align: right;\n",
       "    }\n",
       "</style>\n",
       "<table border=\"1\" class=\"dataframe\">\n",
       "  <thead>\n",
       "    <tr style=\"text-align: right;\">\n",
       "      <th></th>\n",
       "      <th>0</th>\n",
       "      <th>1</th>\n",
       "      <th>2</th>\n",
       "      <th>3</th>\n",
       "    </tr>\n",
       "  </thead>\n",
       "  <tbody>\n",
       "    <tr>\n",
       "      <th>0</th>\n",
       "      <td>0.962204</td>\n",
       "      <td>-0.001607</td>\n",
       "      <td>0.036824</td>\n",
       "      <td>0.051035</td>\n",
       "    </tr>\n",
       "    <tr>\n",
       "      <th>1</th>\n",
       "      <td>0.390855</td>\n",
       "      <td>-0.160674</td>\n",
       "      <td>-0.361671</td>\n",
       "      <td>-0.376555</td>\n",
       "    </tr>\n",
       "    <tr>\n",
       "      <th>2</th>\n",
       "      <td>0.633631</td>\n",
       "      <td>0.272172</td>\n",
       "      <td>-0.176377</td>\n",
       "      <td>0.243858</td>\n",
       "    </tr>\n",
       "    <tr>\n",
       "      <th>3</th>\n",
       "      <td>0.972277</td>\n",
       "      <td>-0.048209</td>\n",
       "      <td>0.025376</td>\n",
       "      <td>-0.086915</td>\n",
       "    </tr>\n",
       "    <tr>\n",
       "      <th>4</th>\n",
       "      <td>0.712177</td>\n",
       "      <td>0.198403</td>\n",
       "      <td>0.013882</td>\n",
       "      <td>-0.229292</td>\n",
       "    </tr>\n",
       "    <tr>\n",
       "      <th>...</th>\n",
       "      <td>...</td>\n",
       "      <td>...</td>\n",
       "      <td>...</td>\n",
       "      <td>...</td>\n",
       "    </tr>\n",
       "    <tr>\n",
       "      <th>1854</th>\n",
       "      <td>0.800663</td>\n",
       "      <td>-0.212644</td>\n",
       "      <td>0.121917</td>\n",
       "      <td>0.246720</td>\n",
       "    </tr>\n",
       "    <tr>\n",
       "      <th>1855</th>\n",
       "      <td>0.621903</td>\n",
       "      <td>-0.083085</td>\n",
       "      <td>0.279741</td>\n",
       "      <td>0.171775</td>\n",
       "    </tr>\n",
       "    <tr>\n",
       "      <th>1856</th>\n",
       "      <td>0.923798</td>\n",
       "      <td>0.113929</td>\n",
       "      <td>-0.160565</td>\n",
       "      <td>0.084519</td>\n",
       "    </tr>\n",
       "    <tr>\n",
       "      <th>1857</th>\n",
       "      <td>0.789155</td>\n",
       "      <td>0.062135</td>\n",
       "      <td>0.156434</td>\n",
       "      <td>-0.195053</td>\n",
       "    </tr>\n",
       "    <tr>\n",
       "      <th>1858</th>\n",
       "      <td>0.563798</td>\n",
       "      <td>-0.257287</td>\n",
       "      <td>-0.023028</td>\n",
       "      <td>0.369976</td>\n",
       "    </tr>\n",
       "  </tbody>\n",
       "</table>\n",
       "<p>1859 rows × 4 columns</p>\n",
       "</div>"
      ],
      "text/plain": [
       "             0         1         2         3\n",
       "0     0.962204 -0.001607  0.036824  0.051035\n",
       "1     0.390855 -0.160674 -0.361671 -0.376555\n",
       "2     0.633631  0.272172 -0.176377  0.243858\n",
       "3     0.972277 -0.048209  0.025376 -0.086915\n",
       "4     0.712177  0.198403  0.013882 -0.229292\n",
       "...        ...       ...       ...       ...\n",
       "1854  0.800663 -0.212644  0.121917  0.246720\n",
       "1855  0.621903 -0.083085  0.279741  0.171775\n",
       "1856  0.923798  0.113929 -0.160565  0.084519\n",
       "1857  0.789155  0.062135  0.156434 -0.195053\n",
       "1858  0.563798 -0.257287 -0.023028  0.369976\n",
       "\n",
       "[1859 rows x 4 columns]"
      ]
     },
     "execution_count": 123,
     "metadata": {},
     "output_type": "execute_result"
    }
   ],
   "source": [
    "pd.DataFrame(doc_topic)"
   ]
  },
  {
   "cell_type": "code",
   "execution_count": 124,
   "metadata": {
    "ExecuteTime": {
     "end_time": "2019-11-14T21:35:55.876927Z",
     "start_time": "2019-11-14T21:35:55.628848Z"
    }
   },
   "outputs": [],
   "source": [
    "strain_cosine=pd.DataFrame(cosine_similarity(doc_topic),columns=strain_groupby.index.values,index=strain_groupby.index.values)"
   ]
  },
  {
   "cell_type": "code",
   "execution_count": 141,
   "metadata": {
    "ExecuteTime": {
     "end_time": "2019-11-15T06:06:10.976528Z",
     "start_time": "2019-11-15T06:06:10.959906Z"
    }
   },
   "outputs": [
    {
     "data": {
      "text/plain": [
       "blueberry                 1.000000\n",
       "swiss-tsunami             0.999361\n",
       "cali-kush                 0.999180\n",
       "ice-cream                 0.999078\n",
       "golden-goat               0.999009\n",
       "                            ...   \n",
       "godzilla-blood            0.000000\n",
       "the-original-lemonnade    0.000000\n",
       "space-poison              0.000000\n",
       "citral-skunk              0.000000\n",
       "pinewarp                  0.000000\n",
       "Name: blueberry, Length: 1859, dtype: float64"
      ]
     },
     "execution_count": 141,
     "metadata": {},
     "output_type": "execute_result"
    }
   ],
   "source": [
    "strain_cosine['blueberry'].sort_values(ascending=False)"
   ]
  },
  {
   "cell_type": "code",
   "execution_count": 142,
   "metadata": {
    "ExecuteTime": {
     "end_time": "2019-11-15T06:13:30.835269Z",
     "start_time": "2019-11-15T06:13:30.825296Z"
    }
   },
   "outputs": [],
   "source": [
    "blueberry_recommend=pd.DataFrame(strain_cosine['blueberry'].sort_values(ascending=False))"
   ]
  },
  {
   "cell_type": "code",
   "execution_count": 128,
   "metadata": {
    "ExecuteTime": {
     "end_time": "2019-11-14T21:49:58.753903Z",
     "start_time": "2019-11-14T21:49:58.713788Z"
    }
   },
   "outputs": [],
   "source": [
    "gelato_recommend=pd.DataFrame(strain_cosine['gelato'].sort_values(ascending=False))"
   ]
  },
  {
   "cell_type": "code",
   "execution_count": null,
   "metadata": {},
   "outputs": [],
   "source": []
  },
  {
   "cell_type": "code",
   "execution_count": 143,
   "metadata": {
    "ExecuteTime": {
     "end_time": "2019-11-15T06:13:43.296340Z",
     "start_time": "2019-11-15T06:13:43.285479Z"
    }
   },
   "outputs": [
    {
     "data": {
      "text/html": [
       "<div>\n",
       "<style scoped>\n",
       "    .dataframe tbody tr th:only-of-type {\n",
       "        vertical-align: middle;\n",
       "    }\n",
       "\n",
       "    .dataframe tbody tr th {\n",
       "        vertical-align: top;\n",
       "    }\n",
       "\n",
       "    .dataframe thead th {\n",
       "        text-align: right;\n",
       "    }\n",
       "</style>\n",
       "<table border=\"1\" class=\"dataframe\">\n",
       "  <thead>\n",
       "    <tr style=\"text-align: right;\">\n",
       "      <th></th>\n",
       "      <th>blueberry</th>\n",
       "    </tr>\n",
       "  </thead>\n",
       "  <tbody>\n",
       "    <tr>\n",
       "      <th>blueberry</th>\n",
       "      <td>1.000000</td>\n",
       "    </tr>\n",
       "    <tr>\n",
       "      <th>swiss-tsunami</th>\n",
       "      <td>0.999361</td>\n",
       "    </tr>\n",
       "    <tr>\n",
       "      <th>cali-kush</th>\n",
       "      <td>0.999180</td>\n",
       "    </tr>\n",
       "    <tr>\n",
       "      <th>ice-cream</th>\n",
       "      <td>0.999078</td>\n",
       "    </tr>\n",
       "    <tr>\n",
       "      <th>golden-goat</th>\n",
       "      <td>0.999009</td>\n",
       "    </tr>\n",
       "    <tr>\n",
       "      <th>alien-og</th>\n",
       "      <td>0.998996</td>\n",
       "    </tr>\n",
       "    <tr>\n",
       "      <th>honey-bananas</th>\n",
       "      <td>0.998944</td>\n",
       "    </tr>\n",
       "    <tr>\n",
       "      <th>ayahuasca-purple</th>\n",
       "      <td>0.998565</td>\n",
       "    </tr>\n",
       "    <tr>\n",
       "      <th>sequoia-strawberry</th>\n",
       "      <td>0.998543</td>\n",
       "    </tr>\n",
       "    <tr>\n",
       "      <th>berry-bomb</th>\n",
       "      <td>0.998518</td>\n",
       "    </tr>\n",
       "    <tr>\n",
       "      <th>vcdc</th>\n",
       "      <td>0.998509</td>\n",
       "    </tr>\n",
       "  </tbody>\n",
       "</table>\n",
       "</div>"
      ],
      "text/plain": [
       "                    blueberry\n",
       "blueberry            1.000000\n",
       "swiss-tsunami        0.999361\n",
       "cali-kush            0.999180\n",
       "ice-cream            0.999078\n",
       "golden-goat          0.999009\n",
       "alien-og             0.998996\n",
       "honey-bananas        0.998944\n",
       "ayahuasca-purple     0.998565\n",
       "sequoia-strawberry   0.998543\n",
       "berry-bomb           0.998518\n",
       "vcdc                 0.998509"
      ]
     },
     "execution_count": 143,
     "metadata": {},
     "output_type": "execute_result"
    }
   ],
   "source": [
    "blueberry_recommend.head(11)"
   ]
  },
  {
   "cell_type": "code",
   "execution_count": 126,
   "metadata": {
    "ExecuteTime": {
     "end_time": "2019-11-14T21:36:06.401397Z",
     "start_time": "2019-11-14T21:36:06.389401Z"
    }
   },
   "outputs": [
    {
     "data": {
      "text/plain": [
       "array([0.10010016, 0.09985844, 0.06733635, 0.06367561])"
      ]
     },
     "execution_count": 126,
     "metadata": {},
     "output_type": "execute_result"
    }
   ],
   "source": [
    "lsa.explained_variance_ratio_"
   ]
  },
  {
   "cell_type": "markdown",
   "metadata": {},
   "source": [
    "## LDA"
   ]
  },
  {
   "cell_type": "code",
   "execution_count": null,
   "metadata": {
    "ExecuteTime": {
     "end_time": "2019-11-13T20:06:34.908250Z",
     "start_time": "2019-11-13T20:06:34.892541Z"
    }
   },
   "outputs": [],
   "source": [
    "strain_sparse=csc_matrix(strain_groupby)"
   ]
  },
  {
   "cell_type": "code",
   "execution_count": null,
   "metadata": {
    "ExecuteTime": {
     "end_time": "2019-11-13T20:06:34.922781Z",
     "start_time": "2019-11-13T20:06:34.912013Z"
    }
   },
   "outputs": [],
   "source": [
    "strain_sparse.shape"
   ]
  },
  {
   "cell_type": "code",
   "execution_count": null,
   "metadata": {
    "ExecuteTime": {
     "end_time": "2019-11-13T20:06:34.941354Z",
     "start_time": "2019-11-13T20:06:34.929361Z"
    }
   },
   "outputs": [],
   "source": [
    "strain_sparse"
   ]
  },
  {
   "cell_type": "code",
   "execution_count": null,
   "metadata": {
    "ExecuteTime": {
     "end_time": "2019-11-13T20:06:34.956090Z",
     "start_time": "2019-11-13T20:06:34.946075Z"
    }
   },
   "outputs": [],
   "source": [
    "corpus = matutils.Sparse2Corpus(strain_sparse)"
   ]
  },
  {
   "cell_type": "code",
   "execution_count": null,
   "metadata": {
    "ExecuteTime": {
     "end_time": "2019-11-13T20:06:35.507043Z",
     "start_time": "2019-11-13T20:06:34.960447Z"
    }
   },
   "outputs": [],
   "source": [
    "lda = models.LdaModel(corpus=corpus, num_topics=3, id2word=id2word, passes=5)"
   ]
  },
  {
   "cell_type": "code",
   "execution_count": null,
   "metadata": {
    "ExecuteTime": {
     "end_time": "2019-11-13T20:06:35.515194Z",
     "start_time": "2019-11-13T20:05:32.227Z"
    }
   },
   "outputs": [],
   "source": [
    "len(id2word)"
   ]
  },
  {
   "cell_type": "code",
   "execution_count": null,
   "metadata": {
    "ExecuteTime": {
     "end_time": "2019-11-13T20:06:35.520219Z",
     "start_time": "2019-11-13T20:05:32.229Z"
    }
   },
   "outputs": [],
   "source": [
    "lda = models.LdaModel(corpus=corpus, num_topics=3,passes=5)"
   ]
  },
  {
   "cell_type": "markdown",
   "metadata": {},
   "source": [
    "## LDA with Sklearn"
   ]
  },
  {
   "cell_type": "code",
   "execution_count": null,
   "metadata": {
    "ExecuteTime": {
     "end_time": "2019-11-13T22:56:37.270912Z",
     "start_time": "2019-11-13T22:54:53.670739Z"
    }
   },
   "outputs": [],
   "source": [
    "lda_model = LatentDirichletAllocation(n_components=4,max_iter=100)\n",
    "lda_doc_topics=lda_model.fit_transform(strain_groupby)"
   ]
  },
  {
   "cell_type": "code",
   "execution_count": null,
   "metadata": {
    "ExecuteTime": {
     "end_time": "2019-11-13T22:56:37.282015Z",
     "start_time": "2019-11-13T22:56:37.273305Z"
    }
   },
   "outputs": [],
   "source": [
    "lda_model.components_[0]"
   ]
  },
  {
   "cell_type": "code",
   "execution_count": null,
   "metadata": {
    "ExecuteTime": {
     "end_time": "2019-11-13T22:43:50.627754Z",
     "start_time": "2019-11-13T22:43:50.620072Z"
    }
   },
   "outputs": [],
   "source": [
    "len(lda_model.components_)"
   ]
  },
  {
   "cell_type": "code",
   "execution_count": null,
   "metadata": {
    "ExecuteTime": {
     "end_time": "2019-11-13T22:45:08.375952Z",
     "start_time": "2019-11-13T22:45:08.343329Z"
    }
   },
   "outputs": [],
   "source": [
    "topic_word_lda = pd.DataFrame(lda_model.components_.round(4),\n",
    "             index = [\"component_1\",\"component_2\",\"component_3\",\"component_4\"],\n",
    "             columns = vectorizer.get_feature_names())\n",
    "topic_word_lda"
   ]
  },
  {
   "cell_type": "code",
   "execution_count": null,
   "metadata": {
    "ExecuteTime": {
     "end_time": "2019-11-13T22:56:37.293593Z",
     "start_time": "2019-11-13T22:56:37.285137Z"
    }
   },
   "outputs": [],
   "source": [
    "display_topics(lda_model, vectorizer.get_feature_names(), 10)"
   ]
  },
  {
   "cell_type": "code",
   "execution_count": null,
   "metadata": {},
   "outputs": [],
   "source": [
    "topic"
   ]
  }
 ],
 "metadata": {
  "kernelspec": {
   "display_name": "Python [conda env:metis]",
   "language": "python",
   "name": "conda-env-metis-py"
  },
  "language_info": {
   "codemirror_mode": {
    "name": "ipython",
    "version": 3
   },
   "file_extension": ".py",
   "mimetype": "text/x-python",
   "name": "python",
   "nbconvert_exporter": "python",
   "pygments_lexer": "ipython3",
   "version": "3.7.3"
  },
  "toc": {
   "base_numbering": 1,
   "nav_menu": {},
   "number_sections": true,
   "sideBar": true,
   "skip_h1_title": false,
   "title_cell": "Table of Contents",
   "title_sidebar": "Contents",
   "toc_cell": false,
   "toc_position": {
    "height": "calc(100% - 180px)",
    "left": "10px",
    "top": "150px",
    "width": "165px"
   },
   "toc_section_display": true,
   "toc_window_display": true
  }
 },
 "nbformat": 4,
 "nbformat_minor": 2
}
