{
 "cells": [
  {
   "cell_type": "code",
   "execution_count": 1,
   "metadata": {
    "ExecuteTime": {
     "end_time": "2019-11-14T21:19:18.209789Z",
     "start_time": "2019-11-14T21:19:15.943730Z"
    }
   },
   "outputs": [],
   "source": [
    "import pandas as pd\n",
    "import numpy as np\n",
    "import nltk \n",
    "import pandas as pd\n",
    "from sklearn.feature_extraction.text import CountVectorizer \n",
    "from sklearn.decomposition import TruncatedSVD\n",
    "from sklearn.decomposition import NMF\n",
    "from sklearn.metrics.pairwise import cosine_similarity,euclidean_distances\n",
    "from sklearn.feature_extraction import text \n",
    "from sklearn.feature_extraction.text import TfidfVectorizer\n",
    "from sklearn.feature_extraction.text import TfidfTransformer\n",
    "\n",
    "from gensim import corpora, models, similarities, matutils\n",
    "from sklearn import datasets\n",
    "from sklearn.feature_extraction.text import CountVectorizer\n",
    "import logging\n",
    "logging.basicConfig(format='%(asctime)s : %(levelname)s : %(message)s', level=logging.INFO)\n",
    "from scipy.sparse import csc_matrix\n",
    "from sklearn.decomposition import LatentDirichletAllocation\n",
    "from sklearn.feature_extraction.text import CountVectorizer\n",
    "from nltk.stem.lancaster import LancasterStemmer\n",
    "\n"
   ]
  },
  {
   "cell_type": "code",
   "execution_count": 2,
   "metadata": {
    "ExecuteTime": {
     "end_time": "2019-11-14T21:19:18.332632Z",
     "start_time": "2019-11-14T21:19:18.212589Z"
    }
   },
   "outputs": [
    {
     "data": {
      "text/plain": [
       "Collection(Database(MongoClient(host=['localhost:27017'], document_class=dict, tz_aware=False, connect=True), 'strain_project'), 'strains')"
      ]
     },
     "execution_count": 2,
     "metadata": {},
     "output_type": "execute_result"
    }
   ],
   "source": [
    "from pymongo import MongoClient\n",
    "from pprint import pprint\n",
    "\n",
    "client = MongoClient()\n",
    "\n",
    "db = client.strain_project\n",
    "\n",
    "db.strains"
   ]
  },
  {
   "cell_type": "code",
   "execution_count": 3,
   "metadata": {
    "ExecuteTime": {
     "end_time": "2019-11-14T21:19:28.197583Z",
     "start_time": "2019-11-14T21:19:18.335920Z"
    }
   },
   "outputs": [],
   "source": [
    "strain_initial = pd.DataFrame(db.strains.find())"
   ]
  },
  {
   "cell_type": "code",
   "execution_count": 4,
   "metadata": {
    "ExecuteTime": {
     "end_time": "2019-11-14T21:19:28.219493Z",
     "start_time": "2019-11-14T21:19:28.199877Z"
    }
   },
   "outputs": [
    {
     "data": {
      "text/html": [
       "<div>\n",
       "<style scoped>\n",
       "    .dataframe tbody tr th:only-of-type {\n",
       "        vertical-align: middle;\n",
       "    }\n",
       "\n",
       "    .dataframe tbody tr th {\n",
       "        vertical-align: top;\n",
       "    }\n",
       "\n",
       "    .dataframe thead th {\n",
       "        text-align: right;\n",
       "    }\n",
       "</style>\n",
       "<table border=\"1\" class=\"dataframe\">\n",
       "  <thead>\n",
       "    <tr style=\"text-align: right;\">\n",
       "      <th></th>\n",
       "      <th>_id</th>\n",
       "      <th>username</th>\n",
       "      <th>url</th>\n",
       "      <th>review</th>\n",
       "      <th>strain_name</th>\n",
       "    </tr>\n",
       "  </thead>\n",
       "  <tbody>\n",
       "    <tr>\n",
       "      <th>0</th>\n",
       "      <td>5dc33348e1127a705e2ce279</td>\n",
       "      <td>luvlivinlife</td>\n",
       "      <td>https://www.leafly.com/sativa/gorkle/reviews/1...</td>\n",
       "      <td>“40% head 60% body. Nice flavor 20 or 30 min b...</td>\n",
       "      <td>gorkle</td>\n",
       "    </tr>\n",
       "    <tr>\n",
       "      <th>1</th>\n",
       "      <td>5dc33348e1127a705e2ce27a</td>\n",
       "      <td>luvlivinlife</td>\n",
       "      <td>https://www.leafly.com/sativa/gorkle/reviews/1...</td>\n",
       "      <td>“Love this strain. Happy, Calm, Relaxed but no...</td>\n",
       "      <td>gorkle</td>\n",
       "    </tr>\n",
       "    <tr>\n",
       "      <th>2</th>\n",
       "      <td>5dc33349e1127a705e2ce27b</td>\n",
       "      <td>wespeterson24</td>\n",
       "      <td>https://www.leafly.com/hybrid/longbottom-leaf/...</td>\n",
       "      <td>“Are you looking to get shire-smacked in the f...</td>\n",
       "      <td>longbottom-leaf</td>\n",
       "    </tr>\n",
       "    <tr>\n",
       "      <th>3</th>\n",
       "      <td>5dc33349e1127a705e2ce27c</td>\n",
       "      <td>mtn420man</td>\n",
       "      <td>https://www.leafly.com/hybrid/longbottom-leaf/...</td>\n",
       "      <td>“Such a smooth smoke. Instant head high, very ...</td>\n",
       "      <td>longbottom-leaf</td>\n",
       "    </tr>\n",
       "    <tr>\n",
       "      <th>4</th>\n",
       "      <td>5dc33349e1127a705e2ce27d</td>\n",
       "      <td>rjjia</td>\n",
       "      <td>https://www.leafly.com/hybrid/longbottom-leaf/...</td>\n",
       "      <td>“I now truly understand the beauty of middle e...</td>\n",
       "      <td>longbottom-leaf</td>\n",
       "    </tr>\n",
       "  </tbody>\n",
       "</table>\n",
       "</div>"
      ],
      "text/plain": [
       "                        _id       username  \\\n",
       "0  5dc33348e1127a705e2ce279   luvlivinlife   \n",
       "1  5dc33348e1127a705e2ce27a   luvlivinlife   \n",
       "2  5dc33349e1127a705e2ce27b  wespeterson24   \n",
       "3  5dc33349e1127a705e2ce27c      mtn420man   \n",
       "4  5dc33349e1127a705e2ce27d          rjjia   \n",
       "\n",
       "                                                 url  \\\n",
       "0  https://www.leafly.com/sativa/gorkle/reviews/1...   \n",
       "1  https://www.leafly.com/sativa/gorkle/reviews/1...   \n",
       "2  https://www.leafly.com/hybrid/longbottom-leaf/...   \n",
       "3  https://www.leafly.com/hybrid/longbottom-leaf/...   \n",
       "4  https://www.leafly.com/hybrid/longbottom-leaf/...   \n",
       "\n",
       "                                              review      strain_name  \n",
       "0  “40% head 60% body. Nice flavor 20 or 30 min b...           gorkle  \n",
       "1  “Love this strain. Happy, Calm, Relaxed but no...           gorkle  \n",
       "2  “Are you looking to get shire-smacked in the f...  longbottom-leaf  \n",
       "3  “Such a smooth smoke. Instant head high, very ...  longbottom-leaf  \n",
       "4  “I now truly understand the beauty of middle e...  longbottom-leaf  "
      ]
     },
     "execution_count": 4,
     "metadata": {},
     "output_type": "execute_result"
    }
   ],
   "source": [
    "strain_initial.head()"
   ]
  },
  {
   "cell_type": "code",
   "execution_count": 5,
   "metadata": {
    "ExecuteTime": {
     "end_time": "2019-11-14T21:19:28.228723Z",
     "start_time": "2019-11-14T21:19:28.222170Z"
    }
   },
   "outputs": [
    {
     "data": {
      "text/plain": [
       "(898280, 5)"
      ]
     },
     "execution_count": 5,
     "metadata": {},
     "output_type": "execute_result"
    }
   ],
   "source": [
    "strain_initial.shape"
   ]
  },
  {
   "cell_type": "code",
   "execution_count": 6,
   "metadata": {
    "ExecuteTime": {
     "end_time": "2019-11-14T21:19:29.027855Z",
     "start_time": "2019-11-14T21:19:28.234199Z"
    }
   },
   "outputs": [],
   "source": [
    "strain_initial=strain_initial.drop_duplicates(subset=\"review\")"
   ]
  },
  {
   "cell_type": "code",
   "execution_count": 7,
   "metadata": {
    "ExecuteTime": {
     "end_time": "2019-11-14T21:19:29.062946Z",
     "start_time": "2019-11-14T21:19:29.029814Z"
    }
   },
   "outputs": [
    {
     "data": {
      "text/html": [
       "<div>\n",
       "<style scoped>\n",
       "    .dataframe tbody tr th:only-of-type {\n",
       "        vertical-align: middle;\n",
       "    }\n",
       "\n",
       "    .dataframe tbody tr th {\n",
       "        vertical-align: top;\n",
       "    }\n",
       "\n",
       "    .dataframe thead th {\n",
       "        text-align: right;\n",
       "    }\n",
       "</style>\n",
       "<table border=\"1\" class=\"dataframe\">\n",
       "  <thead>\n",
       "    <tr style=\"text-align: right;\">\n",
       "      <th></th>\n",
       "      <th>index</th>\n",
       "      <th>_id</th>\n",
       "      <th>username</th>\n",
       "      <th>url</th>\n",
       "      <th>review</th>\n",
       "      <th>strain_name</th>\n",
       "    </tr>\n",
       "  </thead>\n",
       "  <tbody>\n",
       "    <tr>\n",
       "      <th>0</th>\n",
       "      <td>0</td>\n",
       "      <td>5dc33348e1127a705e2ce279</td>\n",
       "      <td>luvlivinlife</td>\n",
       "      <td>https://www.leafly.com/sativa/gorkle/reviews/1...</td>\n",
       "      <td>“40% head 60% body. Nice flavor 20 or 30 min b...</td>\n",
       "      <td>gorkle</td>\n",
       "    </tr>\n",
       "    <tr>\n",
       "      <th>1</th>\n",
       "      <td>1</td>\n",
       "      <td>5dc33348e1127a705e2ce27a</td>\n",
       "      <td>luvlivinlife</td>\n",
       "      <td>https://www.leafly.com/sativa/gorkle/reviews/1...</td>\n",
       "      <td>“Love this strain. Happy, Calm, Relaxed but no...</td>\n",
       "      <td>gorkle</td>\n",
       "    </tr>\n",
       "    <tr>\n",
       "      <th>2</th>\n",
       "      <td>2</td>\n",
       "      <td>5dc33349e1127a705e2ce27b</td>\n",
       "      <td>wespeterson24</td>\n",
       "      <td>https://www.leafly.com/hybrid/longbottom-leaf/...</td>\n",
       "      <td>“Are you looking to get shire-smacked in the f...</td>\n",
       "      <td>longbottom-leaf</td>\n",
       "    </tr>\n",
       "    <tr>\n",
       "      <th>3</th>\n",
       "      <td>3</td>\n",
       "      <td>5dc33349e1127a705e2ce27c</td>\n",
       "      <td>mtn420man</td>\n",
       "      <td>https://www.leafly.com/hybrid/longbottom-leaf/...</td>\n",
       "      <td>“Such a smooth smoke. Instant head high, very ...</td>\n",
       "      <td>longbottom-leaf</td>\n",
       "    </tr>\n",
       "    <tr>\n",
       "      <th>4</th>\n",
       "      <td>4</td>\n",
       "      <td>5dc33349e1127a705e2ce27d</td>\n",
       "      <td>rjjia</td>\n",
       "      <td>https://www.leafly.com/hybrid/longbottom-leaf/...</td>\n",
       "      <td>“I now truly understand the beauty of middle e...</td>\n",
       "      <td>longbottom-leaf</td>\n",
       "    </tr>\n",
       "    <tr>\n",
       "      <th>...</th>\n",
       "      <td>...</td>\n",
       "      <td>...</td>\n",
       "      <td>...</td>\n",
       "      <td>...</td>\n",
       "      <td>...</td>\n",
       "      <td>...</td>\n",
       "    </tr>\n",
       "    <tr>\n",
       "      <th>165926</th>\n",
       "      <td>224565</td>\n",
       "      <td>5dc3335ee1127a705e304fae</td>\n",
       "      <td>MizzGizzi</td>\n",
       "      <td>https://www.leafly.com/hybrid/blue-magoo/revie...</td>\n",
       "      <td>“I really liked this strain for my day time. I...</td>\n",
       "      <td>blue-magoo</td>\n",
       "    </tr>\n",
       "    <tr>\n",
       "      <th>165927</th>\n",
       "      <td>224566</td>\n",
       "      <td>5dc3335ee1127a705e304faf</td>\n",
       "      <td>RecWreck</td>\n",
       "      <td>https://www.leafly.com/hybrid/blue-magoo/revie...</td>\n",
       "      <td>“Made me giggly with a very noticeable headkic...</td>\n",
       "      <td>blue-magoo</td>\n",
       "    </tr>\n",
       "    <tr>\n",
       "      <th>165928</th>\n",
       "      <td>224567</td>\n",
       "      <td>5dc3335ee1127a705e304fb0</td>\n",
       "      <td>samboogie</td>\n",
       "      <td>https://www.leafly.com/hybrid/blue-magoo/revie...</td>\n",
       "      <td>“just hit the bammer with this bud wow i feel ...</td>\n",
       "      <td>blue-magoo</td>\n",
       "    </tr>\n",
       "    <tr>\n",
       "      <th>165929</th>\n",
       "      <td>224568</td>\n",
       "      <td>5dc3335ee1127a705e304fb1</td>\n",
       "      <td>dapperErl</td>\n",
       "      <td>https://www.leafly.com/hybrid/blue-magoo/revie...</td>\n",
       "      <td>“The Blue Magoo from Forbidden Farms is FIRE!!...</td>\n",
       "      <td>blue-magoo</td>\n",
       "    </tr>\n",
       "    <tr>\n",
       "      <th>165930</th>\n",
       "      <td>224569</td>\n",
       "      <td>5dc3335ee1127a705e304fb2</td>\n",
       "      <td>ConnorsLeafs</td>\n",
       "      <td>https://www.leafly.com/hybrid/blue-magoo/revie...</td>\n",
       "      <td>“Made me very hungry. The high had me forgetti...</td>\n",
       "      <td>blue-magoo</td>\n",
       "    </tr>\n",
       "  </tbody>\n",
       "</table>\n",
       "<p>165931 rows × 6 columns</p>\n",
       "</div>"
      ],
      "text/plain": [
       "         index                       _id       username  \\\n",
       "0            0  5dc33348e1127a705e2ce279   luvlivinlife   \n",
       "1            1  5dc33348e1127a705e2ce27a   luvlivinlife   \n",
       "2            2  5dc33349e1127a705e2ce27b  wespeterson24   \n",
       "3            3  5dc33349e1127a705e2ce27c      mtn420man   \n",
       "4            4  5dc33349e1127a705e2ce27d          rjjia   \n",
       "...        ...                       ...            ...   \n",
       "165926  224565  5dc3335ee1127a705e304fae      MizzGizzi   \n",
       "165927  224566  5dc3335ee1127a705e304faf       RecWreck   \n",
       "165928  224567  5dc3335ee1127a705e304fb0      samboogie   \n",
       "165929  224568  5dc3335ee1127a705e304fb1      dapperErl   \n",
       "165930  224569  5dc3335ee1127a705e304fb2   ConnorsLeafs   \n",
       "\n",
       "                                                      url  \\\n",
       "0       https://www.leafly.com/sativa/gorkle/reviews/1...   \n",
       "1       https://www.leafly.com/sativa/gorkle/reviews/1...   \n",
       "2       https://www.leafly.com/hybrid/longbottom-leaf/...   \n",
       "3       https://www.leafly.com/hybrid/longbottom-leaf/...   \n",
       "4       https://www.leafly.com/hybrid/longbottom-leaf/...   \n",
       "...                                                   ...   \n",
       "165926  https://www.leafly.com/hybrid/blue-magoo/revie...   \n",
       "165927  https://www.leafly.com/hybrid/blue-magoo/revie...   \n",
       "165928  https://www.leafly.com/hybrid/blue-magoo/revie...   \n",
       "165929  https://www.leafly.com/hybrid/blue-magoo/revie...   \n",
       "165930  https://www.leafly.com/hybrid/blue-magoo/revie...   \n",
       "\n",
       "                                                   review      strain_name  \n",
       "0       “40% head 60% body. Nice flavor 20 or 30 min b...           gorkle  \n",
       "1       “Love this strain. Happy, Calm, Relaxed but no...           gorkle  \n",
       "2       “Are you looking to get shire-smacked in the f...  longbottom-leaf  \n",
       "3       “Such a smooth smoke. Instant head high, very ...  longbottom-leaf  \n",
       "4       “I now truly understand the beauty of middle e...  longbottom-leaf  \n",
       "...                                                   ...              ...  \n",
       "165926  “I really liked this strain for my day time. I...       blue-magoo  \n",
       "165927  “Made me giggly with a very noticeable headkic...       blue-magoo  \n",
       "165928  “just hit the bammer with this bud wow i feel ...       blue-magoo  \n",
       "165929  “The Blue Magoo from Forbidden Farms is FIRE!!...       blue-magoo  \n",
       "165930  “Made me very hungry. The high had me forgetti...       blue-magoo  \n",
       "\n",
       "[165931 rows x 6 columns]"
      ]
     },
     "execution_count": 7,
     "metadata": {},
     "output_type": "execute_result"
    }
   ],
   "source": [
    "strain_initial.reset_index()"
   ]
  },
  {
   "cell_type": "code",
   "execution_count": 8,
   "metadata": {
    "ExecuteTime": {
     "end_time": "2019-11-14T21:19:29.250336Z",
     "start_time": "2019-11-14T21:19:29.069990Z"
    }
   },
   "outputs": [
    {
     "data": {
      "text/plain": [
       "(165931, 5)"
      ]
     },
     "execution_count": 8,
     "metadata": {},
     "output_type": "execute_result"
    }
   ],
   "source": [
    "strain_initial.shape"
   ]
  },
  {
   "cell_type": "code",
   "execution_count": 9,
   "metadata": {
    "ExecuteTime": {
     "end_time": "2019-11-14T21:19:29.279013Z",
     "start_time": "2019-11-14T21:19:29.256401Z"
    }
   },
   "outputs": [],
   "source": [
    "strain_1 = strain_initial.copy()"
   ]
  },
  {
   "cell_type": "code",
   "execution_count": 10,
   "metadata": {
    "ExecuteTime": {
     "end_time": "2019-11-14T21:19:29.349939Z",
     "start_time": "2019-11-14T21:19:29.281609Z"
    }
   },
   "outputs": [
    {
     "data": {
      "text/plain": [
       "_id            False\n",
       "username       False\n",
       "url             True\n",
       "review          True\n",
       "strain_name    False\n",
       "dtype: bool"
      ]
     },
     "execution_count": 10,
     "metadata": {},
     "output_type": "execute_result"
    }
   ],
   "source": [
    "strain_1.isna().any()"
   ]
  },
  {
   "cell_type": "code",
   "execution_count": 11,
   "metadata": {
    "ExecuteTime": {
     "end_time": "2019-11-14T21:19:29.458827Z",
     "start_time": "2019-11-14T21:19:29.352426Z"
    }
   },
   "outputs": [],
   "source": [
    "strain_1=strain_1.dropna(subset=['review','url'])"
   ]
  },
  {
   "cell_type": "code",
   "execution_count": 12,
   "metadata": {
    "ExecuteTime": {
     "end_time": "2019-11-14T21:19:29.556837Z",
     "start_time": "2019-11-14T21:19:29.462391Z"
    }
   },
   "outputs": [
    {
     "data": {
      "text/plain": [
       "_id            False\n",
       "username       False\n",
       "url            False\n",
       "review         False\n",
       "strain_name    False\n",
       "dtype: bool"
      ]
     },
     "execution_count": 12,
     "metadata": {},
     "output_type": "execute_result"
    }
   ],
   "source": [
    "strain_1.isna().any()"
   ]
  },
  {
   "cell_type": "code",
   "execution_count": 13,
   "metadata": {
    "ExecuteTime": {
     "end_time": "2019-11-14T21:19:29.629693Z",
     "start_time": "2019-11-14T21:19:29.560211Z"
    }
   },
   "outputs": [
    {
     "name": "stdout",
     "output_type": "stream",
     "text": [
      "<class 'pandas.core.frame.DataFrame'>\n",
      "Int64Index: 165928 entries, 0 to 224569\n",
      "Data columns (total 5 columns):\n",
      "_id            165928 non-null object\n",
      "username       165928 non-null object\n",
      "url            165928 non-null object\n",
      "review         165928 non-null object\n",
      "strain_name    165928 non-null object\n",
      "dtypes: object(5)\n",
      "memory usage: 7.6+ MB\n"
     ]
    }
   ],
   "source": [
    "strain_1.info()"
   ]
  },
  {
   "cell_type": "code",
   "execution_count": 14,
   "metadata": {
    "ExecuteTime": {
     "end_time": "2019-11-14T21:19:29.684611Z",
     "start_time": "2019-11-14T21:19:29.633537Z"
    }
   },
   "outputs": [
    {
     "data": {
      "text/plain": [
       "sour-diesel          3166\n",
       "gsc                  3108\n",
       "green-crack          2764\n",
       "og-kush              2354\n",
       "original-glue        2081\n",
       "                     ... \n",
       "cbd-rich-blessing       1\n",
       "agape                   1\n",
       "orange-snow-cone        1\n",
       "oldtimers-haze          1\n",
       "tangenesia              1\n",
       "Name: strain_name, Length: 2543, dtype: int64"
      ]
     },
     "execution_count": 14,
     "metadata": {},
     "output_type": "execute_result"
    }
   ],
   "source": [
    "strain_1['strain_name'].value_counts()"
   ]
  },
  {
   "cell_type": "code",
   "execution_count": 15,
   "metadata": {
    "ExecuteTime": {
     "end_time": "2019-11-14T21:19:29.698600Z",
     "start_time": "2019-11-14T21:19:29.693152Z"
    }
   },
   "outputs": [],
   "source": [
    "pd.set_option('display.max_rows', 50)\n",
    "pd.set_option('display.max_columns', 50)"
   ]
  },
  {
   "cell_type": "code",
   "execution_count": 16,
   "metadata": {
    "ExecuteTime": {
     "end_time": "2019-11-14T21:19:29.745348Z",
     "start_time": "2019-11-14T21:19:29.703525Z"
    }
   },
   "outputs": [],
   "source": [
    "strain_count=pd.DataFrame(strain_1['strain_name'].value_counts())"
   ]
  },
  {
   "cell_type": "code",
   "execution_count": 17,
   "metadata": {
    "ExecuteTime": {
     "end_time": "2019-11-14T21:19:29.760610Z",
     "start_time": "2019-11-14T21:19:29.747444Z"
    }
   },
   "outputs": [
    {
     "data": {
      "text/html": [
       "<div>\n",
       "<style scoped>\n",
       "    .dataframe tbody tr th:only-of-type {\n",
       "        vertical-align: middle;\n",
       "    }\n",
       "\n",
       "    .dataframe tbody tr th {\n",
       "        vertical-align: top;\n",
       "    }\n",
       "\n",
       "    .dataframe thead th {\n",
       "        text-align: right;\n",
       "    }\n",
       "</style>\n",
       "<table border=\"1\" class=\"dataframe\">\n",
       "  <thead>\n",
       "    <tr style=\"text-align: right;\">\n",
       "      <th></th>\n",
       "      <th>strain_name</th>\n",
       "    </tr>\n",
       "  </thead>\n",
       "  <tbody>\n",
       "    <tr>\n",
       "      <th>sour-diesel</th>\n",
       "      <td>3166</td>\n",
       "    </tr>\n",
       "    <tr>\n",
       "      <th>gsc</th>\n",
       "      <td>3108</td>\n",
       "    </tr>\n",
       "    <tr>\n",
       "      <th>green-crack</th>\n",
       "      <td>2764</td>\n",
       "    </tr>\n",
       "    <tr>\n",
       "      <th>og-kush</th>\n",
       "      <td>2354</td>\n",
       "    </tr>\n",
       "    <tr>\n",
       "      <th>original-glue</th>\n",
       "      <td>2081</td>\n",
       "    </tr>\n",
       "    <tr>\n",
       "      <th>granddaddy-purple</th>\n",
       "      <td>2045</td>\n",
       "    </tr>\n",
       "    <tr>\n",
       "      <th>jack-herer</th>\n",
       "      <td>1836</td>\n",
       "    </tr>\n",
       "    <tr>\n",
       "      <th>white-widow</th>\n",
       "      <td>1710</td>\n",
       "    </tr>\n",
       "    <tr>\n",
       "      <th>bubba-kush</th>\n",
       "      <td>1634</td>\n",
       "    </tr>\n",
       "    <tr>\n",
       "      <th>pineapple-express</th>\n",
       "      <td>1520</td>\n",
       "    </tr>\n",
       "    <tr>\n",
       "      <th>durban-poison</th>\n",
       "      <td>1487</td>\n",
       "    </tr>\n",
       "    <tr>\n",
       "      <th>northern-lights</th>\n",
       "      <td>1357</td>\n",
       "    </tr>\n",
       "    <tr>\n",
       "      <th>trainwreck</th>\n",
       "      <td>1327</td>\n",
       "    </tr>\n",
       "    <tr>\n",
       "      <th>ak-47</th>\n",
       "      <td>1183</td>\n",
       "    </tr>\n",
       "    <tr>\n",
       "      <th>strawberry-cough</th>\n",
       "      <td>1102</td>\n",
       "    </tr>\n",
       "    <tr>\n",
       "      <th>lemon-haze</th>\n",
       "      <td>1093</td>\n",
       "    </tr>\n",
       "    <tr>\n",
       "      <th>headband</th>\n",
       "      <td>1086</td>\n",
       "    </tr>\n",
       "    <tr>\n",
       "      <th>super-silver-haze</th>\n",
       "      <td>1028</td>\n",
       "    </tr>\n",
       "    <tr>\n",
       "      <th>blueberry</th>\n",
       "      <td>1003</td>\n",
       "    </tr>\n",
       "    <tr>\n",
       "      <th>purple-kush</th>\n",
       "      <td>992</td>\n",
       "    </tr>\n",
       "    <tr>\n",
       "      <th>super-lemon-haze</th>\n",
       "      <td>969</td>\n",
       "    </tr>\n",
       "    <tr>\n",
       "      <th>grape-ape</th>\n",
       "      <td>919</td>\n",
       "    </tr>\n",
       "    <tr>\n",
       "      <th>blackberry-kush</th>\n",
       "      <td>910</td>\n",
       "    </tr>\n",
       "    <tr>\n",
       "      <th>cherry-pie</th>\n",
       "      <td>848</td>\n",
       "    </tr>\n",
       "    <tr>\n",
       "      <th>master-kush</th>\n",
       "      <td>813</td>\n",
       "    </tr>\n",
       "    <tr>\n",
       "      <th>harlequin</th>\n",
       "      <td>728</td>\n",
       "    </tr>\n",
       "    <tr>\n",
       "      <th>cheese</th>\n",
       "      <td>713</td>\n",
       "    </tr>\n",
       "    <tr>\n",
       "      <th>maui-wowie</th>\n",
       "      <td>681</td>\n",
       "    </tr>\n",
       "    <tr>\n",
       "      <th>tahoe-og</th>\n",
       "      <td>677</td>\n",
       "    </tr>\n",
       "    <tr>\n",
       "      <th>amnesia-haze</th>\n",
       "      <td>674</td>\n",
       "    </tr>\n",
       "    <tr>\n",
       "      <th>death-star</th>\n",
       "      <td>643</td>\n",
       "    </tr>\n",
       "    <tr>\n",
       "      <th>chocolope</th>\n",
       "      <td>635</td>\n",
       "    </tr>\n",
       "    <tr>\n",
       "      <th>platinum-gsc</th>\n",
       "      <td>632</td>\n",
       "    </tr>\n",
       "    <tr>\n",
       "      <th>golden-goat</th>\n",
       "      <td>628</td>\n",
       "    </tr>\n",
       "    <tr>\n",
       "      <th>sunset-sherbert</th>\n",
       "      <td>627</td>\n",
       "    </tr>\n",
       "    <tr>\n",
       "      <th>lemon-kush</th>\n",
       "      <td>623</td>\n",
       "    </tr>\n",
       "    <tr>\n",
       "      <th>la-confidential</th>\n",
       "      <td>613</td>\n",
       "    </tr>\n",
       "    <tr>\n",
       "      <th>purple-urkle</th>\n",
       "      <td>606</td>\n",
       "    </tr>\n",
       "    <tr>\n",
       "      <th>gods-gift</th>\n",
       "      <td>605</td>\n",
       "    </tr>\n",
       "    <tr>\n",
       "      <th>gelato</th>\n",
       "      <td>595</td>\n",
       "    </tr>\n",
       "    <tr>\n",
       "      <th>hindu-kush</th>\n",
       "      <td>560</td>\n",
       "    </tr>\n",
       "    <tr>\n",
       "      <th>tangie</th>\n",
       "      <td>555</td>\n",
       "    </tr>\n",
       "    <tr>\n",
       "      <th>g-13</th>\n",
       "      <td>552</td>\n",
       "    </tr>\n",
       "    <tr>\n",
       "      <th>white-rhino</th>\n",
       "      <td>550</td>\n",
       "    </tr>\n",
       "    <tr>\n",
       "      <th>cannatonic</th>\n",
       "      <td>538</td>\n",
       "    </tr>\n",
       "    <tr>\n",
       "      <th>lsd</th>\n",
       "      <td>538</td>\n",
       "    </tr>\n",
       "    <tr>\n",
       "      <th>fire-og</th>\n",
       "      <td>530</td>\n",
       "    </tr>\n",
       "    <tr>\n",
       "      <th>banana-kush</th>\n",
       "      <td>525</td>\n",
       "    </tr>\n",
       "    <tr>\n",
       "      <th>dutch-treat</th>\n",
       "      <td>522</td>\n",
       "    </tr>\n",
       "    <tr>\n",
       "      <th>mazar-x-blueberry</th>\n",
       "      <td>513</td>\n",
       "    </tr>\n",
       "  </tbody>\n",
       "</table>\n",
       "</div>"
      ],
      "text/plain": [
       "                   strain_name\n",
       "sour-diesel               3166\n",
       "gsc                       3108\n",
       "green-crack               2764\n",
       "og-kush                   2354\n",
       "original-glue             2081\n",
       "granddaddy-purple         2045\n",
       "jack-herer                1836\n",
       "white-widow               1710\n",
       "bubba-kush                1634\n",
       "pineapple-express         1520\n",
       "durban-poison             1487\n",
       "northern-lights           1357\n",
       "trainwreck                1327\n",
       "ak-47                     1183\n",
       "strawberry-cough          1102\n",
       "lemon-haze                1093\n",
       "headband                  1086\n",
       "super-silver-haze         1028\n",
       "blueberry                 1003\n",
       "purple-kush                992\n",
       "super-lemon-haze           969\n",
       "grape-ape                  919\n",
       "blackberry-kush            910\n",
       "cherry-pie                 848\n",
       "master-kush                813\n",
       "harlequin                  728\n",
       "cheese                     713\n",
       "maui-wowie                 681\n",
       "tahoe-og                   677\n",
       "amnesia-haze               674\n",
       "death-star                 643\n",
       "chocolope                  635\n",
       "platinum-gsc               632\n",
       "golden-goat                628\n",
       "sunset-sherbert            627\n",
       "lemon-kush                 623\n",
       "la-confidential            613\n",
       "purple-urkle               606\n",
       "gods-gift                  605\n",
       "gelato                     595\n",
       "hindu-kush                 560\n",
       "tangie                     555\n",
       "g-13                       552\n",
       "white-rhino                550\n",
       "cannatonic                 538\n",
       "lsd                        538\n",
       "fire-og                    530\n",
       "banana-kush                525\n",
       "dutch-treat                522\n",
       "mazar-x-blueberry          513"
      ]
     },
     "execution_count": 17,
     "metadata": {},
     "output_type": "execute_result"
    }
   ],
   "source": [
    "strain_count.head(50)"
   ]
  },
  {
   "cell_type": "code",
   "execution_count": 18,
   "metadata": {
    "ExecuteTime": {
     "end_time": "2019-11-14T21:19:29.774609Z",
     "start_time": "2019-11-14T21:19:29.770195Z"
    }
   },
   "outputs": [],
   "source": [
    "import re # Regular expression library\n",
    "import string"
   ]
  },
  {
   "cell_type": "code",
   "execution_count": 19,
   "metadata": {
    "ExecuteTime": {
     "end_time": "2019-11-14T21:19:29.793032Z",
     "start_time": "2019-11-14T21:19:29.776619Z"
    }
   },
   "outputs": [
    {
     "data": {
      "text/html": [
       "<div>\n",
       "<style scoped>\n",
       "    .dataframe tbody tr th:only-of-type {\n",
       "        vertical-align: middle;\n",
       "    }\n",
       "\n",
       "    .dataframe tbody tr th {\n",
       "        vertical-align: top;\n",
       "    }\n",
       "\n",
       "    .dataframe thead th {\n",
       "        text-align: right;\n",
       "    }\n",
       "</style>\n",
       "<table border=\"1\" class=\"dataframe\">\n",
       "  <thead>\n",
       "    <tr style=\"text-align: right;\">\n",
       "      <th></th>\n",
       "      <th>_id</th>\n",
       "      <th>username</th>\n",
       "      <th>url</th>\n",
       "      <th>review</th>\n",
       "      <th>strain_name</th>\n",
       "      <th>clean_review</th>\n",
       "    </tr>\n",
       "  </thead>\n",
       "  <tbody>\n",
       "    <tr>\n",
       "      <th>0</th>\n",
       "      <td>5dc33348e1127a705e2ce279</td>\n",
       "      <td>luvlivinlife</td>\n",
       "      <td>https://www.leafly.com/sativa/gorkle/reviews/1...</td>\n",
       "      <td>“40% head 60% body. Nice flavor 20 or 30 min b...</td>\n",
       "      <td>gorkle</td>\n",
       "      <td>“40% head 60% body. Nice flavor 20 or 30 min b...</td>\n",
       "    </tr>\n",
       "    <tr>\n",
       "      <th>1</th>\n",
       "      <td>5dc33348e1127a705e2ce27a</td>\n",
       "      <td>luvlivinlife</td>\n",
       "      <td>https://www.leafly.com/sativa/gorkle/reviews/1...</td>\n",
       "      <td>“Love this strain. Happy, Calm, Relaxed but no...</td>\n",
       "      <td>gorkle</td>\n",
       "      <td>“Love this strain. Happy, Calm, Relaxed but no...</td>\n",
       "    </tr>\n",
       "    <tr>\n",
       "      <th>2</th>\n",
       "      <td>5dc33349e1127a705e2ce27b</td>\n",
       "      <td>wespeterson24</td>\n",
       "      <td>https://www.leafly.com/hybrid/longbottom-leaf/...</td>\n",
       "      <td>“Are you looking to get shire-smacked in the f...</td>\n",
       "      <td>longbottom-leaf</td>\n",
       "      <td>“Are you looking to get shire-smacked in the f...</td>\n",
       "    </tr>\n",
       "  </tbody>\n",
       "</table>\n",
       "</div>"
      ],
      "text/plain": [
       "                        _id       username  \\\n",
       "0  5dc33348e1127a705e2ce279   luvlivinlife   \n",
       "1  5dc33348e1127a705e2ce27a   luvlivinlife   \n",
       "2  5dc33349e1127a705e2ce27b  wespeterson24   \n",
       "\n",
       "                                                 url  \\\n",
       "0  https://www.leafly.com/sativa/gorkle/reviews/1...   \n",
       "1  https://www.leafly.com/sativa/gorkle/reviews/1...   \n",
       "2  https://www.leafly.com/hybrid/longbottom-leaf/...   \n",
       "\n",
       "                                              review      strain_name  \\\n",
       "0  “40% head 60% body. Nice flavor 20 or 30 min b...           gorkle   \n",
       "1  “Love this strain. Happy, Calm, Relaxed but no...           gorkle   \n",
       "2  “Are you looking to get shire-smacked in the f...  longbottom-leaf   \n",
       "\n",
       "                                        clean_review  \n",
       "0  “40% head 60% body. Nice flavor 20 or 30 min b...  \n",
       "1  “Love this strain. Happy, Calm, Relaxed but no...  \n",
       "2  “Are you looking to get shire-smacked in the f...  "
      ]
     },
     "execution_count": 19,
     "metadata": {},
     "output_type": "execute_result"
    }
   ],
   "source": [
    "strain_1['clean_review']=strain_1['review']\n",
    "strain_1.head(3)"
   ]
  },
  {
   "cell_type": "code",
   "execution_count": 39,
   "metadata": {
    "ExecuteTime": {
     "end_time": "2019-11-14T21:28:33.566659Z",
     "start_time": "2019-11-14T21:28:33.560905Z"
    }
   },
   "outputs": [],
   "source": [
    "def clean_text (text):\n",
    "    new_text= re.sub('[%s]' % re.escape(string.punctuation), ' ',text) \n",
    "    new_text=re.sub('\\w*\\d\\w*', ' ',new_text)\n",
    "    new_text=new_text.lower()\n",
    "    new_text=re.sub(r\"[^a-zA-Z0-9]+\", ' ',new_text)\n",
    "    stemmer=LancasterStemmer()\n",
    "    new_text=stemmer.stem(new_text)\n",
    "    \n",
    "    return new_text"
   ]
  },
  {
   "cell_type": "code",
   "execution_count": 40,
   "metadata": {
    "ExecuteTime": {
     "end_time": "2019-11-14T21:28:55.951405Z",
     "start_time": "2019-11-14T21:28:34.530503Z"
    }
   },
   "outputs": [],
   "source": [
    "strain_1['clean_review'] = strain_1['review'].apply(lambda x: clean_text(x))"
   ]
  },
  {
   "cell_type": "code",
   "execution_count": 33,
   "metadata": {
    "ExecuteTime": {
     "end_time": "2019-11-14T21:24:57.278121Z",
     "start_time": "2019-11-14T21:24:57.250582Z"
    }
   },
   "outputs": [
    {
     "data": {
      "text/html": [
       "<div>\n",
       "<style scoped>\n",
       "    .dataframe tbody tr th:only-of-type {\n",
       "        vertical-align: middle;\n",
       "    }\n",
       "\n",
       "    .dataframe tbody tr th {\n",
       "        vertical-align: top;\n",
       "    }\n",
       "\n",
       "    .dataframe thead th {\n",
       "        text-align: right;\n",
       "    }\n",
       "</style>\n",
       "<table border=\"1\" class=\"dataframe\">\n",
       "  <thead>\n",
       "    <tr style=\"text-align: right;\">\n",
       "      <th></th>\n",
       "      <th>_id</th>\n",
       "      <th>username</th>\n",
       "      <th>url</th>\n",
       "      <th>review</th>\n",
       "      <th>strain_name</th>\n",
       "      <th>clean_review</th>\n",
       "    </tr>\n",
       "  </thead>\n",
       "  <tbody>\n",
       "    <tr>\n",
       "      <th>0</th>\n",
       "      <td>5dc33348e1127a705e2ce279</td>\n",
       "      <td>luvlivinlife</td>\n",
       "      <td>https://www.leafly.com/sativa/gorkle/reviews/1...</td>\n",
       "      <td>“40% head 60% body. Nice flavor 20 or 30 min b...</td>\n",
       "      <td>gorkle</td>\n",
       "      <td>head body nice flavor or min before full affe...</td>\n",
       "    </tr>\n",
       "    <tr>\n",
       "      <th>1</th>\n",
       "      <td>5dc33348e1127a705e2ce27a</td>\n",
       "      <td>luvlivinlife</td>\n",
       "      <td>https://www.leafly.com/sativa/gorkle/reviews/1...</td>\n",
       "      <td>“Love this strain. Happy, Calm, Relaxed but no...</td>\n",
       "      <td>gorkle</td>\n",
       "      <td>love this strain happy calm relaxed but not g...</td>\n",
       "    </tr>\n",
       "    <tr>\n",
       "      <th>2</th>\n",
       "      <td>5dc33349e1127a705e2ce27b</td>\n",
       "      <td>wespeterson24</td>\n",
       "      <td>https://www.leafly.com/hybrid/longbottom-leaf/...</td>\n",
       "      <td>“Are you looking to get shire-smacked in the f...</td>\n",
       "      <td>longbottom-leaf</td>\n",
       "      <td>are you looking to get shire smacked in the f...</td>\n",
       "    </tr>\n",
       "    <tr>\n",
       "      <th>3</th>\n",
       "      <td>5dc33349e1127a705e2ce27c</td>\n",
       "      <td>mtn420man</td>\n",
       "      <td>https://www.leafly.com/hybrid/longbottom-leaf/...</td>\n",
       "      <td>“Such a smooth smoke. Instant head high, very ...</td>\n",
       "      <td>longbottom-leaf</td>\n",
       "      <td>such a smooth smoke instant head high very me...</td>\n",
       "    </tr>\n",
       "    <tr>\n",
       "      <th>4</th>\n",
       "      <td>5dc33349e1127a705e2ce27d</td>\n",
       "      <td>rjjia</td>\n",
       "      <td>https://www.leafly.com/hybrid/longbottom-leaf/...</td>\n",
       "      <td>“I now truly understand the beauty of middle e...</td>\n",
       "      <td>longbottom-leaf</td>\n",
       "      <td>i now truly understand the beauty of middle e...</td>\n",
       "    </tr>\n",
       "  </tbody>\n",
       "</table>\n",
       "</div>"
      ],
      "text/plain": [
       "                        _id       username  \\\n",
       "0  5dc33348e1127a705e2ce279   luvlivinlife   \n",
       "1  5dc33348e1127a705e2ce27a   luvlivinlife   \n",
       "2  5dc33349e1127a705e2ce27b  wespeterson24   \n",
       "3  5dc33349e1127a705e2ce27c      mtn420man   \n",
       "4  5dc33349e1127a705e2ce27d          rjjia   \n",
       "\n",
       "                                                 url  \\\n",
       "0  https://www.leafly.com/sativa/gorkle/reviews/1...   \n",
       "1  https://www.leafly.com/sativa/gorkle/reviews/1...   \n",
       "2  https://www.leafly.com/hybrid/longbottom-leaf/...   \n",
       "3  https://www.leafly.com/hybrid/longbottom-leaf/...   \n",
       "4  https://www.leafly.com/hybrid/longbottom-leaf/...   \n",
       "\n",
       "                                              review      strain_name  \\\n",
       "0  “40% head 60% body. Nice flavor 20 or 30 min b...           gorkle   \n",
       "1  “Love this strain. Happy, Calm, Relaxed but no...           gorkle   \n",
       "2  “Are you looking to get shire-smacked in the f...  longbottom-leaf   \n",
       "3  “Such a smooth smoke. Instant head high, very ...  longbottom-leaf   \n",
       "4  “I now truly understand the beauty of middle e...  longbottom-leaf   \n",
       "\n",
       "                                        clean_review  \n",
       "0   head body nice flavor or min before full affe...  \n",
       "1   love this strain happy calm relaxed but not g...  \n",
       "2   are you looking to get shire smacked in the f...  \n",
       "3   such a smooth smoke instant head high very me...  \n",
       "4   i now truly understand the beauty of middle e...  "
      ]
     },
     "execution_count": 33,
     "metadata": {},
     "output_type": "execute_result"
    }
   ],
   "source": [
    "strain_1.head(5)"
   ]
  },
  {
   "cell_type": "code",
   "execution_count": 34,
   "metadata": {
    "ExecuteTime": {
     "end_time": "2019-11-14T21:24:57.468678Z",
     "start_time": "2019-11-14T21:24:57.281255Z"
    }
   },
   "outputs": [
    {
     "data": {
      "text/html": [
       "<div>\n",
       "<style scoped>\n",
       "    .dataframe tbody tr th:only-of-type {\n",
       "        vertical-align: middle;\n",
       "    }\n",
       "\n",
       "    .dataframe tbody tr th {\n",
       "        vertical-align: top;\n",
       "    }\n",
       "\n",
       "    .dataframe thead th {\n",
       "        text-align: right;\n",
       "    }\n",
       "</style>\n",
       "<table border=\"1\" class=\"dataframe\">\n",
       "  <thead>\n",
       "    <tr style=\"text-align: right;\">\n",
       "      <th></th>\n",
       "      <th>_id</th>\n",
       "      <th>username</th>\n",
       "      <th>url</th>\n",
       "      <th>review</th>\n",
       "      <th>strain_name</th>\n",
       "      <th>clean_review</th>\n",
       "    </tr>\n",
       "  </thead>\n",
       "  <tbody>\n",
       "    <tr>\n",
       "      <th>169</th>\n",
       "      <td>5dc33349e1127a705e2ce322</td>\n",
       "      <td>Chill_Panda</td>\n",
       "      <td>https://www.leafly.com/indica/flaming-cookies/...</td>\n",
       "      <td>“This is a really great strain fire go which i...</td>\n",
       "      <td>flaming-cookies</td>\n",
       "      <td>this is a really great strain fire go which i...</td>\n",
       "    </tr>\n",
       "    <tr>\n",
       "      <th>178</th>\n",
       "      <td>5dc33349e1127a705e2ce32b</td>\n",
       "      <td>jakeprnhs</td>\n",
       "      <td>https://www.leafly.com/indica/flaming-cookies/...</td>\n",
       "      <td>“So what I smoked was called fire scouts. I be...</td>\n",
       "      <td>flaming-cookies</td>\n",
       "      <td>so what i smoked was called fire scouts i bel...</td>\n",
       "    </tr>\n",
       "    <tr>\n",
       "      <th>453</th>\n",
       "      <td>5dc33349e1127a705e2ce43e</td>\n",
       "      <td>MyJokerHandStayLIT</td>\n",
       "      <td>https://www.leafly.com/hybrid/slimer-og/review...</td>\n",
       "      <td>“Slymer or (Slimer) from Moxie! I’ve literally...</td>\n",
       "      <td>slimer-og</td>\n",
       "      <td>slymer or slimer from moxie i ve literally be...</td>\n",
       "    </tr>\n",
       "    <tr>\n",
       "      <th>683</th>\n",
       "      <td>5dc33349e1127a705e2ce524</td>\n",
       "      <td>OldLion</td>\n",
       "      <td>https://www.leafly.com/indica/afghani/reviews/...</td>\n",
       "      <td>“I was in the US Army for 3 years until I deci...</td>\n",
       "      <td>afghani</td>\n",
       "      <td>i was in the us army for years until i decide...</td>\n",
       "    </tr>\n",
       "    <tr>\n",
       "      <th>988</th>\n",
       "      <td>5dc33349e1127a705e2ce655</td>\n",
       "      <td>ducky518</td>\n",
       "      <td>https://www.leafly.com/indica/afghani/reviews/...</td>\n",
       "      <td>“My favorite strain, this shit is fire af🔥👌”</td>\n",
       "      <td>afghani</td>\n",
       "      <td>my favorite strain this shit is fire af</td>\n",
       "    </tr>\n",
       "    <tr>\n",
       "      <th>...</th>\n",
       "      <td>...</td>\n",
       "      <td>...</td>\n",
       "      <td>...</td>\n",
       "      <td>...</td>\n",
       "      <td>...</td>\n",
       "      <td>...</td>\n",
       "    </tr>\n",
       "    <tr>\n",
       "      <th>224187</th>\n",
       "      <td>5dc3335ee1127a705e304e34</td>\n",
       "      <td>moemiami</td>\n",
       "      <td>https://www.leafly.com/hybrid/irene-kush/revie...</td>\n",
       "      <td>“Great for daytime use.  My synapses fire so b...</td>\n",
       "      <td>irene-kush</td>\n",
       "      <td>great for daytime use my synapses fire so bea...</td>\n",
       "    </tr>\n",
       "    <tr>\n",
       "      <th>224334</th>\n",
       "      <td>5dc3335ee1127a705e304ec7</td>\n",
       "      <td>Statusdropout</td>\n",
       "      <td>https://www.leafly.com/hybrid/blue-magoo/revie...</td>\n",
       "      <td>“I enjoyed the white magoo. It was some good f...</td>\n",
       "      <td>blue-magoo</td>\n",
       "      <td>i enjoyed the white magoo it was some good fire</td>\n",
       "    </tr>\n",
       "    <tr>\n",
       "      <th>224455</th>\n",
       "      <td>5dc3335ee1127a705e304f40</td>\n",
       "      <td>McCaul</td>\n",
       "      <td>https://www.leafly.com/hybrid/blue-magoo/revie...</td>\n",
       "      <td>“this shit is fire as fuck can't keep it!”</td>\n",
       "      <td>blue-magoo</td>\n",
       "      <td>this shit is fire as fuck can t keep it</td>\n",
       "    </tr>\n",
       "    <tr>\n",
       "      <th>224556</th>\n",
       "      <td>5dc3335ee1127a705e304fa5</td>\n",
       "      <td>tiffpankey</td>\n",
       "      <td>https://www.leafly.com/hybrid/blue-magoo/revie...</td>\n",
       "      <td>“Acquired a premium harvest of this strain, 25...</td>\n",
       "      <td>blue-magoo</td>\n",
       "      <td>acquired a premium harvest of this strain thc...</td>\n",
       "    </tr>\n",
       "    <tr>\n",
       "      <th>224568</th>\n",
       "      <td>5dc3335ee1127a705e304fb1</td>\n",
       "      <td>dapperErl</td>\n",
       "      <td>https://www.leafly.com/hybrid/blue-magoo/revie...</td>\n",
       "      <td>“The Blue Magoo from Forbidden Farms is FIRE!!...</td>\n",
       "      <td>blue-magoo</td>\n",
       "      <td>the blue magoo from forbidden farms is fire n...</td>\n",
       "    </tr>\n",
       "  </tbody>\n",
       "</table>\n",
       "<p>1250 rows × 6 columns</p>\n",
       "</div>"
      ],
      "text/plain": [
       "                             _id            username  \\\n",
       "169     5dc33349e1127a705e2ce322         Chill_Panda   \n",
       "178     5dc33349e1127a705e2ce32b           jakeprnhs   \n",
       "453     5dc33349e1127a705e2ce43e  MyJokerHandStayLIT   \n",
       "683     5dc33349e1127a705e2ce524             OldLion   \n",
       "988     5dc33349e1127a705e2ce655            ducky518   \n",
       "...                          ...                 ...   \n",
       "224187  5dc3335ee1127a705e304e34            moemiami   \n",
       "224334  5dc3335ee1127a705e304ec7       Statusdropout   \n",
       "224455  5dc3335ee1127a705e304f40              McCaul   \n",
       "224556  5dc3335ee1127a705e304fa5          tiffpankey   \n",
       "224568  5dc3335ee1127a705e304fb1           dapperErl   \n",
       "\n",
       "                                                      url  \\\n",
       "169     https://www.leafly.com/indica/flaming-cookies/...   \n",
       "178     https://www.leafly.com/indica/flaming-cookies/...   \n",
       "453     https://www.leafly.com/hybrid/slimer-og/review...   \n",
       "683     https://www.leafly.com/indica/afghani/reviews/...   \n",
       "988     https://www.leafly.com/indica/afghani/reviews/...   \n",
       "...                                                   ...   \n",
       "224187  https://www.leafly.com/hybrid/irene-kush/revie...   \n",
       "224334  https://www.leafly.com/hybrid/blue-magoo/revie...   \n",
       "224455  https://www.leafly.com/hybrid/blue-magoo/revie...   \n",
       "224556  https://www.leafly.com/hybrid/blue-magoo/revie...   \n",
       "224568  https://www.leafly.com/hybrid/blue-magoo/revie...   \n",
       "\n",
       "                                                   review      strain_name  \\\n",
       "169     “This is a really great strain fire go which i...  flaming-cookies   \n",
       "178     “So what I smoked was called fire scouts. I be...  flaming-cookies   \n",
       "453     “Slymer or (Slimer) from Moxie! I’ve literally...        slimer-og   \n",
       "683     “I was in the US Army for 3 years until I deci...          afghani   \n",
       "988          “My favorite strain, this shit is fire af🔥👌”          afghani   \n",
       "...                                                   ...              ...   \n",
       "224187  “Great for daytime use.  My synapses fire so b...       irene-kush   \n",
       "224334  “I enjoyed the white magoo. It was some good f...       blue-magoo   \n",
       "224455         “this shit is fire as fuck can't keep it!”       blue-magoo   \n",
       "224556  “Acquired a premium harvest of this strain, 25...       blue-magoo   \n",
       "224568  “The Blue Magoo from Forbidden Farms is FIRE!!...       blue-magoo   \n",
       "\n",
       "                                             clean_review  \n",
       "169      this is a really great strain fire go which i...  \n",
       "178      so what i smoked was called fire scouts i bel...  \n",
       "453      slymer or slimer from moxie i ve literally be...  \n",
       "683      i was in the us army for years until i decide...  \n",
       "988              my favorite strain this shit is fire af   \n",
       "...                                                   ...  \n",
       "224187   great for daytime use my synapses fire so bea...  \n",
       "224334   i enjoyed the white magoo it was some good fire   \n",
       "224455           this shit is fire as fuck can t keep it   \n",
       "224556   acquired a premium harvest of this strain thc...  \n",
       "224568   the blue magoo from forbidden farms is fire n...  \n",
       "\n",
       "[1250 rows x 6 columns]"
      ]
     },
     "execution_count": 34,
     "metadata": {},
     "output_type": "execute_result"
    }
   ],
   "source": [
    "strain_1.loc[strain_1[\"review\"].str.contains(\"fire\")]"
   ]
  },
  {
   "cell_type": "code",
   "execution_count": 24,
   "metadata": {
    "ExecuteTime": {
     "end_time": "2019-11-14T21:19:37.521893Z",
     "start_time": "2019-11-14T21:19:37.493457Z"
    }
   },
   "outputs": [
    {
     "data": {
      "text/html": [
       "<div>\n",
       "<style scoped>\n",
       "    .dataframe tbody tr th:only-of-type {\n",
       "        vertical-align: middle;\n",
       "    }\n",
       "\n",
       "    .dataframe tbody tr th {\n",
       "        vertical-align: top;\n",
       "    }\n",
       "\n",
       "    .dataframe thead th {\n",
       "        text-align: right;\n",
       "    }\n",
       "</style>\n",
       "<table border=\"1\" class=\"dataframe\">\n",
       "  <thead>\n",
       "    <tr style=\"text-align: right;\">\n",
       "      <th></th>\n",
       "      <th>_id</th>\n",
       "      <th>username</th>\n",
       "      <th>url</th>\n",
       "      <th>review</th>\n",
       "      <th>strain_name</th>\n",
       "      <th>clean_review</th>\n",
       "    </tr>\n",
       "  </thead>\n",
       "  <tbody>\n",
       "    <tr>\n",
       "      <th>988</th>\n",
       "      <td>5dc33349e1127a705e2ce655</td>\n",
       "      <td>ducky518</td>\n",
       "      <td>https://www.leafly.com/indica/afghani/reviews/...</td>\n",
       "      <td>“My favorite strain, this shit is fire af🔥👌”</td>\n",
       "      <td>afghani</td>\n",
       "      <td>&lt;LancasterStemmer&gt;</td>\n",
       "    </tr>\n",
       "  </tbody>\n",
       "</table>\n",
       "</div>"
      ],
      "text/plain": [
       "                          _id  username  \\\n",
       "988  5dc33349e1127a705e2ce655  ducky518   \n",
       "\n",
       "                                                   url  \\\n",
       "988  https://www.leafly.com/indica/afghani/reviews/...   \n",
       "\n",
       "                                           review strain_name  \\\n",
       "988  “My favorite strain, this shit is fire af🔥👌”     afghani   \n",
       "\n",
       "           clean_review  \n",
       "988  <LancasterStemmer>  "
      ]
     },
     "execution_count": 24,
     "metadata": {},
     "output_type": "execute_result"
    }
   ],
   "source": [
    "strain_1.loc[strain_1[\"username\"]=='ducky518']"
   ]
  },
  {
   "cell_type": "code",
   "execution_count": 25,
   "metadata": {
    "ExecuteTime": {
     "end_time": "2019-11-14T21:19:37.617988Z",
     "start_time": "2019-11-14T21:19:37.524089Z"
    }
   },
   "outputs": [
    {
     "name": "stdout",
     "output_type": "stream",
     "text": [
      "<class 'pandas.core.frame.DataFrame'>\n",
      "Int64Index: 165928 entries, 0 to 224569\n",
      "Data columns (total 6 columns):\n",
      "_id             165928 non-null object\n",
      "username        165928 non-null object\n",
      "url             165928 non-null object\n",
      "review          165928 non-null object\n",
      "strain_name     165928 non-null object\n",
      "clean_review    165928 non-null object\n",
      "dtypes: object(6)\n",
      "memory usage: 8.9+ MB\n"
     ]
    }
   ],
   "source": [
    "strain_1.info()"
   ]
  },
  {
   "cell_type": "markdown",
   "metadata": {},
   "source": [
    "## LSA"
   ]
  },
  {
   "cell_type": "code",
   "execution_count": 26,
   "metadata": {
    "ExecuteTime": {
     "end_time": "2019-11-14T21:19:37.631657Z",
     "start_time": "2019-11-14T21:19:37.625688Z"
    }
   },
   "outputs": [],
   "source": [
    "stop_words = text.ENGLISH_STOP_WORDS.union([\"little\",\"great\",\"love\",\"happy\",\"effects\",\"time\",\"feel\",\"feeling\",\"definitely\",\"strains\",\"pretty\",\"good\",\"indica\",\"sativa\",\"high\",\"strain\",\"like\",\"smoke\",\"buds\",\"bud\",\"just\",\"smoking\",\"smoke\",\"really\",\"pretty\",\"makes\",\"ve\",\"got\"])"
   ]
  },
  {
   "cell_type": "code",
   "execution_count": 27,
   "metadata": {
    "ExecuteTime": {
     "end_time": "2019-11-14T21:19:37.896473Z",
     "start_time": "2019-11-14T21:19:37.633628Z"
    }
   },
   "outputs": [
    {
     "ename": "AttributeError",
     "evalue": "'LancasterStemmer' object has no attribute 'lower'",
     "output_type": "error",
     "traceback": [
      "\u001b[0;31m---------------------------------------------------------------------------\u001b[0m",
      "\u001b[0;31mAttributeError\u001b[0m                            Traceback (most recent call last)",
      "\u001b[0;32m<ipython-input-27-b945077abde4>\u001b[0m in \u001b[0;36m<module>\u001b[0;34m\u001b[0m\n\u001b[1;32m      1\u001b[0m \u001b[0mvectorizer\u001b[0m \u001b[0;34m=\u001b[0m \u001b[0mCountVectorizer\u001b[0m\u001b[0;34m(\u001b[0m\u001b[0mstop_words\u001b[0m\u001b[0;34m=\u001b[0m\u001b[0mstop_words\u001b[0m\u001b[0;34m,\u001b[0m\u001b[0mmax_df\u001b[0m\u001b[0;34m=\u001b[0m\u001b[0;36m.7\u001b[0m\u001b[0;34m,\u001b[0m\u001b[0mmin_df\u001b[0m\u001b[0;34m=\u001b[0m\u001b[0;36m.045\u001b[0m\u001b[0;34m,\u001b[0m\u001b[0mngram_range\u001b[0m\u001b[0;34m=\u001b[0m\u001b[0;34m(\u001b[0m\u001b[0;36m1\u001b[0m\u001b[0;34m,\u001b[0m \u001b[0;36m2\u001b[0m\u001b[0;34m)\u001b[0m\u001b[0;34m)\u001b[0m\u001b[0;34m\u001b[0m\u001b[0;34m\u001b[0m\u001b[0m\n\u001b[0;32m----> 2\u001b[0;31m \u001b[0mdoc_word\u001b[0m \u001b[0;34m=\u001b[0m \u001b[0mvectorizer\u001b[0m\u001b[0;34m.\u001b[0m\u001b[0mfit_transform\u001b[0m\u001b[0;34m(\u001b[0m\u001b[0mstrain_1\u001b[0m\u001b[0;34m[\u001b[0m\u001b[0;34m'clean_review'\u001b[0m\u001b[0;34m]\u001b[0m\u001b[0;34m)\u001b[0m\u001b[0;34m\u001b[0m\u001b[0;34m\u001b[0m\u001b[0m\n\u001b[0m\u001b[1;32m      3\u001b[0m \u001b[0mdoc_word\u001b[0m\u001b[0;34m\u001b[0m\u001b[0;34m\u001b[0m\u001b[0m\n",
      "\u001b[0;32m//anaconda3/envs/metis/lib/python3.7/site-packages/sklearn/feature_extraction/text.py\u001b[0m in \u001b[0;36mfit_transform\u001b[0;34m(self, raw_documents, y)\u001b[0m\n\u001b[1;32m   1056\u001b[0m \u001b[0;34m\u001b[0m\u001b[0m\n\u001b[1;32m   1057\u001b[0m         vocabulary, X = self._count_vocab(raw_documents,\n\u001b[0;32m-> 1058\u001b[0;31m                                           self.fixed_vocabulary_)\n\u001b[0m\u001b[1;32m   1059\u001b[0m \u001b[0;34m\u001b[0m\u001b[0m\n\u001b[1;32m   1060\u001b[0m         \u001b[0;32mif\u001b[0m \u001b[0mself\u001b[0m\u001b[0;34m.\u001b[0m\u001b[0mbinary\u001b[0m\u001b[0;34m:\u001b[0m\u001b[0;34m\u001b[0m\u001b[0;34m\u001b[0m\u001b[0m\n",
      "\u001b[0;32m//anaconda3/envs/metis/lib/python3.7/site-packages/sklearn/feature_extraction/text.py\u001b[0m in \u001b[0;36m_count_vocab\u001b[0;34m(self, raw_documents, fixed_vocab)\u001b[0m\n\u001b[1;32m    968\u001b[0m         \u001b[0;32mfor\u001b[0m \u001b[0mdoc\u001b[0m \u001b[0;32min\u001b[0m \u001b[0mraw_documents\u001b[0m\u001b[0;34m:\u001b[0m\u001b[0;34m\u001b[0m\u001b[0;34m\u001b[0m\u001b[0m\n\u001b[1;32m    969\u001b[0m             \u001b[0mfeature_counter\u001b[0m \u001b[0;34m=\u001b[0m \u001b[0;34m{\u001b[0m\u001b[0;34m}\u001b[0m\u001b[0;34m\u001b[0m\u001b[0;34m\u001b[0m\u001b[0m\n\u001b[0;32m--> 970\u001b[0;31m             \u001b[0;32mfor\u001b[0m \u001b[0mfeature\u001b[0m \u001b[0;32min\u001b[0m \u001b[0manalyze\u001b[0m\u001b[0;34m(\u001b[0m\u001b[0mdoc\u001b[0m\u001b[0;34m)\u001b[0m\u001b[0;34m:\u001b[0m\u001b[0;34m\u001b[0m\u001b[0;34m\u001b[0m\u001b[0m\n\u001b[0m\u001b[1;32m    971\u001b[0m                 \u001b[0;32mtry\u001b[0m\u001b[0;34m:\u001b[0m\u001b[0;34m\u001b[0m\u001b[0;34m\u001b[0m\u001b[0m\n\u001b[1;32m    972\u001b[0m                     \u001b[0mfeature_idx\u001b[0m \u001b[0;34m=\u001b[0m \u001b[0mvocabulary\u001b[0m\u001b[0;34m[\u001b[0m\u001b[0mfeature\u001b[0m\u001b[0;34m]\u001b[0m\u001b[0;34m\u001b[0m\u001b[0;34m\u001b[0m\u001b[0m\n",
      "\u001b[0;32m//anaconda3/envs/metis/lib/python3.7/site-packages/sklearn/feature_extraction/text.py\u001b[0m in \u001b[0;36m<lambda>\u001b[0;34m(doc)\u001b[0m\n\u001b[1;32m    350\u001b[0m                                                tokenize)\n\u001b[1;32m    351\u001b[0m             return lambda doc: self._word_ngrams(\n\u001b[0;32m--> 352\u001b[0;31m                 tokenize(preprocess(self.decode(doc))), stop_words)\n\u001b[0m\u001b[1;32m    353\u001b[0m \u001b[0;34m\u001b[0m\u001b[0m\n\u001b[1;32m    354\u001b[0m         \u001b[0;32melse\u001b[0m\u001b[0;34m:\u001b[0m\u001b[0;34m\u001b[0m\u001b[0;34m\u001b[0m\u001b[0m\n",
      "\u001b[0;32m//anaconda3/envs/metis/lib/python3.7/site-packages/sklearn/feature_extraction/text.py\u001b[0m in \u001b[0;36m<lambda>\u001b[0;34m(x)\u001b[0m\n\u001b[1;32m    254\u001b[0m \u001b[0;34m\u001b[0m\u001b[0m\n\u001b[1;32m    255\u001b[0m         \u001b[0;32mif\u001b[0m \u001b[0mself\u001b[0m\u001b[0;34m.\u001b[0m\u001b[0mlowercase\u001b[0m\u001b[0;34m:\u001b[0m\u001b[0;34m\u001b[0m\u001b[0;34m\u001b[0m\u001b[0m\n\u001b[0;32m--> 256\u001b[0;31m             \u001b[0;32mreturn\u001b[0m \u001b[0;32mlambda\u001b[0m \u001b[0mx\u001b[0m\u001b[0;34m:\u001b[0m \u001b[0mstrip_accents\u001b[0m\u001b[0;34m(\u001b[0m\u001b[0mx\u001b[0m\u001b[0;34m.\u001b[0m\u001b[0mlower\u001b[0m\u001b[0;34m(\u001b[0m\u001b[0;34m)\u001b[0m\u001b[0;34m)\u001b[0m\u001b[0;34m\u001b[0m\u001b[0;34m\u001b[0m\u001b[0m\n\u001b[0m\u001b[1;32m    257\u001b[0m         \u001b[0;32melse\u001b[0m\u001b[0;34m:\u001b[0m\u001b[0;34m\u001b[0m\u001b[0;34m\u001b[0m\u001b[0m\n\u001b[1;32m    258\u001b[0m             \u001b[0;32mreturn\u001b[0m \u001b[0mstrip_accents\u001b[0m\u001b[0;34m\u001b[0m\u001b[0;34m\u001b[0m\u001b[0m\n",
      "\u001b[0;31mAttributeError\u001b[0m: 'LancasterStemmer' object has no attribute 'lower'"
     ]
    }
   ],
   "source": [
    "vectorizer = CountVectorizer(stop_words=stop_words,max_df=.7,min_df=.045,ngram_range=(1, 2))\n",
    "doc_word = vectorizer.fit_transform(strain_1['clean_review'])\n",
    "doc_word"
   ]
  },
  {
   "cell_type": "code",
   "execution_count": null,
   "metadata": {
    "ExecuteTime": {
     "end_time": "2019-11-14T21:19:37.900184Z",
     "start_time": "2019-11-14T21:19:15.991Z"
    }
   },
   "outputs": [],
   "source": [
    "lsa = TruncatedSVD(5)\n",
    "doc_topic = lsa.fit_transform(doc_word)\n",
    "lsa.explained_variance_ratio_"
   ]
  },
  {
   "cell_type": "code",
   "execution_count": null,
   "metadata": {
    "ExecuteTime": {
     "end_time": "2019-11-14T21:19:37.902407Z",
     "start_time": "2019-11-14T21:19:15.994Z"
    }
   },
   "outputs": [],
   "source": [
    "topic_word = pd.DataFrame(lsa.components_.round(4),\n",
    "             index = [\"component_1\",\"component_2\",\"component_3\",\"component_4\",\"component_5\"],\n",
    "             columns = vectorizer.get_feature_names())\n",
    "topic_word"
   ]
  },
  {
   "cell_type": "code",
   "execution_count": null,
   "metadata": {
    "ExecuteTime": {
     "end_time": "2019-11-14T21:19:37.905662Z",
     "start_time": "2019-11-14T21:19:15.995Z"
    }
   },
   "outputs": [],
   "source": [
    "def display_topics(model, feature_names, no_top_words, topic_names=None):\n",
    "    for ix, topic in enumerate(model.components_):\n",
    "        if not topic_names or not topic_names[ix]:\n",
    "            print(\"\\nTopic \", ix)\n",
    "        else:\n",
    "            print(\"\\nTopic: '\",topic_names[ix],\"'\")\n",
    "        print(\", \".join([feature_names[i]\n",
    "                        for i in topic.argsort()[:-no_top_words - 1:-1]]))"
   ]
  },
  {
   "cell_type": "code",
   "execution_count": null,
   "metadata": {
    "ExecuteTime": {
     "end_time": "2019-11-14T21:19:37.908006Z",
     "start_time": "2019-11-14T21:19:15.997Z"
    }
   },
   "outputs": [],
   "source": [
    "display_topics(lsa, vectorizer.get_feature_names(), 10)"
   ]
  },
  {
   "cell_type": "code",
   "execution_count": null,
   "metadata": {
    "ExecuteTime": {
     "end_time": "2019-11-14T21:19:37.912497Z",
     "start_time": "2019-11-14T21:19:15.999Z"
    }
   },
   "outputs": [],
   "source": [
    "Vt = pd.DataFrame(doc_topic.round(4),\n",
    "             index = strain_1['clean_review'],\n",
    "             columns = [\"component_1\",\"component_2\",\"component_3\",\"component_4\"])\n",
    "Vt"
   ]
  },
  {
   "cell_type": "markdown",
   "metadata": {},
   "source": [
    "## NMF"
   ]
  },
  {
   "cell_type": "code",
   "execution_count": null,
   "metadata": {
    "ExecuteTime": {
     "end_time": "2019-11-14T21:19:37.914735Z",
     "start_time": "2019-11-14T21:19:16.001Z"
    }
   },
   "outputs": [],
   "source": [
    "nmf_model = NMF(3)\n",
    "doc_topic = nmf_model.fit_transform(doc_word)"
   ]
  },
  {
   "cell_type": "code",
   "execution_count": null,
   "metadata": {
    "ExecuteTime": {
     "end_time": "2019-11-14T21:19:37.917046Z",
     "start_time": "2019-11-14T21:19:16.003Z"
    }
   },
   "outputs": [],
   "source": [
    "topic_word = pd.DataFrame(nmf_model.components_.round(3),\n",
    "             index = [\"component_1\",\"component_2\",\"component_3\"],\n",
    "             columns = vectorizer.get_feature_names())\n",
    "topic_word"
   ]
  },
  {
   "cell_type": "code",
   "execution_count": null,
   "metadata": {
    "ExecuteTime": {
     "end_time": "2019-11-14T21:19:37.922896Z",
     "start_time": "2019-11-14T21:19:16.004Z"
    }
   },
   "outputs": [],
   "source": [
    "display_topics(nmf_model, vectorizer.get_feature_names(), 5)"
   ]
  },
  {
   "cell_type": "code",
   "execution_count": null,
   "metadata": {
    "ExecuteTime": {
     "end_time": "2019-11-14T21:19:37.925788Z",
     "start_time": "2019-11-14T21:19:16.006Z"
    }
   },
   "outputs": [],
   "source": [
    "H = pd.DataFrame(doc_topic.round(5),\n",
    "             index = strain_1['clean_review'],\n",
    "             columns = [\"component_1\",\"component_2\",\"component_3\" ])\n",
    "H"
   ]
  },
  {
   "cell_type": "code",
   "execution_count": null,
   "metadata": {
    "ExecuteTime": {
     "end_time": "2019-11-14T21:19:37.928105Z",
     "start_time": "2019-11-14T21:19:16.009Z"
    }
   },
   "outputs": [],
   "source": [
    "doc_word2=doc_word.copy()\n",
    "doc_word2 = pd.DataFrame(doc_word2.toarray())"
   ]
  },
  {
   "cell_type": "code",
   "execution_count": null,
   "metadata": {
    "ExecuteTime": {
     "end_time": "2019-11-14T21:19:37.930976Z",
     "start_time": "2019-11-14T21:19:16.011Z"
    }
   },
   "outputs": [],
   "source": [
    "doc_word2['strain_name'] = strain_1[\"strain_name\"]\n"
   ]
  },
  {
   "cell_type": "code",
   "execution_count": null,
   "metadata": {
    "ExecuteTime": {
     "end_time": "2019-11-14T21:19:37.938093Z",
     "start_time": "2019-11-14T21:19:16.013Z"
    }
   },
   "outputs": [],
   "source": [
    "doc_word2.shape"
   ]
  },
  {
   "cell_type": "code",
   "execution_count": null,
   "metadata": {
    "ExecuteTime": {
     "end_time": "2019-11-14T21:19:37.941557Z",
     "start_time": "2019-11-14T21:19:16.015Z"
    }
   },
   "outputs": [],
   "source": [
    "doc_word2.head()"
   ]
  },
  {
   "cell_type": "code",
   "execution_count": null,
   "metadata": {
    "ExecuteTime": {
     "end_time": "2019-11-14T21:19:37.943746Z",
     "start_time": "2019-11-14T21:19:16.018Z"
    }
   },
   "outputs": [],
   "source": [
    "strain_groupby=doc_word2.groupby(['strain_name']).sum()\n",
    "strain_groupby"
   ]
  },
  {
   "cell_type": "code",
   "execution_count": null,
   "metadata": {
    "ExecuteTime": {
     "end_time": "2019-11-14T21:19:37.947651Z",
     "start_time": "2019-11-14T21:19:16.019Z"
    }
   },
   "outputs": [],
   "source": [
    "tfidf_transformer=TfidfTransformer(smooth_idf=True,use_idf=True)\n",
    "tfidf_transformer.fit(strain_groupby)\n"
   ]
  },
  {
   "cell_type": "code",
   "execution_count": null,
   "metadata": {
    "ExecuteTime": {
     "end_time": "2019-11-14T21:19:37.950064Z",
     "start_time": "2019-11-14T21:19:16.021Z"
    }
   },
   "outputs": [],
   "source": [
    "doc_word_2 = tfidf_transformer.fit_transform(strain_groupby)\n",
    "doc_word_2"
   ]
  },
  {
   "cell_type": "code",
   "execution_count": null,
   "metadata": {
    "ExecuteTime": {
     "end_time": "2019-11-14T21:19:37.953348Z",
     "start_time": "2019-11-14T21:19:16.023Z"
    }
   },
   "outputs": [],
   "source": [
    "lsa = TruncatedSVD(4)\n",
    "doc_topic = lsa.fit_transform(doc_word_2)\n",
    "lsa.explained_variance_ratio_"
   ]
  },
  {
   "cell_type": "code",
   "execution_count": null,
   "metadata": {
    "ExecuteTime": {
     "end_time": "2019-11-14T21:19:37.956786Z",
     "start_time": "2019-11-14T21:19:16.026Z"
    }
   },
   "outputs": [],
   "source": [
    "topic_word = pd.DataFrame(lsa.components_.round(4),\n",
    "             index = [\"component_1\",\"component_2\",\"component_3\",\"component_4\"],\n",
    "             columns = vectorizer.get_feature_names())\n",
    "topic_word"
   ]
  },
  {
   "cell_type": "code",
   "execution_count": null,
   "metadata": {
    "ExecuteTime": {
     "end_time": "2019-11-14T21:19:37.959558Z",
     "start_time": "2019-11-14T21:19:16.028Z"
    }
   },
   "outputs": [],
   "source": [
    "def display_topics(model, feature_names, no_top_words, topic_names=None):\n",
    "    for ix, topic in enumerate(model.components_):\n",
    "        if not topic_names or not topic_names[ix]:\n",
    "            print(\"\\nTopic \", ix)\n",
    "        else:\n",
    "            print(\"\\nTopic: '\",topic_names[ix],\"'\")\n",
    "        print(\", \".join([feature_names[i]\n",
    "                        for i in topic.argsort()[:-no_top_words - 1:-1]]))"
   ]
  },
  {
   "cell_type": "code",
   "execution_count": null,
   "metadata": {
    "ExecuteTime": {
     "end_time": "2019-11-14T21:19:37.962796Z",
     "start_time": "2019-11-14T21:19:16.030Z"
    }
   },
   "outputs": [],
   "source": [
    "display_topics(lsa, vectorizer.get_feature_names(), 10)"
   ]
  },
  {
   "cell_type": "code",
   "execution_count": null,
   "metadata": {},
   "outputs": [],
   "source": []
  },
  {
   "cell_type": "code",
   "execution_count": null,
   "metadata": {
    "ExecuteTime": {
     "end_time": "2019-11-14T21:19:37.965014Z",
     "start_time": "2019-11-14T21:19:16.033Z"
    }
   },
   "outputs": [],
   "source": [
    "from sklearn.preprocessing import StandardScaler"
   ]
  },
  {
   "cell_type": "code",
   "execution_count": null,
   "metadata": {
    "ExecuteTime": {
     "end_time": "2019-11-14T21:19:37.970657Z",
     "start_time": "2019-11-14T21:19:16.035Z"
    }
   },
   "outputs": [],
   "source": [
    "sscale = StandardScaler()"
   ]
  },
  {
   "cell_type": "code",
   "execution_count": null,
   "metadata": {
    "ExecuteTime": {
     "end_time": "2019-11-14T21:19:37.973744Z",
     "start_time": "2019-11-14T21:19:16.037Z"
    }
   },
   "outputs": [],
   "source": [
    "pd.DataFrame(doc_topic)"
   ]
  },
  {
   "cell_type": "code",
   "execution_count": null,
   "metadata": {
    "ExecuteTime": {
     "end_time": "2019-11-14T21:19:37.976176Z",
     "start_time": "2019-11-14T21:19:16.038Z"
    }
   },
   "outputs": [],
   "source": [
    "strain_cosine=pd.DataFrame(cosine_similarity(doc_topic),columns=strain_groupby.index.values,index=strain_groupby.index.values)"
   ]
  },
  {
   "cell_type": "code",
   "execution_count": null,
   "metadata": {
    "ExecuteTime": {
     "end_time": "2019-11-14T21:19:37.979893Z",
     "start_time": "2019-11-14T21:19:16.040Z"
    }
   },
   "outputs": [],
   "source": [
    "strain_cosine['gelato'].sort_values(ascending=False)"
   ]
  },
  {
   "cell_type": "code",
   "execution_count": null,
   "metadata": {
    "ExecuteTime": {
     "end_time": "2019-11-14T21:19:37.982824Z",
     "start_time": "2019-11-14T21:19:16.042Z"
    }
   },
   "outputs": [],
   "source": [
    "lsa.explained_variance_ratio_"
   ]
  },
  {
   "cell_type": "markdown",
   "metadata": {},
   "source": [
    "## LDA"
   ]
  },
  {
   "cell_type": "code",
   "execution_count": null,
   "metadata": {
    "ExecuteTime": {
     "end_time": "2019-11-14T21:19:37.985019Z",
     "start_time": "2019-11-14T21:19:16.044Z"
    }
   },
   "outputs": [],
   "source": [
    "strain_sparse=csc_matrix(strain_groupby)"
   ]
  },
  {
   "cell_type": "code",
   "execution_count": null,
   "metadata": {
    "ExecuteTime": {
     "end_time": "2019-11-14T21:19:37.988525Z",
     "start_time": "2019-11-14T21:19:16.045Z"
    }
   },
   "outputs": [],
   "source": [
    "strain_sparse.shape"
   ]
  },
  {
   "cell_type": "code",
   "execution_count": null,
   "metadata": {
    "ExecuteTime": {
     "end_time": "2019-11-14T21:19:37.991446Z",
     "start_time": "2019-11-14T21:19:16.048Z"
    }
   },
   "outputs": [],
   "source": [
    "strain_sparse"
   ]
  },
  {
   "cell_type": "code",
   "execution_count": null,
   "metadata": {
    "ExecuteTime": {
     "end_time": "2019-11-14T21:19:37.993882Z",
     "start_time": "2019-11-14T21:19:16.051Z"
    }
   },
   "outputs": [],
   "source": [
    "corpus = matutils.Sparse2Corpus(strain_sparse)"
   ]
  },
  {
   "cell_type": "code",
   "execution_count": null,
   "metadata": {
    "ExecuteTime": {
     "end_time": "2019-11-14T21:19:37.997741Z",
     "start_time": "2019-11-14T21:19:16.053Z"
    }
   },
   "outputs": [],
   "source": [
    "lda = models.LdaModel(corpus=corpus, num_topics=3, id2word=id2word, passes=5)"
   ]
  },
  {
   "cell_type": "code",
   "execution_count": null,
   "metadata": {
    "ExecuteTime": {
     "end_time": "2019-11-14T21:19:38.005950Z",
     "start_time": "2019-11-14T21:19:16.055Z"
    }
   },
   "outputs": [],
   "source": [
    "len(id2word)"
   ]
  },
  {
   "cell_type": "code",
   "execution_count": null,
   "metadata": {
    "ExecuteTime": {
     "end_time": "2019-11-14T21:19:38.014778Z",
     "start_time": "2019-11-14T21:19:16.056Z"
    }
   },
   "outputs": [],
   "source": [
    "lda = models.LdaModel(corpus=corpus, num_topics=3,passes=5)"
   ]
  },
  {
   "cell_type": "markdown",
   "metadata": {},
   "source": [
    "## LDA with Sklearn"
   ]
  },
  {
   "cell_type": "code",
   "execution_count": null,
   "metadata": {
    "ExecuteTime": {
     "end_time": "2019-11-14T21:19:38.017901Z",
     "start_time": "2019-11-14T21:19:16.059Z"
    }
   },
   "outputs": [],
   "source": [
    "lda_model = LatentDirichletAllocation(n_components=4,max_iter=100)\n",
    "lda_doc_topics=lda_model.fit_transform(strain_groupby)"
   ]
  },
  {
   "cell_type": "code",
   "execution_count": null,
   "metadata": {
    "ExecuteTime": {
     "end_time": "2019-11-14T21:19:38.020169Z",
     "start_time": "2019-11-14T21:19:16.061Z"
    }
   },
   "outputs": [],
   "source": [
    "lda_model.components_[0]"
   ]
  },
  {
   "cell_type": "code",
   "execution_count": null,
   "metadata": {
    "ExecuteTime": {
     "end_time": "2019-11-14T21:19:38.026571Z",
     "start_time": "2019-11-14T21:19:16.062Z"
    }
   },
   "outputs": [],
   "source": [
    "len(lda_model.components_)"
   ]
  },
  {
   "cell_type": "code",
   "execution_count": null,
   "metadata": {
    "ExecuteTime": {
     "end_time": "2019-11-14T21:19:38.030462Z",
     "start_time": "2019-11-14T21:19:16.064Z"
    }
   },
   "outputs": [],
   "source": [
    "topic_word_lda = pd.DataFrame(lda_model.components_.round(4),\n",
    "             index = [\"component_1\",\"component_2\",\"component_3\",\"component_4\"],\n",
    "             columns = vectorizer.get_feature_names())\n",
    "topic_word_lda"
   ]
  },
  {
   "cell_type": "code",
   "execution_count": null,
   "metadata": {
    "ExecuteTime": {
     "end_time": "2019-11-14T21:19:38.033155Z",
     "start_time": "2019-11-14T21:19:16.066Z"
    }
   },
   "outputs": [],
   "source": [
    "display_topics(lda_model, vectorizer.get_feature_names(), 10)"
   ]
  },
  {
   "cell_type": "code",
   "execution_count": null,
   "metadata": {},
   "outputs": [],
   "source": []
  }
 ],
 "metadata": {
  "kernelspec": {
   "display_name": "Python [conda env:metis]",
   "language": "python",
   "name": "conda-env-metis-py"
  },
  "language_info": {
   "codemirror_mode": {
    "name": "ipython",
    "version": 3
   },
   "file_extension": ".py",
   "mimetype": "text/x-python",
   "name": "python",
   "nbconvert_exporter": "python",
   "pygments_lexer": "ipython3",
   "version": "3.7.3"
  },
  "toc": {
   "base_numbering": 1,
   "nav_menu": {},
   "number_sections": true,
   "sideBar": true,
   "skip_h1_title": false,
   "title_cell": "Table of Contents",
   "title_sidebar": "Contents",
   "toc_cell": false,
   "toc_position": {
    "height": "calc(100% - 180px)",
    "left": "10px",
    "top": "150px",
    "width": "165px"
   },
   "toc_section_display": true,
   "toc_window_display": true
  }
 },
 "nbformat": 4,
 "nbformat_minor": 2
}
